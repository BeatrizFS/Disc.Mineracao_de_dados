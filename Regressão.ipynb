{
  "cells": [
    {
      "cell_type": "markdown",
      "metadata": {
        "id": "NtM8n9q4rgPX"
      },
      "source": [
        "##Escolha do dataset\n",
        "<p>\n",
        "https://www.kaggle.com/datasets/sidhus/crab-age-prediction\n",
        "<p>\n",
        "Atributos físicos de Caranguejos encontrados na área de Boston"
      ]
    },
    {
      "cell_type": "markdown",
      "metadata": {
        "id": "1LdI08Forf8O"
      },
      "source": [
        "##Entendimento do negócio\n",
        "* Objetivo: Prever a idade do caranguejo com base nos atributos físicos.\n",
        "\n",
        "Muitos países do mundo importam uma enorme quantidade de caranguejos para consumo todos os anos. O negócio comercial de cultivo de caranguejos está desenvolvendo o estilo de vida das pessoas das áreas costeiras.\n",
        "Para um pescador comercial de caranguejos saber a idade certa do caranguejo ajuda-os a decidir quando colher os caranguejos. Além de uma certa idade, há um crescimento insignificante nas características físicas do caranguejo e, portanto, é importante cronometrar a colheita para reduzir custos e aumentar o lucro."
      ]
    },
    {
      "cell_type": "markdown",
      "metadata": {
        "id": "7k5ZBNJNrrOd"
      },
      "source": [
        "##Entendimento dos dados\n",
        "\n",
        "* Sexo: Gênero do caranguejo (Masculino, Feminino, Indefinido)\n",
        "* Comprimento: Comprimento do caranguejo\n",
        "* Diâmetro: Diâmetro do caranguejo\n",
        "* Altura: Altura do caranguejo\n",
        "* Peso: Peso do caranguejo\n",
        "* Peso Descascado: Peso do caranguejo sem casca\n",
        "* Peso das vísceras: é o peso que envolve seus órgãos abdominais profundamente dentro do corpo\n",
        "* Peso do casco: Peso do casco\n",
        "* Idade: Idade do caranguejo em meses"
      ]
    },
    {
      "cell_type": "markdown",
      "metadata": {
        "id": "qr66EIyT-g0l"
      },
      "source": [
        "\n",
        "*   Apresentar gráficos e métricas de avaliação de atributos"
      ]
    },
    {
      "cell_type": "code",
      "execution_count": null,
      "metadata": {
        "id": "TWWhHWTC-dCs"
      },
      "outputs": [],
      "source": [
        "import pandas as pd\n",
        "import matplotlib.pyplot as plt\n",
        "import numpy as np\n",
        "import seaborn as sns "
      ]
    },
    {
      "cell_type": "code",
      "execution_count": null,
      "metadata": {
        "id": "wJNTJf95-_DD"
      },
      "outputs": [],
      "source": [
        "!unzip '/content/caranguejo.zip'"
      ]
    },
    {
      "cell_type": "code",
      "execution_count": null,
      "metadata": {
        "id": "nz5oWijo_Ckj"
      },
      "outputs": [],
      "source": [
        "data = pd.read_csv('/content/CrabAgePrediction.csv')"
      ]
    },
    {
      "cell_type": "code",
      "execution_count": null,
      "metadata": {
        "colab": {
          "base_uri": "https://localhost:8080/"
        },
        "id": "ax0HDs_xAnxZ",
        "outputId": "d72eeed5-266d-4a03-fc8f-8e89ffb2cc0d"
      },
      "outputs": [
        {
          "output_type": "stream",
          "name": "stdout",
          "text": [
            "<class 'pandas.core.frame.DataFrame'>\n",
            "RangeIndex: 3893 entries, 0 to 3892\n",
            "Data columns (total 9 columns):\n",
            " #   Column          Non-Null Count  Dtype  \n",
            "---  ------          --------------  -----  \n",
            " 0   Sex             3893 non-null   object \n",
            " 1   Length          3893 non-null   float64\n",
            " 2   Diameter        3893 non-null   float64\n",
            " 3   Height          3893 non-null   float64\n",
            " 4   Weight          3893 non-null   float64\n",
            " 5   Shucked Weight  3893 non-null   float64\n",
            " 6   Viscera Weight  3893 non-null   float64\n",
            " 7   Shell Weight    3893 non-null   float64\n",
            " 8   Age             3893 non-null   int64  \n",
            "dtypes: float64(7), int64(1), object(1)\n",
            "memory usage: 273.9+ KB\n"
          ]
        }
      ],
      "source": [
        "data.info()"
      ]
    },
    {
      "cell_type": "code",
      "execution_count": null,
      "metadata": {
        "colab": {
          "base_uri": "https://localhost:8080/",
          "height": 206
        },
        "id": "pDqvv3mHA468",
        "outputId": "a9249d6d-0fca-4e19-974e-7186cdf40f67"
      },
      "outputs": [
        {
          "output_type": "execute_result",
          "data": {
            "text/plain": [
              "  Sex  Length  Diameter  Height     Weight  Shucked Weight  Viscera Weight  \\\n",
              "0   F  1.4375    1.1750  0.4125  24.635715       12.332033        5.584852   \n",
              "1   M  0.8875    0.6500  0.2125   5.400580        2.296310        1.374951   \n",
              "2   I  1.0375    0.7750  0.2500   7.952035        3.231843        1.601747   \n",
              "3   F  1.1750    0.8875  0.2500  13.480187        4.748541        2.282135   \n",
              "4   I  0.8875    0.6625  0.2125   6.903103        3.458639        1.488349   \n",
              "\n",
              "   Shell Weight  Age  \n",
              "0      6.747181    9  \n",
              "1      1.559222    6  \n",
              "2      2.764076    6  \n",
              "3      5.244657   10  \n",
              "4      1.700970    6  "
            ],
            "text/html": [
              "\n",
              "  <div id=\"df-0f08cd87-c2b6-41de-bea9-ea2ab84ab617\">\n",
              "    <div class=\"colab-df-container\">\n",
              "      <div>\n",
              "<style scoped>\n",
              "    .dataframe tbody tr th:only-of-type {\n",
              "        vertical-align: middle;\n",
              "    }\n",
              "\n",
              "    .dataframe tbody tr th {\n",
              "        vertical-align: top;\n",
              "    }\n",
              "\n",
              "    .dataframe thead th {\n",
              "        text-align: right;\n",
              "    }\n",
              "</style>\n",
              "<table border=\"1\" class=\"dataframe\">\n",
              "  <thead>\n",
              "    <tr style=\"text-align: right;\">\n",
              "      <th></th>\n",
              "      <th>Sex</th>\n",
              "      <th>Length</th>\n",
              "      <th>Diameter</th>\n",
              "      <th>Height</th>\n",
              "      <th>Weight</th>\n",
              "      <th>Shucked Weight</th>\n",
              "      <th>Viscera Weight</th>\n",
              "      <th>Shell Weight</th>\n",
              "      <th>Age</th>\n",
              "    </tr>\n",
              "  </thead>\n",
              "  <tbody>\n",
              "    <tr>\n",
              "      <th>0</th>\n",
              "      <td>F</td>\n",
              "      <td>1.4375</td>\n",
              "      <td>1.1750</td>\n",
              "      <td>0.4125</td>\n",
              "      <td>24.635715</td>\n",
              "      <td>12.332033</td>\n",
              "      <td>5.584852</td>\n",
              "      <td>6.747181</td>\n",
              "      <td>9</td>\n",
              "    </tr>\n",
              "    <tr>\n",
              "      <th>1</th>\n",
              "      <td>M</td>\n",
              "      <td>0.8875</td>\n",
              "      <td>0.6500</td>\n",
              "      <td>0.2125</td>\n",
              "      <td>5.400580</td>\n",
              "      <td>2.296310</td>\n",
              "      <td>1.374951</td>\n",
              "      <td>1.559222</td>\n",
              "      <td>6</td>\n",
              "    </tr>\n",
              "    <tr>\n",
              "      <th>2</th>\n",
              "      <td>I</td>\n",
              "      <td>1.0375</td>\n",
              "      <td>0.7750</td>\n",
              "      <td>0.2500</td>\n",
              "      <td>7.952035</td>\n",
              "      <td>3.231843</td>\n",
              "      <td>1.601747</td>\n",
              "      <td>2.764076</td>\n",
              "      <td>6</td>\n",
              "    </tr>\n",
              "    <tr>\n",
              "      <th>3</th>\n",
              "      <td>F</td>\n",
              "      <td>1.1750</td>\n",
              "      <td>0.8875</td>\n",
              "      <td>0.2500</td>\n",
              "      <td>13.480187</td>\n",
              "      <td>4.748541</td>\n",
              "      <td>2.282135</td>\n",
              "      <td>5.244657</td>\n",
              "      <td>10</td>\n",
              "    </tr>\n",
              "    <tr>\n",
              "      <th>4</th>\n",
              "      <td>I</td>\n",
              "      <td>0.8875</td>\n",
              "      <td>0.6625</td>\n",
              "      <td>0.2125</td>\n",
              "      <td>6.903103</td>\n",
              "      <td>3.458639</td>\n",
              "      <td>1.488349</td>\n",
              "      <td>1.700970</td>\n",
              "      <td>6</td>\n",
              "    </tr>\n",
              "  </tbody>\n",
              "</table>\n",
              "</div>\n",
              "      <button class=\"colab-df-convert\" onclick=\"convertToInteractive('df-0f08cd87-c2b6-41de-bea9-ea2ab84ab617')\"\n",
              "              title=\"Convert this dataframe to an interactive table.\"\n",
              "              style=\"display:none;\">\n",
              "        \n",
              "  <svg xmlns=\"http://www.w3.org/2000/svg\" height=\"24px\"viewBox=\"0 0 24 24\"\n",
              "       width=\"24px\">\n",
              "    <path d=\"M0 0h24v24H0V0z\" fill=\"none\"/>\n",
              "    <path d=\"M18.56 5.44l.94 2.06.94-2.06 2.06-.94-2.06-.94-.94-2.06-.94 2.06-2.06.94zm-11 1L8.5 8.5l.94-2.06 2.06-.94-2.06-.94L8.5 2.5l-.94 2.06-2.06.94zm10 10l.94 2.06.94-2.06 2.06-.94-2.06-.94-.94-2.06-.94 2.06-2.06.94z\"/><path d=\"M17.41 7.96l-1.37-1.37c-.4-.4-.92-.59-1.43-.59-.52 0-1.04.2-1.43.59L10.3 9.45l-7.72 7.72c-.78.78-.78 2.05 0 2.83L4 21.41c.39.39.9.59 1.41.59.51 0 1.02-.2 1.41-.59l7.78-7.78 2.81-2.81c.8-.78.8-2.07 0-2.86zM5.41 20L4 18.59l7.72-7.72 1.47 1.35L5.41 20z\"/>\n",
              "  </svg>\n",
              "      </button>\n",
              "      \n",
              "  <style>\n",
              "    .colab-df-container {\n",
              "      display:flex;\n",
              "      flex-wrap:wrap;\n",
              "      gap: 12px;\n",
              "    }\n",
              "\n",
              "    .colab-df-convert {\n",
              "      background-color: #E8F0FE;\n",
              "      border: none;\n",
              "      border-radius: 50%;\n",
              "      cursor: pointer;\n",
              "      display: none;\n",
              "      fill: #1967D2;\n",
              "      height: 32px;\n",
              "      padding: 0 0 0 0;\n",
              "      width: 32px;\n",
              "    }\n",
              "\n",
              "    .colab-df-convert:hover {\n",
              "      background-color: #E2EBFA;\n",
              "      box-shadow: 0px 1px 2px rgba(60, 64, 67, 0.3), 0px 1px 3px 1px rgba(60, 64, 67, 0.15);\n",
              "      fill: #174EA6;\n",
              "    }\n",
              "\n",
              "    [theme=dark] .colab-df-convert {\n",
              "      background-color: #3B4455;\n",
              "      fill: #D2E3FC;\n",
              "    }\n",
              "\n",
              "    [theme=dark] .colab-df-convert:hover {\n",
              "      background-color: #434B5C;\n",
              "      box-shadow: 0px 1px 3px 1px rgba(0, 0, 0, 0.15);\n",
              "      filter: drop-shadow(0px 1px 2px rgba(0, 0, 0, 0.3));\n",
              "      fill: #FFFFFF;\n",
              "    }\n",
              "  </style>\n",
              "\n",
              "      <script>\n",
              "        const buttonEl =\n",
              "          document.querySelector('#df-0f08cd87-c2b6-41de-bea9-ea2ab84ab617 button.colab-df-convert');\n",
              "        buttonEl.style.display =\n",
              "          google.colab.kernel.accessAllowed ? 'block' : 'none';\n",
              "\n",
              "        async function convertToInteractive(key) {\n",
              "          const element = document.querySelector('#df-0f08cd87-c2b6-41de-bea9-ea2ab84ab617');\n",
              "          const dataTable =\n",
              "            await google.colab.kernel.invokeFunction('convertToInteractive',\n",
              "                                                     [key], {});\n",
              "          if (!dataTable) return;\n",
              "\n",
              "          const docLinkHtml = 'Like what you see? Visit the ' +\n",
              "            '<a target=\"_blank\" href=https://colab.research.google.com/notebooks/data_table.ipynb>data table notebook</a>'\n",
              "            + ' to learn more about interactive tables.';\n",
              "          element.innerHTML = '';\n",
              "          dataTable['output_type'] = 'display_data';\n",
              "          await google.colab.output.renderOutput(dataTable, element);\n",
              "          const docLink = document.createElement('div');\n",
              "          docLink.innerHTML = docLinkHtml;\n",
              "          element.appendChild(docLink);\n",
              "        }\n",
              "      </script>\n",
              "    </div>\n",
              "  </div>\n",
              "  "
            ]
          },
          "metadata": {},
          "execution_count": 5
        }
      ],
      "source": [
        "data.head()"
      ]
    },
    {
      "cell_type": "markdown",
      "metadata": {
        "id": "EID8ssCDtykA"
      },
      "source": [
        "##Preparação dos dados"
      ]
    },
    {
      "cell_type": "markdown",
      "metadata": {
        "id": "MIq8PUbpSYJW"
      },
      "source": [
        "####Renomeando Database"
      ]
    },
    {
      "cell_type": "code",
      "execution_count": null,
      "metadata": {
        "colab": {
          "base_uri": "https://localhost:8080/",
          "height": 206
        },
        "id": "dk7XlKHvBBIT",
        "outputId": "a996dd08-7b0c-49f9-ad0e-433001b3c480"
      },
      "outputs": [
        {
          "output_type": "execute_result",
          "data": {
            "text/plain": [
              "  Sexo  Comprimento  Diametro  Altura       Peso  Peso_Descascado  \\\n",
              "0    F       1.4375    1.1750  0.4125  24.635715        12.332033   \n",
              "1    M       0.8875    0.6500  0.2125   5.400580         2.296310   \n",
              "2    I       1.0375    0.7750  0.2500   7.952035         3.231843   \n",
              "3    F       1.1750    0.8875  0.2500  13.480187         4.748541   \n",
              "4    I       0.8875    0.6625  0.2125   6.903103         3.458639   \n",
              "\n",
              "   Peso_intestino  Peso_casca  Idade  \n",
              "0        5.584852    6.747181      9  \n",
              "1        1.374951    1.559222      6  \n",
              "2        1.601747    2.764076      6  \n",
              "3        2.282135    5.244657     10  \n",
              "4        1.488349    1.700970      6  "
            ],
            "text/html": [
              "\n",
              "  <div id=\"df-9795102d-e9bf-4272-a074-21126a90d2b1\">\n",
              "    <div class=\"colab-df-container\">\n",
              "      <div>\n",
              "<style scoped>\n",
              "    .dataframe tbody tr th:only-of-type {\n",
              "        vertical-align: middle;\n",
              "    }\n",
              "\n",
              "    .dataframe tbody tr th {\n",
              "        vertical-align: top;\n",
              "    }\n",
              "\n",
              "    .dataframe thead th {\n",
              "        text-align: right;\n",
              "    }\n",
              "</style>\n",
              "<table border=\"1\" class=\"dataframe\">\n",
              "  <thead>\n",
              "    <tr style=\"text-align: right;\">\n",
              "      <th></th>\n",
              "      <th>Sexo</th>\n",
              "      <th>Comprimento</th>\n",
              "      <th>Diametro</th>\n",
              "      <th>Altura</th>\n",
              "      <th>Peso</th>\n",
              "      <th>Peso_Descascado</th>\n",
              "      <th>Peso_intestino</th>\n",
              "      <th>Peso_casca</th>\n",
              "      <th>Idade</th>\n",
              "    </tr>\n",
              "  </thead>\n",
              "  <tbody>\n",
              "    <tr>\n",
              "      <th>0</th>\n",
              "      <td>F</td>\n",
              "      <td>1.4375</td>\n",
              "      <td>1.1750</td>\n",
              "      <td>0.4125</td>\n",
              "      <td>24.635715</td>\n",
              "      <td>12.332033</td>\n",
              "      <td>5.584852</td>\n",
              "      <td>6.747181</td>\n",
              "      <td>9</td>\n",
              "    </tr>\n",
              "    <tr>\n",
              "      <th>1</th>\n",
              "      <td>M</td>\n",
              "      <td>0.8875</td>\n",
              "      <td>0.6500</td>\n",
              "      <td>0.2125</td>\n",
              "      <td>5.400580</td>\n",
              "      <td>2.296310</td>\n",
              "      <td>1.374951</td>\n",
              "      <td>1.559222</td>\n",
              "      <td>6</td>\n",
              "    </tr>\n",
              "    <tr>\n",
              "      <th>2</th>\n",
              "      <td>I</td>\n",
              "      <td>1.0375</td>\n",
              "      <td>0.7750</td>\n",
              "      <td>0.2500</td>\n",
              "      <td>7.952035</td>\n",
              "      <td>3.231843</td>\n",
              "      <td>1.601747</td>\n",
              "      <td>2.764076</td>\n",
              "      <td>6</td>\n",
              "    </tr>\n",
              "    <tr>\n",
              "      <th>3</th>\n",
              "      <td>F</td>\n",
              "      <td>1.1750</td>\n",
              "      <td>0.8875</td>\n",
              "      <td>0.2500</td>\n",
              "      <td>13.480187</td>\n",
              "      <td>4.748541</td>\n",
              "      <td>2.282135</td>\n",
              "      <td>5.244657</td>\n",
              "      <td>10</td>\n",
              "    </tr>\n",
              "    <tr>\n",
              "      <th>4</th>\n",
              "      <td>I</td>\n",
              "      <td>0.8875</td>\n",
              "      <td>0.6625</td>\n",
              "      <td>0.2125</td>\n",
              "      <td>6.903103</td>\n",
              "      <td>3.458639</td>\n",
              "      <td>1.488349</td>\n",
              "      <td>1.700970</td>\n",
              "      <td>6</td>\n",
              "    </tr>\n",
              "  </tbody>\n",
              "</table>\n",
              "</div>\n",
              "      <button class=\"colab-df-convert\" onclick=\"convertToInteractive('df-9795102d-e9bf-4272-a074-21126a90d2b1')\"\n",
              "              title=\"Convert this dataframe to an interactive table.\"\n",
              "              style=\"display:none;\">\n",
              "        \n",
              "  <svg xmlns=\"http://www.w3.org/2000/svg\" height=\"24px\"viewBox=\"0 0 24 24\"\n",
              "       width=\"24px\">\n",
              "    <path d=\"M0 0h24v24H0V0z\" fill=\"none\"/>\n",
              "    <path d=\"M18.56 5.44l.94 2.06.94-2.06 2.06-.94-2.06-.94-.94-2.06-.94 2.06-2.06.94zm-11 1L8.5 8.5l.94-2.06 2.06-.94-2.06-.94L8.5 2.5l-.94 2.06-2.06.94zm10 10l.94 2.06.94-2.06 2.06-.94-2.06-.94-.94-2.06-.94 2.06-2.06.94z\"/><path d=\"M17.41 7.96l-1.37-1.37c-.4-.4-.92-.59-1.43-.59-.52 0-1.04.2-1.43.59L10.3 9.45l-7.72 7.72c-.78.78-.78 2.05 0 2.83L4 21.41c.39.39.9.59 1.41.59.51 0 1.02-.2 1.41-.59l7.78-7.78 2.81-2.81c.8-.78.8-2.07 0-2.86zM5.41 20L4 18.59l7.72-7.72 1.47 1.35L5.41 20z\"/>\n",
              "  </svg>\n",
              "      </button>\n",
              "      \n",
              "  <style>\n",
              "    .colab-df-container {\n",
              "      display:flex;\n",
              "      flex-wrap:wrap;\n",
              "      gap: 12px;\n",
              "    }\n",
              "\n",
              "    .colab-df-convert {\n",
              "      background-color: #E8F0FE;\n",
              "      border: none;\n",
              "      border-radius: 50%;\n",
              "      cursor: pointer;\n",
              "      display: none;\n",
              "      fill: #1967D2;\n",
              "      height: 32px;\n",
              "      padding: 0 0 0 0;\n",
              "      width: 32px;\n",
              "    }\n",
              "\n",
              "    .colab-df-convert:hover {\n",
              "      background-color: #E2EBFA;\n",
              "      box-shadow: 0px 1px 2px rgba(60, 64, 67, 0.3), 0px 1px 3px 1px rgba(60, 64, 67, 0.15);\n",
              "      fill: #174EA6;\n",
              "    }\n",
              "\n",
              "    [theme=dark] .colab-df-convert {\n",
              "      background-color: #3B4455;\n",
              "      fill: #D2E3FC;\n",
              "    }\n",
              "\n",
              "    [theme=dark] .colab-df-convert:hover {\n",
              "      background-color: #434B5C;\n",
              "      box-shadow: 0px 1px 3px 1px rgba(0, 0, 0, 0.15);\n",
              "      filter: drop-shadow(0px 1px 2px rgba(0, 0, 0, 0.3));\n",
              "      fill: #FFFFFF;\n",
              "    }\n",
              "  </style>\n",
              "\n",
              "      <script>\n",
              "        const buttonEl =\n",
              "          document.querySelector('#df-9795102d-e9bf-4272-a074-21126a90d2b1 button.colab-df-convert');\n",
              "        buttonEl.style.display =\n",
              "          google.colab.kernel.accessAllowed ? 'block' : 'none';\n",
              "\n",
              "        async function convertToInteractive(key) {\n",
              "          const element = document.querySelector('#df-9795102d-e9bf-4272-a074-21126a90d2b1');\n",
              "          const dataTable =\n",
              "            await google.colab.kernel.invokeFunction('convertToInteractive',\n",
              "                                                     [key], {});\n",
              "          if (!dataTable) return;\n",
              "\n",
              "          const docLinkHtml = 'Like what you see? Visit the ' +\n",
              "            '<a target=\"_blank\" href=https://colab.research.google.com/notebooks/data_table.ipynb>data table notebook</a>'\n",
              "            + ' to learn more about interactive tables.';\n",
              "          element.innerHTML = '';\n",
              "          dataTable['output_type'] = 'display_data';\n",
              "          await google.colab.output.renderOutput(dataTable, element);\n",
              "          const docLink = document.createElement('div');\n",
              "          docLink.innerHTML = docLinkHtml;\n",
              "          element.appendChild(docLink);\n",
              "        }\n",
              "      </script>\n",
              "    </div>\n",
              "  </div>\n",
              "  "
            ]
          },
          "metadata": {},
          "execution_count": 6
        }
      ],
      "source": [
        "a_renomear = { \n",
        "    'Sex' : 'Sexo',\n",
        "    'Length' : 'Comprimento',\n",
        "    'Diameter': 'Diametro',\n",
        "    'Height': 'Altura',\n",
        "    'Weight': 'Peso',\n",
        "    'Shucked Weight': 'Peso_Descascado',\n",
        "    'Viscera Weight': 'Peso_intestino',\n",
        "    'Shell Weight': 'Peso_casca',\n",
        "    'Age': 'Idade'\n",
        "\n",
        "}\n",
        "data = data.rename(columns=a_renomear) \n",
        "data.head()"
      ]
    },
    {
      "cell_type": "code",
      "execution_count": null,
      "metadata": {
        "colab": {
          "base_uri": "https://localhost:8080/",
          "height": 206
        },
        "id": "RJ0ysS_LHRE1",
        "outputId": "9853eff9-0adc-4232-af09-859e5e27e2f8"
      },
      "outputs": [
        {
          "output_type": "execute_result",
          "data": {
            "text/plain": [
              "   Sexo  Comprimento  Diametro  Altura       Peso  Peso_Descascado  \\\n",
              "0     1       1.4375    1.1750  0.4125  24.635715        12.332033   \n",
              "1     2       0.8875    0.6500  0.2125   5.400580         2.296310   \n",
              "2     0       1.0375    0.7750  0.2500   7.952035         3.231843   \n",
              "3     1       1.1750    0.8875  0.2500  13.480187         4.748541   \n",
              "4     0       0.8875    0.6625  0.2125   6.903103         3.458639   \n",
              "\n",
              "   Peso_intestino  Peso_casca  Idade  \n",
              "0        5.584852    6.747181      9  \n",
              "1        1.374951    1.559222      6  \n",
              "2        1.601747    2.764076      6  \n",
              "3        2.282135    5.244657     10  \n",
              "4        1.488349    1.700970      6  "
            ],
            "text/html": [
              "\n",
              "  <div id=\"df-18dc02e5-130b-4ff9-8881-bea145947836\">\n",
              "    <div class=\"colab-df-container\">\n",
              "      <div>\n",
              "<style scoped>\n",
              "    .dataframe tbody tr th:only-of-type {\n",
              "        vertical-align: middle;\n",
              "    }\n",
              "\n",
              "    .dataframe tbody tr th {\n",
              "        vertical-align: top;\n",
              "    }\n",
              "\n",
              "    .dataframe thead th {\n",
              "        text-align: right;\n",
              "    }\n",
              "</style>\n",
              "<table border=\"1\" class=\"dataframe\">\n",
              "  <thead>\n",
              "    <tr style=\"text-align: right;\">\n",
              "      <th></th>\n",
              "      <th>Sexo</th>\n",
              "      <th>Comprimento</th>\n",
              "      <th>Diametro</th>\n",
              "      <th>Altura</th>\n",
              "      <th>Peso</th>\n",
              "      <th>Peso_Descascado</th>\n",
              "      <th>Peso_intestino</th>\n",
              "      <th>Peso_casca</th>\n",
              "      <th>Idade</th>\n",
              "    </tr>\n",
              "  </thead>\n",
              "  <tbody>\n",
              "    <tr>\n",
              "      <th>0</th>\n",
              "      <td>1</td>\n",
              "      <td>1.4375</td>\n",
              "      <td>1.1750</td>\n",
              "      <td>0.4125</td>\n",
              "      <td>24.635715</td>\n",
              "      <td>12.332033</td>\n",
              "      <td>5.584852</td>\n",
              "      <td>6.747181</td>\n",
              "      <td>9</td>\n",
              "    </tr>\n",
              "    <tr>\n",
              "      <th>1</th>\n",
              "      <td>2</td>\n",
              "      <td>0.8875</td>\n",
              "      <td>0.6500</td>\n",
              "      <td>0.2125</td>\n",
              "      <td>5.400580</td>\n",
              "      <td>2.296310</td>\n",
              "      <td>1.374951</td>\n",
              "      <td>1.559222</td>\n",
              "      <td>6</td>\n",
              "    </tr>\n",
              "    <tr>\n",
              "      <th>2</th>\n",
              "      <td>0</td>\n",
              "      <td>1.0375</td>\n",
              "      <td>0.7750</td>\n",
              "      <td>0.2500</td>\n",
              "      <td>7.952035</td>\n",
              "      <td>3.231843</td>\n",
              "      <td>1.601747</td>\n",
              "      <td>2.764076</td>\n",
              "      <td>6</td>\n",
              "    </tr>\n",
              "    <tr>\n",
              "      <th>3</th>\n",
              "      <td>1</td>\n",
              "      <td>1.1750</td>\n",
              "      <td>0.8875</td>\n",
              "      <td>0.2500</td>\n",
              "      <td>13.480187</td>\n",
              "      <td>4.748541</td>\n",
              "      <td>2.282135</td>\n",
              "      <td>5.244657</td>\n",
              "      <td>10</td>\n",
              "    </tr>\n",
              "    <tr>\n",
              "      <th>4</th>\n",
              "      <td>0</td>\n",
              "      <td>0.8875</td>\n",
              "      <td>0.6625</td>\n",
              "      <td>0.2125</td>\n",
              "      <td>6.903103</td>\n",
              "      <td>3.458639</td>\n",
              "      <td>1.488349</td>\n",
              "      <td>1.700970</td>\n",
              "      <td>6</td>\n",
              "    </tr>\n",
              "  </tbody>\n",
              "</table>\n",
              "</div>\n",
              "      <button class=\"colab-df-convert\" onclick=\"convertToInteractive('df-18dc02e5-130b-4ff9-8881-bea145947836')\"\n",
              "              title=\"Convert this dataframe to an interactive table.\"\n",
              "              style=\"display:none;\">\n",
              "        \n",
              "  <svg xmlns=\"http://www.w3.org/2000/svg\" height=\"24px\"viewBox=\"0 0 24 24\"\n",
              "       width=\"24px\">\n",
              "    <path d=\"M0 0h24v24H0V0z\" fill=\"none\"/>\n",
              "    <path d=\"M18.56 5.44l.94 2.06.94-2.06 2.06-.94-2.06-.94-.94-2.06-.94 2.06-2.06.94zm-11 1L8.5 8.5l.94-2.06 2.06-.94-2.06-.94L8.5 2.5l-.94 2.06-2.06.94zm10 10l.94 2.06.94-2.06 2.06-.94-2.06-.94-.94-2.06-.94 2.06-2.06.94z\"/><path d=\"M17.41 7.96l-1.37-1.37c-.4-.4-.92-.59-1.43-.59-.52 0-1.04.2-1.43.59L10.3 9.45l-7.72 7.72c-.78.78-.78 2.05 0 2.83L4 21.41c.39.39.9.59 1.41.59.51 0 1.02-.2 1.41-.59l7.78-7.78 2.81-2.81c.8-.78.8-2.07 0-2.86zM5.41 20L4 18.59l7.72-7.72 1.47 1.35L5.41 20z\"/>\n",
              "  </svg>\n",
              "      </button>\n",
              "      \n",
              "  <style>\n",
              "    .colab-df-container {\n",
              "      display:flex;\n",
              "      flex-wrap:wrap;\n",
              "      gap: 12px;\n",
              "    }\n",
              "\n",
              "    .colab-df-convert {\n",
              "      background-color: #E8F0FE;\n",
              "      border: none;\n",
              "      border-radius: 50%;\n",
              "      cursor: pointer;\n",
              "      display: none;\n",
              "      fill: #1967D2;\n",
              "      height: 32px;\n",
              "      padding: 0 0 0 0;\n",
              "      width: 32px;\n",
              "    }\n",
              "\n",
              "    .colab-df-convert:hover {\n",
              "      background-color: #E2EBFA;\n",
              "      box-shadow: 0px 1px 2px rgba(60, 64, 67, 0.3), 0px 1px 3px 1px rgba(60, 64, 67, 0.15);\n",
              "      fill: #174EA6;\n",
              "    }\n",
              "\n",
              "    [theme=dark] .colab-df-convert {\n",
              "      background-color: #3B4455;\n",
              "      fill: #D2E3FC;\n",
              "    }\n",
              "\n",
              "    [theme=dark] .colab-df-convert:hover {\n",
              "      background-color: #434B5C;\n",
              "      box-shadow: 0px 1px 3px 1px rgba(0, 0, 0, 0.15);\n",
              "      filter: drop-shadow(0px 1px 2px rgba(0, 0, 0, 0.3));\n",
              "      fill: #FFFFFF;\n",
              "    }\n",
              "  </style>\n",
              "\n",
              "      <script>\n",
              "        const buttonEl =\n",
              "          document.querySelector('#df-18dc02e5-130b-4ff9-8881-bea145947836 button.colab-df-convert');\n",
              "        buttonEl.style.display =\n",
              "          google.colab.kernel.accessAllowed ? 'block' : 'none';\n",
              "\n",
              "        async function convertToInteractive(key) {\n",
              "          const element = document.querySelector('#df-18dc02e5-130b-4ff9-8881-bea145947836');\n",
              "          const dataTable =\n",
              "            await google.colab.kernel.invokeFunction('convertToInteractive',\n",
              "                                                     [key], {});\n",
              "          if (!dataTable) return;\n",
              "\n",
              "          const docLinkHtml = 'Like what you see? Visit the ' +\n",
              "            '<a target=\"_blank\" href=https://colab.research.google.com/notebooks/data_table.ipynb>data table notebook</a>'\n",
              "            + ' to learn more about interactive tables.';\n",
              "          element.innerHTML = '';\n",
              "          dataTable['output_type'] = 'display_data';\n",
              "          await google.colab.output.renderOutput(dataTable, element);\n",
              "          const docLink = document.createElement('div');\n",
              "          docLink.innerHTML = docLinkHtml;\n",
              "          element.appendChild(docLink);\n",
              "        }\n",
              "      </script>\n",
              "    </div>\n",
              "  </div>\n",
              "  "
            ]
          },
          "metadata": {},
          "execution_count": 7
        }
      ],
      "source": [
        "#Conversão de colunas\n",
        "a_trocar = {\n",
        "    'I': 0,\n",
        "    'F': 1,\n",
        "    'M': 2\n",
        "}\n",
        "data.Sexo = data.Sexo.map(a_trocar, na_action='ignore')\n",
        "data.head()"
      ]
    },
    {
      "cell_type": "code",
      "execution_count": null,
      "metadata": {
        "colab": {
          "base_uri": "https://localhost:8080/"
        },
        "id": "PY-OWOCz4yjF",
        "outputId": "caa26af5-1275-4f43-a2c3-cbf4e693bfdc"
      },
      "outputs": [
        {
          "output_type": "execute_result",
          "data": {
            "text/plain": [
              "Sexo                 int64\n",
              "Comprimento        float64\n",
              "Diametro           float64\n",
              "Altura             float64\n",
              "Peso               float64\n",
              "Peso_Descascado    float64\n",
              "Peso_intestino     float64\n",
              "Peso_casca         float64\n",
              "Idade                int64\n",
              "dtype: object"
            ]
          },
          "metadata": {},
          "execution_count": 8
        }
      ],
      "source": [
        "data.dtypes"
      ]
    },
    {
      "cell_type": "code",
      "execution_count": null,
      "metadata": {
        "colab": {
          "base_uri": "https://localhost:8080/"
        },
        "id": "oCS7J1lKNEdZ",
        "outputId": "78e43b33-3844-4d66-aefb-f7415465eb83"
      },
      "outputs": [
        {
          "output_type": "execute_result",
          "data": {
            "text/plain": [
              "array(['Sexo', 'Comprimento', 'Diametro', 'Altura', 'Peso',\n",
              "       'Peso_Descascado', 'Peso_intestino', 'Peso_casca', 'Idade'],\n",
              "      dtype=object)"
            ]
          },
          "metadata": {},
          "execution_count": 9
        }
      ],
      "source": [
        "col_values = data.columns.values\n",
        "\n",
        "col_values"
      ]
    },
    {
      "cell_type": "markdown",
      "source": [
        "<h8>Verificar o relacionamento entre as colunas e a coluna de idade."
      ],
      "metadata": {
        "id": "ol3RrcxJQori"
      }
    },
    {
      "cell_type": "code",
      "execution_count": null,
      "metadata": {
        "id": "sSlnRh8bNEFR",
        "colab": {
          "base_uri": "https://localhost:8080/",
          "height": 873
        },
        "outputId": "d79ab877-b768-466d-818c-b28501736d72"
      },
      "outputs": [
        {
          "output_type": "display_data",
          "data": {
            "text/plain": [
              "<Figure size 864x864 with 8 Axes>"
            ],
            "image/png": "[encoded data removed]"
          },
          "metadata": {
            "needs_background": "light"
          }
        }
      ],
      "source": [
        "fig, axis = plt.subplots(4, 2, figsize=(12, 12))\n",
        "\n",
        "cnt = 0\n",
        "\n",
        "for i in range(4):\n",
        "    for j in range(2):\n",
        "        axis[i, j].plot(data[col_values[cnt]], data[\"Idade\"], 'o', markersize=4)\n",
        "        axis[i, j].set_xlabel(col_values[cnt], size=10)\n",
        "        axis[i, j].set_ylabel(\"Idade\", size=10)\n",
        "        axis[i, j].set_title(f\"Idade vs. {col_values[cnt]}\", size=12)\n",
        "        cnt+=1\n",
        "\n",
        "fig.tight_layout()"
      ]
    },
    {
      "cell_type": "markdown",
      "metadata": {
        "id": "n1fYkOL3TAe-"
      },
      "source": [
        "####Análise exploratória"
      ]
    },
    {
      "cell_type": "markdown",
      "metadata": {
        "id": "DnV8haDvm3gQ"
      },
      "source": [
        "<h6>Descrição do Dataset"
      ]
    },
    {
      "cell_type": "code",
      "execution_count": null,
      "metadata": {
        "id": "wq3IliC-Av5E",
        "colab": {
          "base_uri": "https://localhost:8080/",
          "height": 364
        },
        "outputId": "f65ae4cd-5864-4bbe-c6ee-a66f2db47a8b"
      },
      "outputs": [
        {
          "output_type": "execute_result",
          "data": {
            "text/plain": [
              "              Sexo  Comprimento     Diametro       Altura         Peso  \\\n",
              "count  3893.000000  3893.000000  3893.000000  3893.000000  3893.000000   \n",
              "mean      1.051888     1.311306     1.020893     0.349374    23.567275   \n",
              "std       0.826327     0.300431     0.248233     0.104976    13.891201   \n",
              "min       0.000000     0.187500     0.137500     0.000000     0.056699   \n",
              "25%       0.000000     1.125000     0.875000     0.287500    12.672227   \n",
              "50%       1.000000     1.362500     1.062500     0.362500    22.792998   \n",
              "75%       2.000000     1.537500     1.200000     0.412500    32.786197   \n",
              "max       2.000000     2.037500     1.625000     2.825000    80.101512   \n",
              "\n",
              "       Peso_Descascado  Peso_intestino   Peso_casca        Idade  \n",
              "count      3893.000000     3893.000000  3893.000000  3893.000000  \n",
              "mean         10.207342        5.136546     6.795844     9.954791  \n",
              "std           6.275275        3.104133     3.943392     3.220967  \n",
              "min           0.028349        0.014175     0.042524     1.000000  \n",
              "25%           5.343881        2.664853     3.713785     8.000000  \n",
              "50%           9.539607        4.861939     6.662133    10.000000  \n",
              "75%          14.273973        7.200773     9.355335    11.000000  \n",
              "max          42.184056       21.545620    28.491248    29.000000  "
            ],
            "text/html": [
              "\n",
              "  <div id=\"df-a79eb98e-a1b7-49bc-8a09-66b8be11648c\">\n",
              "    <div class=\"colab-df-container\">\n",
              "      <div>\n",
              "<style scoped>\n",
              "    .dataframe tbody tr th:only-of-type {\n",
              "        vertical-align: middle;\n",
              "    }\n",
              "\n",
              "    .dataframe tbody tr th {\n",
              "        vertical-align: top;\n",
              "    }\n",
              "\n",
              "    .dataframe thead th {\n",
              "        text-align: right;\n",
              "    }\n",
              "</style>\n",
              "<table border=\"1\" class=\"dataframe\">\n",
              "  <thead>\n",
              "    <tr style=\"text-align: right;\">\n",
              "      <th></th>\n",
              "      <th>Sexo</th>\n",
              "      <th>Comprimento</th>\n",
              "      <th>Diametro</th>\n",
              "      <th>Altura</th>\n",
              "      <th>Peso</th>\n",
              "      <th>Peso_Descascado</th>\n",
              "      <th>Peso_intestino</th>\n",
              "      <th>Peso_casca</th>\n",
              "      <th>Idade</th>\n",
              "    </tr>\n",
              "  </thead>\n",
              "  <tbody>\n",
              "    <tr>\n",
              "      <th>count</th>\n",
              "      <td>3893.000000</td>\n",
              "      <td>3893.000000</td>\n",
              "      <td>3893.000000</td>\n",
              "      <td>3893.000000</td>\n",
              "      <td>3893.000000</td>\n",
              "      <td>3893.000000</td>\n",
              "      <td>3893.000000</td>\n",
              "      <td>3893.000000</td>\n",
              "      <td>3893.000000</td>\n",
              "    </tr>\n",
              "    <tr>\n",
              "      <th>mean</th>\n",
              "      <td>1.051888</td>\n",
              "      <td>1.311306</td>\n",
              "      <td>1.020893</td>\n",
              "      <td>0.349374</td>\n",
              "      <td>23.567275</td>\n",
              "      <td>10.207342</td>\n",
              "      <td>5.136546</td>\n",
              "      <td>6.795844</td>\n",
              "      <td>9.954791</td>\n",
              "    </tr>\n",
              "    <tr>\n",
              "      <th>std</th>\n",
              "      <td>0.826327</td>\n",
              "      <td>0.300431</td>\n",
              "      <td>0.248233</td>\n",
              "      <td>0.104976</td>\n",
              "      <td>13.891201</td>\n",
              "      <td>6.275275</td>\n",
              "      <td>3.104133</td>\n",
              "      <td>3.943392</td>\n",
              "      <td>3.220967</td>\n",
              "    </tr>\n",
              "    <tr>\n",
              "      <th>min</th>\n",
              "      <td>0.000000</td>\n",
              "      <td>0.187500</td>\n",
              "      <td>0.137500</td>\n",
              "      <td>0.000000</td>\n",
              "      <td>0.056699</td>\n",
              "      <td>0.028349</td>\n",
              "      <td>0.014175</td>\n",
              "      <td>0.042524</td>\n",
              "      <td>1.000000</td>\n",
              "    </tr>\n",
              "    <tr>\n",
              "      <th>25%</th>\n",
              "      <td>0.000000</td>\n",
              "      <td>1.125000</td>\n",
              "      <td>0.875000</td>\n",
              "      <td>0.287500</td>\n",
              "      <td>12.672227</td>\n",
              "      <td>5.343881</td>\n",
              "      <td>2.664853</td>\n",
              "      <td>3.713785</td>\n",
              "      <td>8.000000</td>\n",
              "    </tr>\n",
              "    <tr>\n",
              "      <th>50%</th>\n",
              "      <td>1.000000</td>\n",
              "      <td>1.362500</td>\n",
              "      <td>1.062500</td>\n",
              "      <td>0.362500</td>\n",
              "      <td>22.792998</td>\n",
              "      <td>9.539607</td>\n",
              "      <td>4.861939</td>\n",
              "      <td>6.662133</td>\n",
              "      <td>10.000000</td>\n",
              "    </tr>\n",
              "    <tr>\n",
              "      <th>75%</th>\n",
              "      <td>2.000000</td>\n",
              "      <td>1.537500</td>\n",
              "      <td>1.200000</td>\n",
              "      <td>0.412500</td>\n",
              "      <td>32.786197</td>\n",
              "      <td>14.273973</td>\n",
              "      <td>7.200773</td>\n",
              "      <td>9.355335</td>\n",
              "      <td>11.000000</td>\n",
              "    </tr>\n",
              "    <tr>\n",
              "      <th>max</th>\n",
              "      <td>2.000000</td>\n",
              "      <td>2.037500</td>\n",
              "      <td>1.625000</td>\n",
              "      <td>2.825000</td>\n",
              "      <td>80.101512</td>\n",
              "      <td>42.184056</td>\n",
              "      <td>21.545620</td>\n",
              "      <td>28.491248</td>\n",
              "      <td>29.000000</td>\n",
              "    </tr>\n",
              "  </tbody>\n",
              "</table>\n",
              "</div>\n",
              "      <button class=\"colab-df-convert\" onclick=\"convertToInteractive('df-a79eb98e-a1b7-49bc-8a09-66b8be11648c')\"\n",
              "              title=\"Convert this dataframe to an interactive table.\"\n",
              "              style=\"display:none;\">\n",
              "        \n",
              "  <svg xmlns=\"http://www.w3.org/2000/svg\" height=\"24px\"viewBox=\"0 0 24 24\"\n",
              "       width=\"24px\">\n",
              "    <path d=\"M0 0h24v24H0V0z\" fill=\"none\"/>\n",
              "    <path d=\"M18.56 5.44l.94 2.06.94-2.06 2.06-.94-2.06-.94-.94-2.06-.94 2.06-2.06.94zm-11 1L8.5 8.5l.94-2.06 2.06-.94-2.06-.94L8.5 2.5l-.94 2.06-2.06.94zm10 10l.94 2.06.94-2.06 2.06-.94-2.06-.94-.94-2.06-.94 2.06-2.06.94z\"/><path d=\"M17.41 7.96l-1.37-1.37c-.4-.4-.92-.59-1.43-.59-.52 0-1.04.2-1.43.59L10.3 9.45l-7.72 7.72c-.78.78-.78 2.05 0 2.83L4 21.41c.39.39.9.59 1.41.59.51 0 1.02-.2 1.41-.59l7.78-7.78 2.81-2.81c.8-.78.8-2.07 0-2.86zM5.41 20L4 18.59l7.72-7.72 1.47 1.35L5.41 20z\"/>\n",
              "  </svg>\n",
              "      </button>\n",
              "      \n",
              "  <style>\n",
              "    .colab-df-container {\n",
              "      display:flex;\n",
              "      flex-wrap:wrap;\n",
              "      gap: 12px;\n",
              "    }\n",
              "\n",
              "    .colab-df-convert {\n",
              "      background-color: #E8F0FE;\n",
              "      border: none;\n",
              "      border-radius: 50%;\n",
              "      cursor: pointer;\n",
              "      display: none;\n",
              "      fill: #1967D2;\n",
              "      height: 32px;\n",
              "      padding: 0 0 0 0;\n",
              "      width: 32px;\n",
              "    }\n",
              "\n",
              "    .colab-df-convert:hover {\n",
              "      background-color: #E2EBFA;\n",
              "      box-shadow: 0px 1px 2px rgba(60, 64, 67, 0.3), 0px 1px 3px 1px rgba(60, 64, 67, 0.15);\n",
              "      fill: #174EA6;\n",
              "    }\n",
              "\n",
              "    [theme=dark] .colab-df-convert {\n",
              "      background-color: #3B4455;\n",
              "      fill: #D2E3FC;\n",
              "    }\n",
              "\n",
              "    [theme=dark] .colab-df-convert:hover {\n",
              "      background-color: #434B5C;\n",
              "      box-shadow: 0px 1px 3px 1px rgba(0, 0, 0, 0.15);\n",
              "      filter: drop-shadow(0px 1px 2px rgba(0, 0, 0, 0.3));\n",
              "      fill: #FFFFFF;\n",
              "    }\n",
              "  </style>\n",
              "\n",
              "      <script>\n",
              "        const buttonEl =\n",
              "          document.querySelector('#df-a79eb98e-a1b7-49bc-8a09-66b8be11648c button.colab-df-convert');\n",
              "        buttonEl.style.display =\n",
              "          google.colab.kernel.accessAllowed ? 'block' : 'none';\n",
              "\n",
              "        async function convertToInteractive(key) {\n",
              "          const element = document.querySelector('#df-a79eb98e-a1b7-49bc-8a09-66b8be11648c');\n",
              "          const dataTable =\n",
              "            await google.colab.kernel.invokeFunction('convertToInteractive',\n",
              "                                                     [key], {});\n",
              "          if (!dataTable) return;\n",
              "\n",
              "          const docLinkHtml = 'Like what you see? Visit the ' +\n",
              "            '<a target=\"_blank\" href=https://colab.research.google.com/notebooks/data_table.ipynb>data table notebook</a>'\n",
              "            + ' to learn more about interactive tables.';\n",
              "          element.innerHTML = '';\n",
              "          dataTable['output_type'] = 'display_data';\n",
              "          await google.colab.output.renderOutput(dataTable, element);\n",
              "          const docLink = document.createElement('div');\n",
              "          docLink.innerHTML = docLinkHtml;\n",
              "          element.appendChild(docLink);\n",
              "        }\n",
              "      </script>\n",
              "    </div>\n",
              "  </div>\n",
              "  "
            ]
          },
          "metadata": {},
          "execution_count": 11
        }
      ],
      "source": [
        "data.describe()"
      ]
    },
    {
      "cell_type": "code",
      "execution_count": null,
      "metadata": {
        "id": "cM6Wr7DO_kcK",
        "colab": {
          "base_uri": "https://localhost:8080/",
          "height": 283
        },
        "outputId": "e58503c4-d8c1-4a66-bb79-a6ccb91ac957"
      },
      "outputs": [
        {
          "output_type": "execute_result",
          "data": {
            "text/plain": [
              "<matplotlib.axes._subplots.AxesSubplot at 0x7f33238a6a50>"
            ]
          },
          "metadata": {},
          "execution_count": 12
        },
        {
          "output_type": "display_data",
          "data": {
            "text/plain": [
              "<Figure size 432x288 with 1 Axes>"
            ],
            "image/png": "[encoded data removed]"
          },
          "metadata": {
            "needs_background": "light"
          }
        }
      ],
      "source": [
        "#Boxplot\n",
        "data.boxplot()"
      ]
    },
    {
      "cell_type": "code",
      "execution_count": null,
      "metadata": {
        "id": "NzXs2rCgUCw2",
        "colab": {
          "base_uri": "https://localhost:8080/",
          "height": 500
        },
        "outputId": "63186545-609e-4b82-8808-d2d0483027d9"
      },
      "outputs": [
        {
          "output_type": "execute_result",
          "data": {
            "text/plain": [
              "<matplotlib.axes._subplots.AxesSubplot at 0x7f3323657050>"
            ]
          },
          "metadata": {},
          "execution_count": 13
        },
        {
          "output_type": "display_data",
          "data": {
            "text/plain": [
              "<Figure size 864x576 with 1 Axes>"
            ],
            "image/png": "[encoded data removed]"
          },
          "metadata": {
            "needs_background": "light"
          }
        }
      ],
      "source": [
        "data['Idade'].plot.hist(bins=20, figsize=(12,8))"
      ]
    },
    {
      "cell_type": "markdown",
      "metadata": {
        "id": "MSvL_v05RjTe"
      },
      "source": [
        "####Mapa de calor de correlação e correlação\n"
      ]
    },
    {
      "cell_type": "code",
      "execution_count": null,
      "metadata": {
        "id": "I6_GAOg8OVTq",
        "colab": {
          "base_uri": "https://localhost:8080/"
        },
        "outputId": "aa3e9e46-2280-459f-d7e0-fc1c11bc78ed"
      },
      "outputs": [
        {
          "output_type": "execute_result",
          "data": {
            "text/plain": [
              "Sexo               0.353045\n",
              "Comprimento        0.554973\n",
              "Diametro           0.573844\n",
              "Altura             0.551956\n",
              "Peso               0.538819\n",
              "Peso_Descascado    0.418760\n",
              "Peso_intestino     0.501328\n",
              "Peso_casca         0.625195\n",
              "dtype: float64"
            ]
          },
          "metadata": {},
          "execution_count": 14
        }
      ],
      "source": [
        "# correlação de Aluguel de Bicicletas versus as variáveis de descanso\n",
        "data.drop('Idade', axis=1).corrwith(data.Idade)"
      ]
    },
    {
      "cell_type": "code",
      "execution_count": null,
      "metadata": {
        "id": "-XfRq9PAVc-G",
        "colab": {
          "base_uri": "https://localhost:8080/",
          "height": 582
        },
        "outputId": "f1703b97-73fe-4075-f5c7-0bbedc52e35a"
      },
      "outputs": [
        {
          "output_type": "execute_result",
          "data": {
            "text/plain": [
              "<matplotlib.axes._subplots.AxesSubplot at 0x7f3323570550>"
            ]
          },
          "metadata": {},
          "execution_count": 15
        },
        {
          "output_type": "display_data",
          "data": {
            "text/plain": [
              "<Figure size 864x576 with 2 Axes>"
            ],
            "image/png": "[encoded data removed]"
          },
          "metadata": {
            "needs_background": "light"
          }
        }
      ],
      "source": [
        "#Gerar a correlação usando heatmap\n",
        "plt.figure(figsize=(12,8))\n",
        "sns.heatmap(data.corr(), annot=True)"
      ]
    },
    {
      "cell_type": "markdown",
      "metadata": {
        "id": "uyiOsRhydqpC"
      },
      "source": [
        "####Multi colineariade\n",
        "As colunas Comprimento e Altura estão fortemente correlacionados causando um problema de muticolinearidade então vamos remover a coluna Altura."
      ]
    },
    {
      "cell_type": "code",
      "execution_count": null,
      "metadata": {
        "id": "PY95umr5YhMn"
      },
      "outputs": [],
      "source": [
        "#Remover a coluna Altura\n",
        "data.drop('Altura', axis=1, inplace=True)"
      ]
    },
    {
      "cell_type": "markdown",
      "metadata": {
        "id": "wzAOlaSKhfc7"
      },
      "source": [
        "#### Teste de hipóteses e aprendizado de máquina\n"
      ]
    },
    {
      "cell_type": "code",
      "execution_count": null,
      "metadata": {
        "id": "btudoqnDhh83"
      },
      "outputs": [],
      "source": [
        "# Executar one-hot encoding em toda a base\n",
        "data = pd.get_dummies(data)"
      ]
    },
    {
      "cell_type": "markdown",
      "metadata": {
        "id": "P819bZg9SAqT"
      },
      "source": [
        "####Checando valores ausentes\n"
      ]
    },
    {
      "cell_type": "code",
      "execution_count": null,
      "metadata": {
        "id": "fmH7tpCzNNbu",
        "colab": {
          "base_uri": "https://localhost:8080/"
        },
        "outputId": "7deab1b7-4e61-4f5e-9861-78543f3b1369"
      },
      "outputs": [
        {
          "output_type": "execute_result",
          "data": {
            "text/plain": [
              "Sexo               0\n",
              "Comprimento        0\n",
              "Diametro           0\n",
              "Peso               0\n",
              "Peso_Descascado    0\n",
              "Peso_intestino     0\n",
              "Peso_casca         0\n",
              "Idade              0\n",
              "dtype: int64"
            ]
          },
          "metadata": {},
          "execution_count": 18
        }
      ],
      "source": [
        "#Verificar se há dados ausentes\n",
        "data.isna().sum()"
      ]
    },
    {
      "cell_type": "markdown",
      "metadata": {
        "id": "ust_8h7DR44x"
      },
      "source": [
        "####Checando valores duplicados"
      ]
    },
    {
      "cell_type": "code",
      "execution_count": null,
      "metadata": {
        "id": "z1bZplOxNSWg",
        "colab": {
          "base_uri": "https://localhost:8080/"
        },
        "outputId": "97ba761c-dbf3-4acf-d77f-c70b3bb9a748"
      },
      "outputs": [
        {
          "output_type": "execute_result",
          "data": {
            "text/plain": [
              "0"
            ]
          },
          "metadata": {},
          "execution_count": 19
        }
      ],
      "source": [
        "#Verificar se há dados duplicados\n",
        "data.duplicated().sum()"
      ]
    },
    {
      "cell_type": "code",
      "execution_count": null,
      "metadata": {
        "id": "EjiRi3bwNyVo",
        "colab": {
          "base_uri": "https://localhost:8080/"
        },
        "outputId": "9eb87f9d-e1fd-40d1-cfb7-e4a6f774992d"
      },
      "outputs": [
        {
          "output_type": "execute_result",
          "data": {
            "text/plain": [
              "(3893, 8)"
            ]
          },
          "metadata": {},
          "execution_count": 20
        }
      ],
      "source": [
        "data.shape"
      ]
    },
    {
      "cell_type": "markdown",
      "metadata": {
        "id": "pYjd7JGKjrTr"
      },
      "source": [
        "####Train-Test Dataset"
      ]
    },
    {
      "cell_type": "code",
      "execution_count": null,
      "metadata": {
        "id": "M2ZyF73pjuAg"
      },
      "outputs": [],
      "source": [
        "# Separe os atributos X e a variável alvo (y)\n",
        "y = data.Idade\n",
        "X = data.drop(['Idade'], axis = 1)"
      ]
    },
    {
      "cell_type": "code",
      "execution_count": null,
      "metadata": {
        "id": "tuF6qccPj48y"
      },
      "outputs": [],
      "source": [
        "#Separe os dados de treino e teste (X_train, X_test, y_train, y_test)\n",
        "from sklearn.model_selection import train_test_split\n",
        "X_train, X_test, y_train, y_test = train_test_split(X, y, test_size=2.5, random_state=5)"
      ]
    },
    {
      "cell_type": "markdown",
      "metadata": {
        "id": "avh9p3rqrSLM"
      },
      "source": [
        "##Modelagem e Avaliação\n",
        "\n",
        "\n",
        "\n",
        "\n",
        "\n"
      ]
    },
    {
      "cell_type": "markdown",
      "metadata": {
        "id": "D6p6pL0GwQ8X"
      },
      "source": [
        "###Random Forest"
      ]
    },
    {
      "cell_type": "code",
      "execution_count": null,
      "metadata": {
        "id": "N81YBmWUrRw2"
      },
      "outputs": [],
      "source": [
        "from sklearn.ensemble import RandomForestRegressor\n",
        "from sklearn.metrics import mean_squared_error\n",
        "\n",
        "rf = RandomForestRegressor().fit(X_train, y_train)"
      ]
    },
    {
      "cell_type": "code",
      "execution_count": null,
      "metadata": {
        "id": "UCESSClQAX6T"
      },
      "outputs": [],
      "source": [
        "predictions = rf.predict(X_test)"
      ]
    },
    {
      "cell_type": "markdown",
      "source": [
        "<h9>Validação\n",
        "<p>MAE, MSE e RMSE - Calculam a diferença entre o valor predito e o valor real\n",
        "<p>R2 - Percentual de dados que é explicado pelo modelo"
      ],
      "metadata": {
        "id": "HRIawVFugMj9"
      }
    },
    {
      "cell_type": "code",
      "execution_count": null,
      "metadata": {
        "id": "xVHKV3v-AX3x",
        "colab": {
          "base_uri": "https://localhost:8080/"
        },
        "outputId": "967f99f6-cb09-4eba-88a8-d7f35866bc47"
      },
      "outputs": [
        {
          "output_type": "stream",
          "name": "stdout",
          "text": [
            "MEA 1.966\n"
          ]
        }
      ],
      "source": [
        "from sklearn import metrics\n",
        "print(\"MAE\", metrics.mean_absolute_error(y_test, predictions))"
      ]
    },
    {
      "cell_type": "code",
      "execution_count": null,
      "metadata": {
        "id": "_EqaFuGhBC6k",
        "colab": {
          "base_uri": "https://localhost:8080/"
        },
        "outputId": "a21833c9-77a4-407c-ff5b-838fb23fffdb"
      },
      "outputs": [
        {
          "output_type": "stream",
          "name": "stdout",
          "text": [
            "MSE 8.735916\n"
          ]
        }
      ],
      "source": [
        "print(\"MSE\", metrics.mean_squared_error(y_test, predictions))"
      ]
    },
    {
      "cell_type": "code",
      "execution_count": null,
      "metadata": {
        "id": "TT77R6f-BHe5",
        "colab": {
          "base_uri": "https://localhost:8080/"
        },
        "outputId": "d9ab2065-385f-4e38-e16d-773411e0ac35"
      },
      "outputs": [
        {
          "output_type": "stream",
          "name": "stdout",
          "text": [
            "RMSE 2.955658302307626\n"
          ]
        }
      ],
      "source": [
        "print(\"RMSE\", np.sqrt(metrics.mean_squared_error(y_test, predictions)))"
      ]
    },
    {
      "cell_type": "code",
      "source": [
        "print(\"R2\", np.sqrt(metrics.r2_score(y_test, predictions)))"
      ],
      "metadata": {
        "colab": {
          "base_uri": "https://localhost:8080/"
        },
        "id": "jxJFpZ8nOVG3",
        "outputId": "cb1edd8e-ac7a-4627-c25e-b0ee9db78cb0"
      },
      "execution_count": null,
      "outputs": [
        {
          "output_type": "stream",
          "name": "stdout",
          "text": [
            "R2 0.6160774467991387\n"
          ]
        }
      ]
    },
    {
      "cell_type": "markdown",
      "source": [
        "<h8>Validação cruzada - Método K-fold"
      ],
      "metadata": {
        "id": "VUUiF-XzNaIw"
      }
    },
    {
      "cell_type": "code",
      "source": [
        "from sklearn.model_selection import KFold, GridSearchCV, cross_val_score\n",
        "from sklearn.ensemble import RandomForestRegressor"
      ],
      "metadata": {
        "id": "hm55aoG5NZVs"
      },
      "execution_count": null,
      "outputs": []
    },
    {
      "cell_type": "code",
      "source": [
        "mse = metrics.mean_squared_error(y_test, predictions)\n",
        "r2 = metrics.r2_score(y_test, predictions)"
      ],
      "metadata": {
        "id": "i8TqjegCPKJG"
      },
      "execution_count": null,
      "outputs": []
    },
    {
      "cell_type": "code",
      "source": [
        "from numpy.core.numeric import cross\n",
        "kf = KFold(n_splits=10, shuffle=True, random_state=25)\n",
        "random_forest = RandomForestRegressor(n_estimators=100, criterion='squared_error', max_depth=20, min_samples_split=2)\n",
        "cv_score = cross_val_score(random_forest, X_train, y_train, scoring='r2', cv=kf)\n",
        "cv_score"
      ],
      "metadata": {
        "colab": {
          "base_uri": "https://localhost:8080/"
        },
        "id": "jeD7hII4NZFL",
        "outputId": "2ba75f7d-cd24-41a0-df70-8f50f503d4e7"
      },
      "execution_count": null,
      "outputs": [
        {
          "output_type": "execute_result",
          "data": {
            "text/plain": [
              "array([0.46884876, 0.58502157, 0.52177713, 0.5633155 , 0.54281825,\n",
              "       0.52939209, 0.49716151, 0.59493156, 0.52234744, 0.55636524])"
            ]
          },
          "metadata": {},
          "execution_count": 31
        }
      ]
    },
    {
      "cell_type": "code",
      "source": [
        "random_forest.fit(X_train, y_train)"
      ],
      "metadata": {
        "colab": {
          "base_uri": "https://localhost:8080/"
        },
        "id": "d3fpsXbNQtI9",
        "outputId": "60dd8d42-6cf2-49f8-cce5-41cd06b76f2c"
      },
      "execution_count": null,
      "outputs": [
        {
          "output_type": "execute_result",
          "data": {
            "text/plain": [
              "RandomForestRegressor(max_depth=20)"
            ]
          },
          "metadata": {},
          "execution_count": 32
        }
      ]
    },
    {
      "cell_type": "code",
      "source": [
        "predi= random_forest.predict(X_test)"
      ],
      "metadata": {
        "id": "7Wg1DEHVQ9w-"
      },
      "execution_count": null,
      "outputs": []
    },
    {
      "cell_type": "code",
      "source": [
        "print(\"MEA\", metrics.mean_absolute_error(y_test, predi))\n",
        "print(\"MSE\", metrics.mean_squared_error(y_test, predi))\n",
        "print(\"RMSE\", np.sqrt(metrics.mean_squared_error(y_test, predi)))\n",
        "print(\"R2\", np.sqrt(metrics.r2_score(y_test, predi)))"
      ],
      "metadata": {
        "colab": {
          "base_uri": "https://localhost:8080/"
        },
        "id": "yEmMlekWRX5E",
        "outputId": "aeb4e15d-6c0a-4d66-d2a0-3801e24ded3e"
      },
      "execution_count": null,
      "outputs": [
        {
          "output_type": "stream",
          "name": "stdout",
          "text": [
            "MEA 1.8967414537033833\n",
            "MSE 8.523315659468809\n",
            "RMSE 2.9194718117270475\n",
            "R2 0.6282124453225845\n"
          ]
        }
      ]
    },
    {
      "cell_type": "code",
      "source": [
        "error_AX = pd.DataFrame({'Actual-Values': np.array(y_test).flatten(), 'Predicted-Values': predi.flatten()})\n",
        "error_AX.head(10)"
      ],
      "metadata": {
        "colab": {
          "base_uri": "https://localhost:8080/",
          "height": 363
        },
        "id": "acxG4Z0kR7ry",
        "outputId": "01814319-9f83-4626-fd8a-9599d23735e5"
      },
      "execution_count": null,
      "outputs": [
        {
          "output_type": "execute_result",
          "data": {
            "text/plain": [
              "   Actual-Values  Predicted-Values\n",
              "0             13         13.001667\n",
              "1             11          9.480000\n",
              "2             12         11.291667\n",
              "3             19          9.790000\n",
              "4             10          7.380000\n",
              "5             13          9.879667\n",
              "6             21         12.565000\n",
              "7              7          8.660000\n",
              "8             11         10.396695\n",
              "9             12         10.825846"
            ],
            "text/html": [
              "\n",
              "  <div id=\"df-dc1ffee2-146b-4205-bf1e-729ab76d4f0e\">\n",
              "    <div class=\"colab-df-container\">\n",
              "      <div>\n",
              "<style scoped>\n",
              "    .dataframe tbody tr th:only-of-type {\n",
              "        vertical-align: middle;\n",
              "    }\n",
              "\n",
              "    .dataframe tbody tr th {\n",
              "        vertical-align: top;\n",
              "    }\n",
              "\n",
              "    .dataframe thead th {\n",
              "        text-align: right;\n",
              "    }\n",
              "</style>\n",
              "<table border=\"1\" class=\"dataframe\">\n",
              "  <thead>\n",
              "    <tr style=\"text-align: right;\">\n",
              "      <th></th>\n",
              "      <th>Actual-Values</th>\n",
              "      <th>Predicted-Values</th>\n",
              "    </tr>\n",
              "  </thead>\n",
              "  <tbody>\n",
              "    <tr>\n",
              "      <th>0</th>\n",
              "      <td>13</td>\n",
              "      <td>13.001667</td>\n",
              "    </tr>\n",
              "    <tr>\n",
              "      <th>1</th>\n",
              "      <td>11</td>\n",
              "      <td>9.480000</td>\n",
              "    </tr>\n",
              "    <tr>\n",
              "      <th>2</th>\n",
              "      <td>12</td>\n",
              "      <td>11.291667</td>\n",
              "    </tr>\n",
              "    <tr>\n",
              "      <th>3</th>\n",
              "      <td>19</td>\n",
              "      <td>9.790000</td>\n",
              "    </tr>\n",
              "    <tr>\n",
              "      <th>4</th>\n",
              "      <td>10</td>\n",
              "      <td>7.380000</td>\n",
              "    </tr>\n",
              "    <tr>\n",
              "      <th>5</th>\n",
              "      <td>13</td>\n",
              "      <td>9.879667</td>\n",
              "    </tr>\n",
              "    <tr>\n",
              "      <th>6</th>\n",
              "      <td>21</td>\n",
              "      <td>12.565000</td>\n",
              "    </tr>\n",
              "    <tr>\n",
              "      <th>7</th>\n",
              "      <td>7</td>\n",
              "      <td>8.660000</td>\n",
              "    </tr>\n",
              "    <tr>\n",
              "      <th>8</th>\n",
              "      <td>11</td>\n",
              "      <td>10.396695</td>\n",
              "    </tr>\n",
              "    <tr>\n",
              "      <th>9</th>\n",
              "      <td>12</td>\n",
              "      <td>10.825846</td>\n",
              "    </tr>\n",
              "  </tbody>\n",
              "</table>\n",
              "</div>\n",
              "      <button class=\"colab-df-convert\" onclick=\"convertToInteractive('df-dc1ffee2-146b-4205-bf1e-729ab76d4f0e')\"\n",
              "              title=\"Convert this dataframe to an interactive table.\"\n",
              "              style=\"display:none;\">\n",
              "        \n",
              "  <svg xmlns=\"http://www.w3.org/2000/svg\" height=\"24px\"viewBox=\"0 0 24 24\"\n",
              "       width=\"24px\">\n",
              "    <path d=\"M0 0h24v24H0V0z\" fill=\"none\"/>\n",
              "    <path d=\"M18.56 5.44l.94 2.06.94-2.06 2.06-.94-2.06-.94-.94-2.06-.94 2.06-2.06.94zm-11 1L8.5 8.5l.94-2.06 2.06-.94-2.06-.94L8.5 2.5l-.94 2.06-2.06.94zm10 10l.94 2.06.94-2.06 2.06-.94-2.06-.94-.94-2.06-.94 2.06-2.06.94z\"/><path d=\"M17.41 7.96l-1.37-1.37c-.4-.4-.92-.59-1.43-.59-.52 0-1.04.2-1.43.59L10.3 9.45l-7.72 7.72c-.78.78-.78 2.05 0 2.83L4 21.41c.39.39.9.59 1.41.59.51 0 1.02-.2 1.41-.59l7.78-7.78 2.81-2.81c.8-.78.8-2.07 0-2.86zM5.41 20L4 18.59l7.72-7.72 1.47 1.35L5.41 20z\"/>\n",
              "  </svg>\n",
              "      </button>\n",
              "      \n",
              "  <style>\n",
              "    .colab-df-container {\n",
              "      display:flex;\n",
              "      flex-wrap:wrap;\n",
              "      gap: 12px;\n",
              "    }\n",
              "\n",
              "    .colab-df-convert {\n",
              "      background-color: #E8F0FE;\n",
              "      border: none;\n",
              "      border-radius: 50%;\n",
              "      cursor: pointer;\n",
              "      display: none;\n",
              "      fill: #1967D2;\n",
              "      height: 32px;\n",
              "      padding: 0 0 0 0;\n",
              "      width: 32px;\n",
              "    }\n",
              "\n",
              "    .colab-df-convert:hover {\n",
              "      background-color: #E2EBFA;\n",
              "      box-shadow: 0px 1px 2px rgba(60, 64, 67, 0.3), 0px 1px 3px 1px rgba(60, 64, 67, 0.15);\n",
              "      fill: #174EA6;\n",
              "    }\n",
              "\n",
              "    [theme=dark] .colab-df-convert {\n",
              "      background-color: #3B4455;\n",
              "      fill: #D2E3FC;\n",
              "    }\n",
              "\n",
              "    [theme=dark] .colab-df-convert:hover {\n",
              "      background-color: #434B5C;\n",
              "      box-shadow: 0px 1px 3px 1px rgba(0, 0, 0, 0.15);\n",
              "      filter: drop-shadow(0px 1px 2px rgba(0, 0, 0, 0.3));\n",
              "      fill: #FFFFFF;\n",
              "    }\n",
              "  </style>\n",
              "\n",
              "      <script>\n",
              "        const buttonEl =\n",
              "          document.querySelector('#df-dc1ffee2-146b-4205-bf1e-729ab76d4f0e button.colab-df-convert');\n",
              "        buttonEl.style.display =\n",
              "          google.colab.kernel.accessAllowed ? 'block' : 'none';\n",
              "\n",
              "        async function convertToInteractive(key) {\n",
              "          const element = document.querySelector('#df-dc1ffee2-146b-4205-bf1e-729ab76d4f0e');\n",
              "          const dataTable =\n",
              "            await google.colab.kernel.invokeFunction('convertToInteractive',\n",
              "                                                     [key], {});\n",
              "          if (!dataTable) return;\n",
              "\n",
              "          const docLinkHtml = 'Like what you see? Visit the ' +\n",
              "            '<a target=\"_blank\" href=https://colab.research.google.com/notebooks/data_table.ipynb>data table notebook</a>'\n",
              "            + ' to learn more about interactive tables.';\n",
              "          element.innerHTML = '';\n",
              "          dataTable['output_type'] = 'display_data';\n",
              "          await google.colab.output.renderOutput(dataTable, element);\n",
              "          const docLink = document.createElement('div');\n",
              "          docLink.innerHTML = docLinkHtml;\n",
              "          element.appendChild(docLink);\n",
              "        }\n",
              "      </script>\n",
              "    </div>\n",
              "  </div>\n",
              "  "
            ]
          },
          "metadata": {},
          "execution_count": 35
        }
      ]
    },
    {
      "cell_type": "code",
      "source": [
        "print(f'Precisão do modelo: {random_forest.score(X, y)}')"
      ],
      "metadata": {
        "colab": {
          "base_uri": "https://localhost:8080/"
        },
        "id": "bU2m5KmPSm4S",
        "outputId": "432af714-2a36-49e9-bc66-e340a0ea62c0"
      },
      "execution_count": null,
      "outputs": [
        {
          "output_type": "stream",
          "name": "stdout",
          "text": [
            "Precisão do modelo: 0.9297417876351374\n"
          ]
        }
      ]
    },
    {
      "cell_type": "code",
      "source": [
        "#Verificando variável mais importante do Random Forest\n",
        "feat_importances = pd.DataFrame(rf.feature_importances_, index=X_train.columns, columns=[\"Importance\"])\n",
        "feat_importances.sort_values(by='Importance', ascending=False, inplace=True)\n",
        "feat_importances"
      ],
      "metadata": {
        "colab": {
          "base_uri": "https://localhost:8080/",
          "height": 269
        },
        "id": "q76Ra56pZrQz",
        "outputId": "de0d2caa-5c9d-42eb-8cf2-abf20b2e1648"
      },
      "execution_count": null,
      "outputs": [
        {
          "output_type": "execute_result",
          "data": {
            "text/plain": [
              "                 Importance\n",
              "Peso_casca         0.505876\n",
              "Peso_Descascado    0.170590\n",
              "Peso               0.095472\n",
              "Peso_intestino     0.085112\n",
              "Diametro           0.055914\n",
              "Comprimento        0.055416\n",
              "Sexo               0.031619"
            ],
            "text/html": [
              "\n",
              "  <div id=\"df-fbb00464-8ee3-4f10-a9ae-9465758cb57d\">\n",
              "    <div class=\"colab-df-container\">\n",
              "      <div>\n",
              "<style scoped>\n",
              "    .dataframe tbody tr th:only-of-type {\n",
              "        vertical-align: middle;\n",
              "    }\n",
              "\n",
              "    .dataframe tbody tr th {\n",
              "        vertical-align: top;\n",
              "    }\n",
              "\n",
              "    .dataframe thead th {\n",
              "        text-align: right;\n",
              "    }\n",
              "</style>\n",
              "<table border=\"1\" class=\"dataframe\">\n",
              "  <thead>\n",
              "    <tr style=\"text-align: right;\">\n",
              "      <th></th>\n",
              "      <th>Importance</th>\n",
              "    </tr>\n",
              "  </thead>\n",
              "  <tbody>\n",
              "    <tr>\n",
              "      <th>Peso_casca</th>\n",
              "      <td>0.505876</td>\n",
              "    </tr>\n",
              "    <tr>\n",
              "      <th>Peso_Descascado</th>\n",
              "      <td>0.170590</td>\n",
              "    </tr>\n",
              "    <tr>\n",
              "      <th>Peso</th>\n",
              "      <td>0.095472</td>\n",
              "    </tr>\n",
              "    <tr>\n",
              "      <th>Peso_intestino</th>\n",
              "      <td>0.085112</td>\n",
              "    </tr>\n",
              "    <tr>\n",
              "      <th>Diametro</th>\n",
              "      <td>0.055914</td>\n",
              "    </tr>\n",
              "    <tr>\n",
              "      <th>Comprimento</th>\n",
              "      <td>0.055416</td>\n",
              "    </tr>\n",
              "    <tr>\n",
              "      <th>Sexo</th>\n",
              "      <td>0.031619</td>\n",
              "    </tr>\n",
              "  </tbody>\n",
              "</table>\n",
              "</div>\n",
              "      <button class=\"colab-df-convert\" onclick=\"convertToInteractive('df-fbb00464-8ee3-4f10-a9ae-9465758cb57d')\"\n",
              "              title=\"Convert this dataframe to an interactive table.\"\n",
              "              style=\"display:none;\">\n",
              "        \n",
              "  <svg xmlns=\"http://www.w3.org/2000/svg\" height=\"24px\"viewBox=\"0 0 24 24\"\n",
              "       width=\"24px\">\n",
              "    <path d=\"M0 0h24v24H0V0z\" fill=\"none\"/>\n",
              "    <path d=\"M18.56 5.44l.94 2.06.94-2.06 2.06-.94-2.06-.94-.94-2.06-.94 2.06-2.06.94zm-11 1L8.5 8.5l.94-2.06 2.06-.94-2.06-.94L8.5 2.5l-.94 2.06-2.06.94zm10 10l.94 2.06.94-2.06 2.06-.94-2.06-.94-.94-2.06-.94 2.06-2.06.94z\"/><path d=\"M17.41 7.96l-1.37-1.37c-.4-.4-.92-.59-1.43-.59-.52 0-1.04.2-1.43.59L10.3 9.45l-7.72 7.72c-.78.78-.78 2.05 0 2.83L4 21.41c.39.39.9.59 1.41.59.51 0 1.02-.2 1.41-.59l7.78-7.78 2.81-2.81c.8-.78.8-2.07 0-2.86zM5.41 20L4 18.59l7.72-7.72 1.47 1.35L5.41 20z\"/>\n",
              "  </svg>\n",
              "      </button>\n",
              "      \n",
              "  <style>\n",
              "    .colab-df-container {\n",
              "      display:flex;\n",
              "      flex-wrap:wrap;\n",
              "      gap: 12px;\n",
              "    }\n",
              "\n",
              "    .colab-df-convert {\n",
              "      background-color: #E8F0FE;\n",
              "      border: none;\n",
              "      border-radius: 50%;\n",
              "      cursor: pointer;\n",
              "      display: none;\n",
              "      fill: #1967D2;\n",
              "      height: 32px;\n",
              "      padding: 0 0 0 0;\n",
              "      width: 32px;\n",
              "    }\n",
              "\n",
              "    .colab-df-convert:hover {\n",
              "      background-color: #E2EBFA;\n",
              "      box-shadow: 0px 1px 2px rgba(60, 64, 67, 0.3), 0px 1px 3px 1px rgba(60, 64, 67, 0.15);\n",
              "      fill: #174EA6;\n",
              "    }\n",
              "\n",
              "    [theme=dark] .colab-df-convert {\n",
              "      background-color: #3B4455;\n",
              "      fill: #D2E3FC;\n",
              "    }\n",
              "\n",
              "    [theme=dark] .colab-df-convert:hover {\n",
              "      background-color: #434B5C;\n",
              "      box-shadow: 0px 1px 3px 1px rgba(0, 0, 0, 0.15);\n",
              "      filter: drop-shadow(0px 1px 2px rgba(0, 0, 0, 0.3));\n",
              "      fill: #FFFFFF;\n",
              "    }\n",
              "  </style>\n",
              "\n",
              "      <script>\n",
              "        const buttonEl =\n",
              "          document.querySelector('#df-fbb00464-8ee3-4f10-a9ae-9465758cb57d button.colab-df-convert');\n",
              "        buttonEl.style.display =\n",
              "          google.colab.kernel.accessAllowed ? 'block' : 'none';\n",
              "\n",
              "        async function convertToInteractive(key) {\n",
              "          const element = document.querySelector('#df-fbb00464-8ee3-4f10-a9ae-9465758cb57d');\n",
              "          const dataTable =\n",
              "            await google.colab.kernel.invokeFunction('convertToInteractive',\n",
              "                                                     [key], {});\n",
              "          if (!dataTable) return;\n",
              "\n",
              "          const docLinkHtml = 'Like what you see? Visit the ' +\n",
              "            '<a target=\"_blank\" href=https://colab.research.google.com/notebooks/data_table.ipynb>data table notebook</a>'\n",
              "            + ' to learn more about interactive tables.';\n",
              "          element.innerHTML = '';\n",
              "          dataTable['output_type'] = 'display_data';\n",
              "          await google.colab.output.renderOutput(dataTable, element);\n",
              "          const docLink = document.createElement('div');\n",
              "          docLink.innerHTML = docLinkHtml;\n",
              "          element.appendChild(docLink);\n",
              "        }\n",
              "      </script>\n",
              "    </div>\n",
              "  </div>\n",
              "  "
            ]
          },
          "metadata": {},
          "execution_count": 37
        }
      ]
    },
    {
      "cell_type": "markdown",
      "source": [
        "<h8>Tunig [GridSearch]"
      ],
      "metadata": {
        "id": "Fxw1X4NKajF3"
      }
    },
    {
      "cell_type": "code",
      "source": [
        "#Hiperparametros\n",
        "n_estimator = [5, 20, 50, 100]\n",
        "max_features = ['auto', 'sqrt']\n",
        "max_depth = [int(x) for x in np.linspace(10, 120, num = 12)]\n",
        "min_samples_split = [2, 6, 10]\n",
        "min_samples_leaf = [3, 4, 7]\n",
        "bootstrap = [True, False]\n",
        "\n",
        "random_grid = {'n_estimators': n_estimator, 'max_features': max_features, 'max_depth': max_depth, 'min_samples_split': min_samples_leaf, 'bootstrap':bootstrap}"
      ],
      "metadata": {
        "id": "GiderUJScxbw"
      },
      "execution_count": null,
      "outputs": []
    },
    {
      "cell_type": "code",
      "source": [
        "from sklearn.ensemble import RandomForestRegressor\n",
        "rfR = RandomForestRegressor() "
      ],
      "metadata": {
        "id": "n3VGyijbhpCs"
      },
      "execution_count": null,
      "outputs": []
    },
    {
      "cell_type": "code",
      "source": [
        "from sklearn.model_selection import RandomizedSearchCV\n",
        "rfR_random = RandomizedSearchCV(estimator=rfR,param_distributions = random_grid, n_iter=100, cv=5, verbose=2, random_state=35, n_jobs = -1)"
      ],
      "metadata": {
        "id": "fFGt-d1uh64G"
      },
      "execution_count": null,
      "outputs": []
    },
    {
      "cell_type": "code",
      "source": [
        "rfR_random.fit(X_train, y_train)"
      ],
      "metadata": {
        "colab": {
          "base_uri": "https://localhost:8080/"
        },
        "id": "b98_NG_AiZmp",
        "outputId": "27aec7f3-cd76-47ee-af9f-f5a59830aa84"
      },
      "execution_count": null,
      "outputs": [
        {
          "output_type": "stream",
          "name": "stdout",
          "text": [
            "Fitting 5 folds for each of 100 candidates, totalling 500 fits\n"
          ]
        },
        {
          "output_type": "execute_result",
          "data": {
            "text/plain": [
              "RandomizedSearchCV(cv=5, estimator=RandomForestRegressor(), n_iter=100,\n",
              "                   n_jobs=-1,\n",
              "                   param_distributions={'bootstrap': [True, False],\n",
              "                                        'max_depth': [10, 20, 30, 40, 50, 60,\n",
              "                                                      70, 80, 90, 100, 110,\n",
              "                                                      120],\n",
              "                                        'max_features': ['auto', 'sqrt'],\n",
              "                                        'min_samples_split': [3, 4, 7],\n",
              "                                        'n_estimators': [5, 20, 50, 100]},\n",
              "                   random_state=35, verbose=2)"
            ]
          },
          "metadata": {},
          "execution_count": 42
        }
      ]
    },
    {
      "cell_type": "code",
      "source": [
        "#Retornar melhor parametro\n",
        "print('Random grid:', random_grid, '\\n')\n",
        "print('Melhor parametro:', rfR_random.best_params_,'\\n')"
      ],
      "metadata": {
        "colab": {
          "base_uri": "https://localhost:8080/"
        },
        "id": "5ZNFdusskpIZ",
        "outputId": "d9051b28-da8a-440f-e608-c5e9990730f3"
      },
      "execution_count": null,
      "outputs": [
        {
          "output_type": "stream",
          "name": "stdout",
          "text": [
            "Random grid: {'n_estimators': [5, 20, 50, 100], 'max_features': ['auto', 'sqrt'], 'max_depth': [10, 20, 30, 40, 50, 60, 70, 80, 90, 100, 110, 120], 'min_samples_split': [3, 4, 7], 'bootstrap': [True, False]} \n",
            "\n",
            "Melhor parametro: {'n_estimators': 100, 'min_samples_split': 7, 'max_features': 'sqrt', 'max_depth': 90, 'bootstrap': True} \n",
            "\n"
          ]
        }
      ]
    },
    {
      "cell_type": "code",
      "source": [
        "from pandas._libs.algos import rank_2d\n",
        "#Aplicando o melhor parametro a predicação\n",
        "randmf = RandomForestRegressor(n_estimators = 100, min_samples_split= 7, max_features= 'sqrt', max_depth = 90, bootstrap = True)\n",
        "randmf.fit(X_train, y_train)"
      ],
      "metadata": {
        "colab": {
          "base_uri": "https://localhost:8080/"
        },
        "id": "t2AVN6D4lVy6",
        "outputId": "fdf3a55c-61d8-4d1e-9df1-46d81e07a582"
      },
      "execution_count": null,
      "outputs": [
        {
          "output_type": "execute_result",
          "data": {
            "text/plain": [
              "RandomForestRegressor(max_depth=90, max_features='sqrt', min_samples_split=7)"
            ]
          },
          "metadata": {},
          "execution_count": 44
        }
      ]
    },
    {
      "cell_type": "code",
      "source": [
        "#Comparando valor previsto do valor real\n",
        "y_pred_rf1 = pd.DataFrame({\"Actual\": y_test, \"predicted_prob\": randmf.predict((X_test))})\n",
        "y_pred_rf1"
      ],
      "metadata": {
        "colab": {
          "base_uri": "https://localhost:8080/",
          "height": 833
        },
        "id": "AZTkfDBAndql",
        "outputId": "3f7256ad-fd15-405d-ca29-bdc1f3f4cd9c"
      },
      "execution_count": null,
      "outputs": [
        {
          "output_type": "execute_result",
          "data": {
            "text/plain": [
              "      Actual  predicted_prob\n",
              "1186      13       12.659813\n",
              "428       11        9.365082\n",
              "2228      12       11.028802\n",
              "1606      19       10.453967\n",
              "3395      10        8.147439\n",
              "3572      13        9.743714\n",
              "517       21       12.259584\n",
              "1181       7        8.643778\n",
              "3682      11       10.545759\n",
              "1125      12       10.900389\n",
              "2366      14       14.844427\n",
              "1757      12       13.838911\n",
              "690        8       10.008298\n",
              "1220      12       13.218306\n",
              "325        9        9.413307\n",
              "2390      16       14.095964\n",
              "425        7        7.221157\n",
              "3288      10        9.330175\n",
              "2524       6        8.544438\n",
              "3135       4        4.599794\n",
              "3108      11       10.294472\n",
              "2776      10       10.252788\n",
              "1474       7        8.774239\n",
              "1838      12       13.319250\n",
              "1432      13       13.623609"
            ],
            "text/html": [
              "\n",
              "  <div id=\"df-6d6a20da-bcde-4749-88e0-bc150240d3b3\">\n",
              "    <div class=\"colab-df-container\">\n",
              "      <div>\n",
              "<style scoped>\n",
              "    .dataframe tbody tr th:only-of-type {\n",
              "        vertical-align: middle;\n",
              "    }\n",
              "\n",
              "    .dataframe tbody tr th {\n",
              "        vertical-align: top;\n",
              "    }\n",
              "\n",
              "    .dataframe thead th {\n",
              "        text-align: right;\n",
              "    }\n",
              "</style>\n",
              "<table border=\"1\" class=\"dataframe\">\n",
              "  <thead>\n",
              "    <tr style=\"text-align: right;\">\n",
              "      <th></th>\n",
              "      <th>Actual</th>\n",
              "      <th>predicted_prob</th>\n",
              "    </tr>\n",
              "  </thead>\n",
              "  <tbody>\n",
              "    <tr>\n",
              "      <th>1186</th>\n",
              "      <td>13</td>\n",
              "      <td>12.659813</td>\n",
              "    </tr>\n",
              "    <tr>\n",
              "      <th>428</th>\n",
              "      <td>11</td>\n",
              "      <td>9.365082</td>\n",
              "    </tr>\n",
              "    <tr>\n",
              "      <th>2228</th>\n",
              "      <td>12</td>\n",
              "      <td>11.028802</td>\n",
              "    </tr>\n",
              "    <tr>\n",
              "      <th>1606</th>\n",
              "      <td>19</td>\n",
              "      <td>10.453967</td>\n",
              "    </tr>\n",
              "    <tr>\n",
              "      <th>3395</th>\n",
              "      <td>10</td>\n",
              "      <td>8.147439</td>\n",
              "    </tr>\n",
              "    <tr>\n",
              "      <th>3572</th>\n",
              "      <td>13</td>\n",
              "      <td>9.743714</td>\n",
              "    </tr>\n",
              "    <tr>\n",
              "      <th>517</th>\n",
              "      <td>21</td>\n",
              "      <td>12.259584</td>\n",
              "    </tr>\n",
              "    <tr>\n",
              "      <th>1181</th>\n",
              "      <td>7</td>\n",
              "      <td>8.643778</td>\n",
              "    </tr>\n",
              "    <tr>\n",
              "      <th>3682</th>\n",
              "      <td>11</td>\n",
              "      <td>10.545759</td>\n",
              "    </tr>\n",
              "    <tr>\n",
              "      <th>1125</th>\n",
              "      <td>12</td>\n",
              "      <td>10.900389</td>\n",
              "    </tr>\n",
              "    <tr>\n",
              "      <th>2366</th>\n",
              "      <td>14</td>\n",
              "      <td>14.844427</td>\n",
              "    </tr>\n",
              "    <tr>\n",
              "      <th>1757</th>\n",
              "      <td>12</td>\n",
              "      <td>13.838911</td>\n",
              "    </tr>\n",
              "    <tr>\n",
              "      <th>690</th>\n",
              "      <td>8</td>\n",
              "      <td>10.008298</td>\n",
              "    </tr>\n",
              "    <tr>\n",
              "      <th>1220</th>\n",
              "      <td>12</td>\n",
              "      <td>13.218306</td>\n",
              "    </tr>\n",
              "    <tr>\n",
              "      <th>325</th>\n",
              "      <td>9</td>\n",
              "      <td>9.413307</td>\n",
              "    </tr>\n",
              "    <tr>\n",
              "      <th>2390</th>\n",
              "      <td>16</td>\n",
              "      <td>14.095964</td>\n",
              "    </tr>\n",
              "    <tr>\n",
              "      <th>425</th>\n",
              "      <td>7</td>\n",
              "      <td>7.221157</td>\n",
              "    </tr>\n",
              "    <tr>\n",
              "      <th>3288</th>\n",
              "      <td>10</td>\n",
              "      <td>9.330175</td>\n",
              "    </tr>\n",
              "    <tr>\n",
              "      <th>2524</th>\n",
              "      <td>6</td>\n",
              "      <td>8.544438</td>\n",
              "    </tr>\n",
              "    <tr>\n",
              "      <th>3135</th>\n",
              "      <td>4</td>\n",
              "      <td>4.599794</td>\n",
              "    </tr>\n",
              "    <tr>\n",
              "      <th>3108</th>\n",
              "      <td>11</td>\n",
              "      <td>10.294472</td>\n",
              "    </tr>\n",
              "    <tr>\n",
              "      <th>2776</th>\n",
              "      <td>10</td>\n",
              "      <td>10.252788</td>\n",
              "    </tr>\n",
              "    <tr>\n",
              "      <th>1474</th>\n",
              "      <td>7</td>\n",
              "      <td>8.774239</td>\n",
              "    </tr>\n",
              "    <tr>\n",
              "      <th>1838</th>\n",
              "      <td>12</td>\n",
              "      <td>13.319250</td>\n",
              "    </tr>\n",
              "    <tr>\n",
              "      <th>1432</th>\n",
              "      <td>13</td>\n",
              "      <td>13.623609</td>\n",
              "    </tr>\n",
              "  </tbody>\n",
              "</table>\n",
              "</div>\n",
              "      <button class=\"colab-df-convert\" onclick=\"convertToInteractive('df-6d6a20da-bcde-4749-88e0-bc150240d3b3')\"\n",
              "              title=\"Convert this dataframe to an interactive table.\"\n",
              "              style=\"display:none;\">\n",
              "        \n",
              "  <svg xmlns=\"http://www.w3.org/2000/svg\" height=\"24px\"viewBox=\"0 0 24 24\"\n",
              "       width=\"24px\">\n",
              "    <path d=\"M0 0h24v24H0V0z\" fill=\"none\"/>\n",
              "    <path d=\"M18.56 5.44l.94 2.06.94-2.06 2.06-.94-2.06-.94-.94-2.06-.94 2.06-2.06.94zm-11 1L8.5 8.5l.94-2.06 2.06-.94-2.06-.94L8.5 2.5l-.94 2.06-2.06.94zm10 10l.94 2.06.94-2.06 2.06-.94-2.06-.94-.94-2.06-.94 2.06-2.06.94z\"/><path d=\"M17.41 7.96l-1.37-1.37c-.4-.4-.92-.59-1.43-.59-.52 0-1.04.2-1.43.59L10.3 9.45l-7.72 7.72c-.78.78-.78 2.05 0 2.83L4 21.41c.39.39.9.59 1.41.59.51 0 1.02-.2 1.41-.59l7.78-7.78 2.81-2.81c.8-.78.8-2.07 0-2.86zM5.41 20L4 18.59l7.72-7.72 1.47 1.35L5.41 20z\"/>\n",
              "  </svg>\n",
              "      </button>\n",
              "      \n",
              "  <style>\n",
              "    .colab-df-container {\n",
              "      display:flex;\n",
              "      flex-wrap:wrap;\n",
              "      gap: 12px;\n",
              "    }\n",
              "\n",
              "    .colab-df-convert {\n",
              "      background-color: #E8F0FE;\n",
              "      border: none;\n",
              "      border-radius: 50%;\n",
              "      cursor: pointer;\n",
              "      display: none;\n",
              "      fill: #1967D2;\n",
              "      height: 32px;\n",
              "      padding: 0 0 0 0;\n",
              "      width: 32px;\n",
              "    }\n",
              "\n",
              "    .colab-df-convert:hover {\n",
              "      background-color: #E2EBFA;\n",
              "      box-shadow: 0px 1px 2px rgba(60, 64, 67, 0.3), 0px 1px 3px 1px rgba(60, 64, 67, 0.15);\n",
              "      fill: #174EA6;\n",
              "    }\n",
              "\n",
              "    [theme=dark] .colab-df-convert {\n",
              "      background-color: #3B4455;\n",
              "      fill: #D2E3FC;\n",
              "    }\n",
              "\n",
              "    [theme=dark] .colab-df-convert:hover {\n",
              "      background-color: #434B5C;\n",
              "      box-shadow: 0px 1px 3px 1px rgba(0, 0, 0, 0.15);\n",
              "      filter: drop-shadow(0px 1px 2px rgba(0, 0, 0, 0.3));\n",
              "      fill: #FFFFFF;\n",
              "    }\n",
              "  </style>\n",
              "\n",
              "      <script>\n",
              "        const buttonEl =\n",
              "          document.querySelector('#df-6d6a20da-bcde-4749-88e0-bc150240d3b3 button.colab-df-convert');\n",
              "        buttonEl.style.display =\n",
              "          google.colab.kernel.accessAllowed ? 'block' : 'none';\n",
              "\n",
              "        async function convertToInteractive(key) {\n",
              "          const element = document.querySelector('#df-6d6a20da-bcde-4749-88e0-bc150240d3b3');\n",
              "          const dataTable =\n",
              "            await google.colab.kernel.invokeFunction('convertToInteractive',\n",
              "                                                     [key], {});\n",
              "          if (!dataTable) return;\n",
              "\n",
              "          const docLinkHtml = 'Like what you see? Visit the ' +\n",
              "            '<a target=\"_blank\" href=https://colab.research.google.com/notebooks/data_table.ipynb>data table notebook</a>'\n",
              "            + ' to learn more about interactive tables.';\n",
              "          element.innerHTML = '';\n",
              "          dataTable['output_type'] = 'display_data';\n",
              "          await google.colab.output.renderOutput(dataTable, element);\n",
              "          const docLink = document.createElement('div');\n",
              "          docLink.innerHTML = docLinkHtml;\n",
              "          element.appendChild(docLink);\n",
              "        }\n",
              "      </script>\n",
              "    </div>\n",
              "  </div>\n",
              "  "
            ]
          },
          "metadata": {},
          "execution_count": 45
        }
      ]
    },
    {
      "cell_type": "markdown",
      "metadata": {
        "id": "IL1cXgTd_Ydc"
      },
      "source": [
        "###Rede neural e Keras"
      ]
    },
    {
      "cell_type": "code",
      "execution_count": null,
      "metadata": {
        "id": "Oez8l0u6KLus",
        "colab": {
          "base_uri": "https://localhost:8080/"
        },
        "outputId": "c3b0cf4c-f468-432b-a650-2fb64f574d6e"
      },
      "outputs": [
        {
          "output_type": "stream",
          "name": "stdout",
          "text": [
            "2.8.2\n"
          ]
        }
      ],
      "source": [
        "import tensorflow as tf\n",
        "from tensorflow import keras\n",
        "from tensorflow.keras import layers\n",
        "\n",
        "print(tf.__version__)"
      ]
    },
    {
      "cell_type": "code",
      "execution_count": null,
      "metadata": {
        "id": "GP5vPVFCKLi8",
        "colab": {
          "base_uri": "https://localhost:8080/",
          "height": 206
        },
        "outputId": "ad10a1ff-3812-4226-e90a-b0a4effbd52a"
      },
      "outputs": [
        {
          "output_type": "execute_result",
          "data": {
            "text/plain": [
              "   Sexo  Comprimento  Diametro       Peso  Peso_Descascado  Peso_intestino  \\\n",
              "0     1       1.4375    1.1750  24.635715        12.332033        5.584852   \n",
              "1     2       0.8875    0.6500   5.400580         2.296310        1.374951   \n",
              "2     0       1.0375    0.7750   7.952035         3.231843        1.601747   \n",
              "3     1       1.1750    0.8875  13.480187         4.748541        2.282135   \n",
              "4     0       0.8875    0.6625   6.903103         3.458639        1.488349   \n",
              "\n",
              "   Peso_casca  Idade  \n",
              "0    6.747181      9  \n",
              "1    1.559222      6  \n",
              "2    2.764076      6  \n",
              "3    5.244657     10  \n",
              "4    1.700970      6  "
            ],
            "text/html": [
              "\n",
              "  <div id=\"df-e195c03c-d736-4ea4-8039-db5b36d77541\">\n",
              "    <div class=\"colab-df-container\">\n",
              "      <div>\n",
              "<style scoped>\n",
              "    .dataframe tbody tr th:only-of-type {\n",
              "        vertical-align: middle;\n",
              "    }\n",
              "\n",
              "    .dataframe tbody tr th {\n",
              "        vertical-align: top;\n",
              "    }\n",
              "\n",
              "    .dataframe thead th {\n",
              "        text-align: right;\n",
              "    }\n",
              "</style>\n",
              "<table border=\"1\" class=\"dataframe\">\n",
              "  <thead>\n",
              "    <tr style=\"text-align: right;\">\n",
              "      <th></th>\n",
              "      <th>Sexo</th>\n",
              "      <th>Comprimento</th>\n",
              "      <th>Diametro</th>\n",
              "      <th>Peso</th>\n",
              "      <th>Peso_Descascado</th>\n",
              "      <th>Peso_intestino</th>\n",
              "      <th>Peso_casca</th>\n",
              "      <th>Idade</th>\n",
              "    </tr>\n",
              "  </thead>\n",
              "  <tbody>\n",
              "    <tr>\n",
              "      <th>0</th>\n",
              "      <td>1</td>\n",
              "      <td>1.4375</td>\n",
              "      <td>1.1750</td>\n",
              "      <td>24.635715</td>\n",
              "      <td>12.332033</td>\n",
              "      <td>5.584852</td>\n",
              "      <td>6.747181</td>\n",
              "      <td>9</td>\n",
              "    </tr>\n",
              "    <tr>\n",
              "      <th>1</th>\n",
              "      <td>2</td>\n",
              "      <td>0.8875</td>\n",
              "      <td>0.6500</td>\n",
              "      <td>5.400580</td>\n",
              "      <td>2.296310</td>\n",
              "      <td>1.374951</td>\n",
              "      <td>1.559222</td>\n",
              "      <td>6</td>\n",
              "    </tr>\n",
              "    <tr>\n",
              "      <th>2</th>\n",
              "      <td>0</td>\n",
              "      <td>1.0375</td>\n",
              "      <td>0.7750</td>\n",
              "      <td>7.952035</td>\n",
              "      <td>3.231843</td>\n",
              "      <td>1.601747</td>\n",
              "      <td>2.764076</td>\n",
              "      <td>6</td>\n",
              "    </tr>\n",
              "    <tr>\n",
              "      <th>3</th>\n",
              "      <td>1</td>\n",
              "      <td>1.1750</td>\n",
              "      <td>0.8875</td>\n",
              "      <td>13.480187</td>\n",
              "      <td>4.748541</td>\n",
              "      <td>2.282135</td>\n",
              "      <td>5.244657</td>\n",
              "      <td>10</td>\n",
              "    </tr>\n",
              "    <tr>\n",
              "      <th>4</th>\n",
              "      <td>0</td>\n",
              "      <td>0.8875</td>\n",
              "      <td>0.6625</td>\n",
              "      <td>6.903103</td>\n",
              "      <td>3.458639</td>\n",
              "      <td>1.488349</td>\n",
              "      <td>1.700970</td>\n",
              "      <td>6</td>\n",
              "    </tr>\n",
              "  </tbody>\n",
              "</table>\n",
              "</div>\n",
              "      <button class=\"colab-df-convert\" onclick=\"convertToInteractive('df-e195c03c-d736-4ea4-8039-db5b36d77541')\"\n",
              "              title=\"Convert this dataframe to an interactive table.\"\n",
              "              style=\"display:none;\">\n",
              "        \n",
              "  <svg xmlns=\"http://www.w3.org/2000/svg\" height=\"24px\"viewBox=\"0 0 24 24\"\n",
              "       width=\"24px\">\n",
              "    <path d=\"M0 0h24v24H0V0z\" fill=\"none\"/>\n",
              "    <path d=\"M18.56 5.44l.94 2.06.94-2.06 2.06-.94-2.06-.94-.94-2.06-.94 2.06-2.06.94zm-11 1L8.5 8.5l.94-2.06 2.06-.94-2.06-.94L8.5 2.5l-.94 2.06-2.06.94zm10 10l.94 2.06.94-2.06 2.06-.94-2.06-.94-.94-2.06-.94 2.06-2.06.94z\"/><path d=\"M17.41 7.96l-1.37-1.37c-.4-.4-.92-.59-1.43-.59-.52 0-1.04.2-1.43.59L10.3 9.45l-7.72 7.72c-.78.78-.78 2.05 0 2.83L4 21.41c.39.39.9.59 1.41.59.51 0 1.02-.2 1.41-.59l7.78-7.78 2.81-2.81c.8-.78.8-2.07 0-2.86zM5.41 20L4 18.59l7.72-7.72 1.47 1.35L5.41 20z\"/>\n",
              "  </svg>\n",
              "      </button>\n",
              "      \n",
              "  <style>\n",
              "    .colab-df-container {\n",
              "      display:flex;\n",
              "      flex-wrap:wrap;\n",
              "      gap: 12px;\n",
              "    }\n",
              "\n",
              "    .colab-df-convert {\n",
              "      background-color: #E8F0FE;\n",
              "      border: none;\n",
              "      border-radius: 50%;\n",
              "      cursor: pointer;\n",
              "      display: none;\n",
              "      fill: #1967D2;\n",
              "      height: 32px;\n",
              "      padding: 0 0 0 0;\n",
              "      width: 32px;\n",
              "    }\n",
              "\n",
              "    .colab-df-convert:hover {\n",
              "      background-color: #E2EBFA;\n",
              "      box-shadow: 0px 1px 2px rgba(60, 64, 67, 0.3), 0px 1px 3px 1px rgba(60, 64, 67, 0.15);\n",
              "      fill: #174EA6;\n",
              "    }\n",
              "\n",
              "    [theme=dark] .colab-df-convert {\n",
              "      background-color: #3B4455;\n",
              "      fill: #D2E3FC;\n",
              "    }\n",
              "\n",
              "    [theme=dark] .colab-df-convert:hover {\n",
              "      background-color: #434B5C;\n",
              "      box-shadow: 0px 1px 3px 1px rgba(0, 0, 0, 0.15);\n",
              "      filter: drop-shadow(0px 1px 2px rgba(0, 0, 0, 0.3));\n",
              "      fill: #FFFFFF;\n",
              "    }\n",
              "  </style>\n",
              "\n",
              "      <script>\n",
              "        const buttonEl =\n",
              "          document.querySelector('#df-e195c03c-d736-4ea4-8039-db5b36d77541 button.colab-df-convert');\n",
              "        buttonEl.style.display =\n",
              "          google.colab.kernel.accessAllowed ? 'block' : 'none';\n",
              "\n",
              "        async function convertToInteractive(key) {\n",
              "          const element = document.querySelector('#df-e195c03c-d736-4ea4-8039-db5b36d77541');\n",
              "          const dataTable =\n",
              "            await google.colab.kernel.invokeFunction('convertToInteractive',\n",
              "                                                     [key], {});\n",
              "          if (!dataTable) return;\n",
              "\n",
              "          const docLinkHtml = 'Like what you see? Visit the ' +\n",
              "            '<a target=\"_blank\" href=https://colab.research.google.com/notebooks/data_table.ipynb>data table notebook</a>'\n",
              "            + ' to learn more about interactive tables.';\n",
              "          element.innerHTML = '';\n",
              "          dataTable['output_type'] = 'display_data';\n",
              "          await google.colab.output.renderOutput(dataTable, element);\n",
              "          const docLink = document.createElement('div');\n",
              "          docLink.innerHTML = docLinkHtml;\n",
              "          element.appendChild(docLink);\n",
              "        }\n",
              "      </script>\n",
              "    </div>\n",
              "  </div>\n",
              "  "
            ]
          },
          "metadata": {},
          "execution_count": 47
        }
      ],
      "source": [
        "dataset = data.copy()\n",
        "dataset.head()"
      ]
    },
    {
      "cell_type": "markdown",
      "metadata": {
        "id": "DZ5Edu4ENMI2"
      },
      "source": [
        "<h8>One-Hot encoding"
      ]
    },
    {
      "cell_type": "code",
      "execution_count": null,
      "metadata": {
        "id": "6YSDWDbzKwql",
        "colab": {
          "base_uri": "https://localhost:8080/"
        },
        "outputId": "94049f0d-4f5a-4e50-fe57-4c9db4ea9049"
      },
      "outputs": [
        {
          "output_type": "stream",
          "name": "stdout",
          "text": [
            " col Sexo , Qtd de valores únicos: 3 , [1, 2, 0] \n",
            " \n",
            " col Comprimento , Qtd de valores únicos: 134 , [1.4375, 0.8875, 1.0375, 1.175, 1.55, 1.3, 1.325, 1.5875, 0.9125, 0.825, 1.3625, 0.8625, 1.375, 1.225, 1.6375, 1.6, 1.0625, 1.475, 0.7625, 1.1125, 1.625, 0.925, 0.575, 1.2625, 1.3375, 1.525, 1.575, 1.0875, 1.25, 1.4875, 1.4, 1.0125, 0.75, 1.05, 0.8, 1.7, 1.5125, 1.725, 1.1375, 1.8, 1.3125, 1.775, 0.6875, 1.075, 1.6125, 1.6875, 1.275, 1.4625, 0.7, 0.875, 1.125, 1.35, 1.9375, 1.85, 1.5, 1.2, 1.425, 0.7375, 1.7375, 1.5625, 1.5375, 0.9875, 0.675, 1.65, 0.975, 1.2125, 1.3875, 0.775, 0.9625, 0.8375, 1.7875, 1.1, 1.0, 1.6625, 1.7125, 1.2875, 1.1625, 0.95, 0.4625, 1.1875, 1.675, 1.15, 1.75, 1.025, 0.725, 0.9, 1.4125, 1.45, 1.2375, 1.8375, 1.825, 0.7875, 1.7625, 0.35, 0.9375, 0.85, 0.7125, 0.6125, 1.875, 0.5875, 0.6, 0.8125, 1.8875, 2.0, 1.95, 0.45, 0.6375, 0.4875, 0.625, 1.8125, 0.3875, 0.5, 1.9, 0.275, 0.475, 0.5625, 0.65, 0.55, 0.525, 0.4, 0.4125, 0.375, 1.8625, 0.325, 0.5375, 0.5125, 0.1875, 0.425, 2.0375, 1.9125, 1.925, 0.3375, 0.6625, 0.4375] \n",
            " \n",
            " col Diametro , Qtd de valores únicos: 111 , [1.175, 0.65, 0.775, 0.8875, 0.6625, 1.1625, 1.0, 1.0125, 1.25, 0.6875, 0.5375, 1.05, 0.6375, 1.075, 0.95, 1.2875, 1.3125, 1.1, 0.575, 0.8, 0.4375, 0.975, 1.2125, 0.8125, 0.875, 1.1875, 1.225, 1.0375, 0.8625, 0.825, 1.125, 0.5125, 1.4, 1.35, 1.025, 1.45, 1.3625, 1.4125, 0.5, 0.9375, 1.3, 1.1375, 0.7, 0.8375, 1.0875, 1.425, 1.2, 1.2375, 1.275, 1.0625, 1.325, 1.15, 0.9625, 0.725, 1.1125, 0.4875, 1.3375, 0.75, 0.9, 0.7875, 0.5875, 0.625, 1.2625, 0.85, 0.3375, 1.4375, 0.525, 1.4625, 0.5625, 1.475, 0.925, 0.7625, 1.5, 0.675, 0.475, 1.375, 0.9125, 0.9875, 0.2625, 0.6, 0.55, 0.7125, 0.425, 1.575, 0.45, 0.375, 1.4875, 0.6125, 0.2875, 0.3625, 1.5125, 0.225, 0.4125, 1.3875, 0.35, 0.4, 0.7375, 0.3, 0.325, 0.25, 0.2375, 1.525, 0.1375, 0.4625, 0.3125, 1.625, 1.5375, 0.275, 0.3875, 1.55, 1.5625] \n",
            " \n",
            " col Peso , Qtd de valores únicos: 2343 , [24.6357155, 5.40057975, 7.95203475, 13.48018725, 6.90310325, 28.6613445, 17.70426275, 23.57260925, 42.2124055, 6.80388, 3.24601775, 21.375523, 5.68407475, 20.184844, 14.9968855, 42.354153, 37.23706825, 8.5331995, 27.08794725, 4.12485225, 11.736693, 39.2640575, 7.2858215, 1.82854275, 19.107563, 23.85610425, 20.31241675, 35.28095275, 37.874932, 11.32562525, 11.1413535, 14.98271075, 17.36406875, 35.3518265, 34.529691, 21.58814425, 11.5949455, 8.77417025, 3.61456125, 9.979024, 22.8780465, 5.1312595, 50.39123625, 34.0477495, 8.8166945, 44.55123925, 18.767369, 47.003471, 25.4295015, 29.27085875, 12.984071, 49.54075125, 24.39474475, 20.08562075, 11.77921725, 48.94541175, 27.158821, 2.62232875, 17.463292, 16.102516, 9.25611175, 12.7289255, 5.386405, 35.436875, 40.49726075, 18.27125275, 38.68289275, 19.43358225, 27.9809565, 7.144074, 3.30271675, 23.473386, 6.08096775, 33.112216, 12.68640125, 27.9242575, 23.23241525, 25.287754, 15.7339725, 57.606184, 17.84601025, 32.488527, 28.803092, 16.93882625, 67.5001595, 10.432616, 47.18774275, 14.8834875, 36.457457, 29.97959625, 22.0275615, 36.4291075, 34.06192425, 9.08601475, 24.5223175, 25.2027055, 3.288542, 24.73493875, 42.807745, 21.035329, 26.1665885, 31.51046925, 30.220567, 28.05183025, 23.51591025, 16.7545545, 8.66077225, 6.33611325, 14.8267885, 27.78251, 30.51823675, 26.1098895, 8.618248, 33.38153625, 24.834162, 2.83495, 14.118051, 25.3161035, 45.08987975, 16.17338975, 33.5941575, 2.664853, 14.81261375, 16.896302, 44.04094825, 8.5898985, 25.52872475, 30.5891105, 3.6003865, 13.11164375, 22.963095, 5.10291, 21.602319, 7.1157245, 36.72677725, 22.055911, 36.85435, 5.1879585, 24.94756, 35.25260325, 30.91512975, 29.1149365, 10.149121, 24.323871, 50.745605, 12.0485375, 49.31395525, 21.87163925, 36.0889135, 36.7693015, 29.44095575, 37.15201975, 36.3157095, 12.7856245, 8.57572375, 30.94347925, 36.78347625, 57.6345335, 33.792604, 35.777069, 44.22522, 35.36600125, 43.318036, 14.17475, 17.76096175, 28.8314415, 9.93649975, 8.17883075, 34.302895, 23.91280325, 29.0582375, 0.7654365, 15.9607685, 51.21337175, 12.927372, 12.360382, 41.00755175, 32.16250775, 49.22890675, 20.921931, 8.674947, 2.7499015, 23.870279, 43.21881275, 11.89261525, 5.59902625, 27.76833525, 12.60135275, 16.42853525, 49.99434325, 28.76056775, 46.22385975, 46.6916265, 10.375917, 26.2799865, 49.668324, 35.84794275, 12.5021295, 37.54891275, 4.3941725, 27.59823825, 9.11436425, 43.81415225, 8.46232575, 15.252031, 17.50581625, 22.339406, 39.008912, 23.71435675, 14.18892475, 34.699788, 18.72484475, 25.7129965, 26.2232875, 11.169703, 7.44174375, 15.365429, 9.19941275, 12.3320325, 40.92250325, 21.36134825, 60.384435, 13.437663, 72.4329725, 39.972795, 43.1195895, 28.689694, 36.55668025, 3.98310475, 15.4504775, 37.137845, 6.2085405, 13.494362, 2.2963095, 34.79901125, 47.35783975, 61.6034635, 10.77281, 38.385223, 2.438057, 18.18620425, 34.6147395, 8.958442, 20.11397025, 4.422522, 16.40018575, 58.6551155, 13.53688625, 5.65572525, 3.21766825, 19.1926115, 29.15746075, 11.7083435, 35.22425375, 11.18387775, 35.81959325, 15.0535845, 9.4970825, 44.168521, 14.1464005, 5.25883225, 24.153774, 22.6796, 3.798833, 28.08017975, 25.86891875, 4.762716, 13.891255, 29.63940225, 5.613201, 22.12678475, 32.2333815, 53.84987525, 52.29065275, 13.62193475, 46.62075275, 36.27318525, 24.777463, 29.029888, 10.41844125, 37.32211675, 11.6516445, 16.782904, 5.556502, 2.721552, 22.41027975, 6.70465675, 38.55532, 21.21960075, 9.02931575, 13.60776, 41.31939625, 17.2648455, 26.138239, 13.7495075, 36.18813675, 31.68056625, 9.525432, 0.396893, 11.46737275, 24.81998725, 14.7700895, 51.29842025, 8.845044, 36.1456125, 33.49493425, 4.6209685, 26.705229, 29.18581025, 14.75591475, 17.7751365, 21.0069795, 4.082328, 13.56523575, 27.79668475, 27.45649075, 29.937072, 28.3778495, 32.02076025, 31.70891575, 7.654365, 29.7386255, 20.6100865, 14.7133905, 5.34388075, 8.0229085, 15.49300175, 16.5277585, 7.55514175, 18.9091165, 52.09220625, 3.67126025, 3.3168915, 37.0527965, 22.66542525, 24.437269, 12.757275, 23.3883375, 40.07201825, 7.61184075, 51.55356575, 21.4038725, 31.39707125, 41.4753185, 5.6699, 11.8217415, 41.8722115, 26.52095725, 18.6256215, 13.04077, 30.957654, 33.055517, 2.65067825, 34.26037075, 32.27590575, 14.13222575, 28.98736375, 17.95940825, 3.8838815, 56.075311, 15.43630275, 7.93786, 34.23202125, 2.22543575, 22.77882325, 22.5378525, 23.756881, 6.59125875, 2.48058125, 28.7180435, 31.524644, 18.71067, 10.27669375, 48.477645, 38.00250475, 30.1922175, 22.38193025, 12.076887, 30.74503275, 42.73687125, 15.66309875, 18.80989325, 27.612413, 30.333965, 51.95045875, 9.73805325, 30.1355185, 1.77184375, 43.98424925, 36.95357325, 6.8889285, 29.72445075, 16.25843825, 12.28950825, 25.13183175, 17.4349425, 10.53183925, 21.95668775, 21.5172705, 28.22192725, 6.577084, 46.13881125, 13.87708025, 7.49844275, 50.972401, 31.9498865, 18.937466, 23.359988, 13.097469, 5.88252125, 11.92096475, 15.932419, 38.82464025, 36.230661, 18.540573, 18.427175, 19.3060095, 3.38776525, 9.298636, 25.10348225, 39.3774555, 8.71747125, 14.5999925, 1.99863975, 23.643483, 4.706017, 34.2178465, 27.499015, 15.87572, 43.885026, 53.580555, 27.4139665, 5.82582225, 10.1774705, 25.741346, 22.4811535, 53.08443875, 41.71628925, 45.99706375, 14.061352, 15.20950675, 3.515338, 36.0322145, 26.365035, 16.7120303, 25.16018125, 41.82968725, 48.00987825, 19.71707725, 56.88327175, 16.51358375, 58.75433875, 19.06503875, 6.44951125, 8.4198015, 16.23008875, 29.07241225, 24.38057, 41.503668, 12.14776075, 25.35862775, 32.375129, 30.0221205, 20.41164, 27.99513125, 3.72795925, 28.50542225, 27.725811, 26.818627, 18.597272, 71.610837, 18.78154375, 21.47474625, 59.6189985, 29.9654215, 23.5584345, 33.57998275, 27.839209, 33.225614, 34.3879435, 21.885814, 14.5432935, 19.8163005, 28.81726675, 41.276872, 10.44679075, 17.123098, 15.762322, 34.0194, 17.19397175, 35.266778, 6.7188315, 22.452804, 9.82310175, 10.24834425, 33.40988575, 29.80949925, 72.234526, 37.71900975, 1.814368, 6.27941425, 25.0893075, 18.75319425, 23.11901725, 16.31513725, 31.127751, 12.71475075, 5.9250455, 12.06271225, 12.6155275, 35.4652245, 16.28678775, 12.74310025, 54.7995835, 6.87475375, 23.09066775, 32.431828, 34.8415355, 38.20095125, 27.442316, 11.55242125, 28.122704, 15.03940975, 32.36095425, 38.96638775, 8.9867915, 24.90503575, 20.28406725, 13.25339125, 36.24483575, 56.59977675, 36.6559035, 0.9355335, 42.184056, 8.9300925, 28.066005, 6.93145275, 3.5436875, 5.5848515, 49.45570275, 4.819415, 31.6096925, 2.3530085, 6.25106475, 35.096681, 5.6415505, 43.0628905, 1.06310625, 12.303683, 38.498621, 38.42774725, 27.1871705, 15.71979775, 62.95006475, 12.9557215, 32.07745925, 33.7075555, 10.262519, 18.24290325, 14.27397325, 3.86970675, 22.169309, 34.91240925, 6.293589, 34.99745775, 2.26796, 6.180191, 24.7491135, 10.716111, 3.04757125, 6.23689, 21.72989175, 35.50774875, 15.26620575, 24.87668625, 6.39281225, 11.94931425, 51.2275465, 34.246196, 26.01066625, 11.850091, 24.79163775, 29.5685285, 32.4601775, 6.50621025, 11.226402, 24.664065, 19.94387325, 2.16873675, 11.7650425, 22.24018275, 53.070264, 28.91649, 29.21415975, 6.1518415, 24.96173475, 50.53298375, 30.09299425, 36.117263, 27.51318975, 31.62386725, 49.0871593, 22.72212425, 32.41765325, 3.6570855, 32.10580875, 43.47395825, 4.49339575, 12.43125575, 39.02308675, 52.43240025, 38.03085425, 30.4190135, 8.80251975, 44.43784125, 26.15241375, 12.870673, 19.66037825, 19.20678625, 20.071446, 31.19862475, 0.680388, 2.0695135, 44.21104525, 1.020582, 27.5273645, 30.71668325, 4.29494925, 20.638436, 16.4143605, 8.15048125, 30.900955, 15.88989475, 18.7957185, 10.2341695, 14.458245, 49.2430815, 33.8776525, 30.674159, 8.06543275, 39.519203, 10.659412, 22.736299, 37.761534, 9.355335, 7.6827145, 48.874538, 4.309124, 31.071052, 28.47707275, 50.802304, 29.596878, 18.030282, 21.1203775, 19.504456, 33.26813825, 37.1094955, 13.834556, 10.886208, 22.849697, 26.64853, 30.63163475, 38.08755325, 38.612019, 20.99280475, 13.4660125, 47.27279125, 28.16522825, 10.0640725, 62.652395, 4.94698775, 32.13415825, 9.63883, 26.03901575, 0.226796, 31.90736225, 10.64523725, 28.973189, 17.90270925, 43.9700745, 32.9137695, 25.1460065, 14.3731965, 53.29706, 15.35125425, 35.02580725, 1.077281, 24.56484175, 23.28911425, 20.96445525, 78.79743525, 37.081146, 43.70075425, 18.824068, 38.5836695, 5.443104, 31.02852775, 36.67007825, 16.6978555, 29.0015385, 25.44367625, 1.6726205, 38.11590275, 2.67902775, 45.25997675, 26.308336, 19.51863075, 17.916884, 11.04213025, 21.829115, 36.7126025, 25.98231675, 17.6617385, 26.20911275, 38.71124225, 17.73261225, 17.293195, 45.5576465, 24.67823975, 9.65300475, 6.95980225, 51.992983, 4.649318, 22.80717275, 23.6151335, 18.07280625, 33.849303, 9.42620875, 23.60095875, 26.3933845, 45.23162725, 7.7961125, 48.7327905, 12.417081, 2.87747425, 38.8671645, 43.87085125, 25.8830935, 6.61960825, 19.6462035, 10.58853825, 12.6722265, 20.0997955, 18.10115575, 32.601925, 27.25804425, 32.8570705, 33.86347775, 38.838815, 3.005047, 14.33067225, 63.37530725, 17.08057375, 20.0430965, 11.963489, 3.16096925, 15.6772735, 10.546014, 14.16057525, 27.39979175, 39.41997975, 34.74231225, 39.745999, 16.45688475, 10.319218, 6.64795775, 37.63396125, 41.900561, 21.92833825, 30.3623145, 13.05494475, 29.3417325, 38.7537665, 24.6924145, 33.46658475, 18.2287285, 9.07184, 46.096287, 8.7599955, 37.194544, 36.967748, 33.3673615, 41.23434775, 22.5945515, 55.23900075, 28.519597, 26.932025, 26.251637, 20.25571775, 28.02348075, 9.51125725, 4.32329875, 0.9922325, 18.01610725, 12.47378, 24.50814275, 31.1561005, 9.128539, 7.21494775, 45.7277435, 35.05415675, 7.04485075, 30.5324115, 7.0590255, 26.29416125, 40.78075575, 9.752228, 22.89222125, 16.54193325, 27.20134525, 25.58542375, 21.41804725, 1.3891255, 14.628342, 41.95726, 3.40194, 13.551061, 6.0951425, 18.4555245, 12.54465375, 40.1145425, 11.43902325, 39.13648475, 9.015141, 14.798439, 23.62930825, 24.28134675, 18.21455375, 1.13398, 21.24795025, 35.550273, 13.3526145, 26.194938, 0.41106775, 8.51902475, 49.68249875, 22.92057075, 18.58309725, 35.72037, 6.8322295, 22.2543575, 5.96756975, 13.154168, 23.9553275, 33.12639075, 2.45223175, 18.313777, 11.49572225, 50.3770615, 14.07552675, 2.381358, 7.27164675, 24.76328825, 4.91863825, 13.8062065, 49.8667705, 50.95822625, 0.510291, 19.77377625, 13.210867, 23.45921125, 27.54153925, 38.88133925, 41.0784255, 29.540179, 17.42076775, 34.9549335, 29.5118295, 22.55202725, 33.04134225, 46.42230625, 35.890467, 33.9343515, 21.64484325, 13.16834275, 28.5479465, 35.93299125, 26.535132, 10.73028575, 34.5013415, 43.7432785, 12.23280925, 7.98038425, 13.267566, 16.0741665, 27.385617, 23.26076475, 14.4865945, 12.2753335, 38.34269875, 27.37144225, 13.59358525, 25.7696955, 4.8477645, 32.24755625, 6.633783, 19.17843675, 22.04173625, 38.90968875, 0.8221355, 4.7343665, 40.24211525, 49.34230475, 5.8683465, 11.58077075, 19.46193175, 35.62114675, 56.7840485, 31.75144, 9.808927, 23.17571625, 27.00289875, 45.8978405, 16.4710595, 17.349894, 26.08154, 6.05261825, 45.68521925, 27.669112, 28.78891725, 16.68368075, 21.38969775, 16.9813505, 23.0481435, 44.94813225, 35.5786225, 32.7436725, 23.586784, 23.6718325, 26.591831, 22.21183325, 17.30736975, 8.051258, 18.1153305, 30.8159065, 18.0019325, 18.86659225, 16.839603, 15.025235, 23.81358, 3.41611475, 15.7906715, 25.9397925, 23.48756075, 3.01922175, 23.94115275, 43.7999775, 46.379782, 42.14153175, 21.318824, 33.1972645, 51.49686675, 13.33843975, 20.87940675, 34.189497, 31.014353, 29.48348, 5.6982495, 25.8263945, 43.6298805, 44.8772585, 28.10852925, 20.59591175, 40.66735775, 5.0745605, 44.97648175, 1.80019325, 22.97726975, 0.4252425, 5.45727875, 5.17378375, 17.22232125, 63.786375, 9.2135875, 37.03862175, 38.73959175, 14.67086625, 39.73182425, 37.42134, 20.3265915, 2.82077525, 33.35318675, 26.97454925, 3.572037, 15.77649675, 21.16290175, 33.4807595, 23.7285315, 25.457851, 38.65454325, 0.5953395, 3.55786225, 23.88445375, 26.12406425, 31.14192575, 3.13261975, 0.29766975, 40.63900825, 21.50309575, 6.917278, 20.4966885, 13.664459, 14.514944, 10.829509, 27.14464625, 47.8823055, 50.121916, 32.98464325, 16.34348675, 30.12134375, 20.9502805, 30.730858, 35.8621175, 70.66112875, 14.69921575, 18.653971, 23.14736675, 30.390664, 33.89182725, 8.901743, 19.57532975, 1.1623295, 40.483086, 5.8116475, 3.07592075, 7.824462, 6.30776375, 19.674553, 24.53649225, 4.80524025, 49.25725625, 35.19590425, 5.06038575, 27.895908, 33.962701, 9.34116025, 11.509897, 3.96893, 43.431434, 4.09650275, 22.8213475, 34.77066175, 40.25629, 27.65493725, 11.2547515, 4.86193925, 30.504062, 14.92601175, 6.066793, 32.0065855, 9.8372765, 6.13766675, 34.5580405, 29.8520235, 35.87629225, 12.4454305, 32.205032, 24.1821235, 45.2741515, 10.3475675, 53.4388075, 19.447757, 17.02387475, 24.5790165, 27.8675585, 35.210079, 45.756093, 6.123492, 19.9863975, 0.907184, 11.15552825, 65.87006325, 60.66793, 23.530085, 1.190679, 9.8939755, 53.6089045, 43.27551175, 8.60407325, 21.44639675, 14.2030995, 25.060958, 47.62716, 12.09106175, 3.4302895, 58.98113475, 44.2535695, 5.3013565, 39.9444455, 12.813974, 27.22969475, 71.11472075, 1.8994165, 24.93338525, 0.056699, 23.79940525, 6.4353365, 28.39202425, 39.95862025, 19.09338825, 9.241937, 23.019794, 27.0170735, 27.328918, 1.57339725, 8.32057825, 24.36639525, 24.8058125, 27.91008275, 20.6667855, 7.257472, 1.09145575, 12.8990225, 15.138633, 1.6159215, 7.38504475, 59.68987225, 13.9196045, 26.988724, 50.24948875, 9.0434905, 45.529297, 11.396499, 52.276478, 30.107169, 24.2388225, 15.2803805, 49.8100715, 27.1304715, 38.1867765, 44.79221, 15.15280775, 18.55474775, 25.67047225, 12.99824575, 9.28446125, 0.66621325, 31.978236, 34.983283, 42.297454, 22.226008, 24.13959925, 10.6310625, 35.59279725, 10.50348975, 38.328524, 36.514156, 2.494756, 61.3766675, 28.36367475, 25.51455, 6.463686, 31.3261975, 15.5638755, 42.921143, 7.69688925, 19.29183475, 10.8011595, 26.80445225, 37.591437, 2.608154, 25.0326085, 15.37960375, 23.65765775, 3.35941575, 30.43318825, 27.82503425, 14.911837, 34.1611475, 18.69649525, 38.4702715, 35.42270025, 27.71163625, 43.1762885, 18.5689225, 33.83512825, 40.653183, 39.7743485, 34.359594, 29.823674, 28.19357775, 11.66581925, 23.189891, 42.33997825, 11.41067375, 55.35239875, 57.1242425, 23.54425975, 30.8726055, 34.65726375, 63.9281225, 23.99785175, 60.96559975, 38.6403685, 27.62658775, 18.0586315, 45.302501, 18.92329125, 38.9238635, 18.257078, 15.94659375, 10.9712565, 28.576296, 21.8007655, 26.421734, 20.76600875, 30.277266, 27.6407625, 28.3495, 16.85377775, 7.087375, 36.060564, 2.8066005, 16.14504025, 18.14368, 15.2236815, 32.034935, 1.360776, 17.16562225, 16.62698175, 29.426781, 11.0279555, 13.45183775, 20.53921275, 39.81687275, 15.5071765, 28.33532525, 49.59745025, 18.3988255, 15.8473705, 37.74735925, 33.3106625, 56.14618475, 36.5425055, 33.1405655, 38.8104655, 64.16909325, 9.468733, 16.76872925, 52.219779, 18.29960225, 31.638042, 32.715323, 27.555714, 33.72173025, 29.49765475, 14.571643, 13.39513875, 35.11085575, 13.13999325, 10.33339275, 25.41532675, 11.21222725, 29.2283345, 36.61337925, 20.42581475, 31.96406125, 47.10269425, 1.45999925, 47.513762, 7.58349125, 30.7592075, 27.9667818, 19.5328055, 33.6508565, 48.26502375, 24.59319125, 5.31553125, 26.69105425, 35.6920205, 10.035723, 11.679994, 30.9860035, 67.982101, 2.8632995, 2.31048425, 25.2594045, 40.86580425, 54.0624965, 6.3219385, 38.79629075, 42.410852, 52.673371, 27.73998575, 24.64989025, 29.370082, 37.7331845, 44.5370645, 37.77570875, 4.46504625, 25.72717125, 39.2073585, 0.55281525, 20.1564945, 29.313383, 1.74349425, 2.02698925, 54.81375825, 17.0380495, 29.01571325, 1.20485375, 9.1001895, 16.48523425, 12.91319725, 31.581343, 25.84056925, 29.880373, 44.4803655, 40.3413385, 15.74814725, 16.91047675, 35.76289425, 24.2955215, 4.876114, 3.81300775, 39.27823225, 4.5642695, 37.52056325, 31.808139, 46.84754875, 19.80212575, 30.05047, 20.751834, 39.19318375, 37.6197865, 4.252425, 34.58639, 2.93417325, 31.2694985, 14.47241975, 28.84561625, 21.092028, 14.50076925, 14.004653, 38.952213, 5.23048275, 54.7428845, 5.5281525, 29.653577, 13.67863375, 13.0124205, 16.74037975, 23.700182, 28.64716975, 17.5483405, 8.63242275, 20.5533875, 51.24172125, 17.98775775, 19.15008725, 43.50230775, 20.70930975, 46.67745175, 46.436481, 34.7848365, 25.684647, 24.8625115, 28.70386875, 18.89494175, 5.2446575, 13.22504175, 13.2392165, 22.01338675, 34.60056475, 38.0733785, 16.03164225, 71.31316725, 28.90231525, 37.37881575, 16.386011, 50.8306535, 5.42892925, 12.2186345, 17.56251525, 26.23746225, 22.396105, 13.02659525, 16.499409, 12.94154675, 31.56716825, 46.0112385, 56.9541455, 37.9032815, 27.68328675, 39.8877465, 18.97999025, 27.6974615, 20.241543, 22.29688175, 24.607366, 33.0271675, 7.78193775, 8.12213175, 41.39027, 59.20793075, 14.55746825, 2.76407625, 17.7184375, 19.7029025, 60.2426875, 10.0073735, 44.26774425, 7.10154975, 6.53455975, 15.6205745, 23.5017355, 1.0489315, 18.46969925, 62.21297775, 17.690088, 40.61065875, 20.22736825, 50.2636635, 45.982889, 9.79475225, 12.82814875, 56.1603595, 57.039194, 25.92561775, 1.94194075, 17.236496, 28.67551925, 29.24250925, 13.36678925, 33.55163325, 36.10308825, 19.49028125, 41.91473575, 29.256684, 40.596484, 49.384829, 15.3370795, 49.781722, 25.3728025, 34.756487, 11.60912025, 4.7910655, 7.72523875, 41.730464, 22.75047375, 38.782116, 39.76017375, 47.86813075, 42.82191975, 17.406593, 28.0376555, 31.7797895, 44.91978275, 29.95124675, 2.891649, 17.53416575, 10.7444605, 26.94619975, 21.2904745, 30.26309125, 19.63202875, 50.6605565, 22.566202, 34.11862325, 51.766187, 42.070658, 43.2896865, 41.220173, 15.40795325, 2.0128145, 18.370476, 20.82270775, 23.40251225, 7.92368525, 8.8733935, 36.86852475, 13.84873075, 35.98969025, 5.783298, 55.5366705, 2.84912475, 9.45455825, 13.79203175, 54.090846, 60.214338, 12.587178, 26.54930675, 4.52174525, 24.45144375, 7.52679225, 2.28213475, 28.56212125, 35.380176, 31.42542075, 24.9192105, 11.01378075, 22.9914445, 11.07047975, 25.231055, 29.41260625, 24.62154075, 24.16794875, 32.1199835, 1.31825175, 40.80910525, 23.3316385, 11.80756675, 56.82657275, 1.34660125, 3.27436725, 43.828327, 35.0116325, 16.9246515, 3.9972795, 20.93610575, 24.99008425, 30.80173175, 33.622507, 26.60600575, 8.49067525, 43.02036625, 30.83008125, 45.7844425, 5.51397775, 16.37183625, 15.3937785, 6.7755305, 34.62891425, 13.1825175, 22.11261, 5.03203625, 31.25532375, 37.06697125, 22.1409595, 3.7704835, 32.72949775, 32.58775025, 19.37688325, 21.772416, 33.92017675, 25.55707425, 33.0838665, 42.127357, 35.33765175, 38.725417, 1.23320325, 21.659018, 20.4399895, 4.23825025, 54.941331, 10.4609655, 31.87901275, 5.85417175, 28.44872325, 17.61921425, 16.3576615, 44.80638475, 65.260549, 37.98833, 9.56795625, 26.6768795, 26.32251075, 11.3681495, 10.95708175, 16.2442635, 14.35902175, 15.09610875, 34.6714385, 13.5794105, 22.1976585, 21.9708625, 24.720764, 32.44600275, 28.2077525, 32.6869735, 4.20990075, 1.88524175, 53.99162275, 32.81454625, 6.747181, 49.3564795, 16.3009625, 13.73533275, 16.1308655, 9.6104805, 27.17299575, 12.48795475, 48.3925965, 17.33571925, 28.462898, 9.36950975, 7.3425205, 17.633389, 31.31202275, 55.8201655, 42.51007525, 20.62426125, 19.74542675, 21.75824125, 19.901349, 9.99319875, 28.179403, 19.83047525, 42.8360945, 28.27862625, 7.24329725, 31.694741, 44.69298675, 17.05222425, 47.95317925, 26.35086025, 24.84833675, 9.922325, 20.05727125, 27.03124825, 22.58037675, 47.9390045, 10.4042665, 30.34813975, 11.38232425, 4.97533725, 7.1724235, 3.1467945, 33.5374585, 24.42309425, 32.88542, 44.395317, 5.00368675, 26.40755925, 7.86698625, 8.29222875, 45.40172425, 2.08368825, 3.628736, 26.09571475, 11.35397475, 14.44407025, 7.0023265, 42.013959, 10.07824725, 10.02154825, 32.21920675, 31.48211975, 36.04638925, 9.00096625, 27.34309275, 31.99241075, 33.395711, 13.99047825, 19.85882475, 4.2807745, 29.86619825, 32.772022, 21.999212, 16.556108, 45.91201525, 36.47163175, 21.6873675, 13.947954, 51.27007075, 55.735117, 27.28639375, 29.199985, 44.9906565, 27.0737725, 50.7739545, 39.24988275, 23.926978, 41.48949325, 22.94892025, 34.68561325, 22.4244545, 35.67784575, 12.34620725, 4.55009475, 50.008518, 30.06464475, 31.59551775, 13.90542975, 20.79435825, 29.10076175, 23.133192, 7.994559, 4.1673765, 27.8108595, 30.844256, 13.19669225, 11.97766375, 14.61416725, 66.06850975, 52.34735175, 38.215126, 19.60367925, 13.08329425, 51.80871125, 39.22153325, 48.91706225, 26.63435525, 23.00561925, 29.29920825, 1.28990225, 47.0318205, 45.20327775, 3.92640575, 42.48172575, 39.859397, 35.7487195, 36.58502975, 9.87980075, 19.97222275, 16.44271, 19.91552375, 22.49532825, 0.83631025, 42.56677425, 42.93531775, 14.78426425, 29.9087225, 18.83824275, 6.56290925, 2.1262125, 28.25027675, 12.3887315, 8.23552975, 28.0943545, 29.6819265, 63.389482, 6.16601625, 40.38386275, 29.69610125, 15.06775925, 21.715717, 3.9405805, 39.179009, 32.04910975, 22.83552225, 5.20213325, 39.56172725, 35.833768, 4.989512, 42.2691045, 49.32813, 19.23513575, 6.350288, 23.68600725, 44.111822, 29.993771, 38.76794125, 38.158427, 24.22464775, 43.2329875, 43.147939, 32.50270175, 38.48444625, 29.83784875, 48.5059945, 17.9452335, 36.38658325, 33.29648775, 6.406987, 16.669506, 51.5110415, 14.0330025, 28.4345485, 17.67591325, 12.37455675, 20.00057225, 5.62737575, 47.5988105, 34.37376875, 8.1363065, 32.6302745, 3.18931875, 35.13920525, 7.81028725, 36.2023115, 62.3972495, 22.15513425, 7.9662095, 26.43590875, 47.116869, 5.91087075, 40.5114355, 14.968536, 49.85259575, 29.1716355, 28.8881405, 23.416687, 18.200379, 41.560367, 19.8729995, 34.40211825, 40.44056175, 32.95629375, 37.94580575, 41.63124075, 43.64405525, 29.78114975, 9.31281075, 12.190285, 26.71940375, 55.46579675, 23.43086175, 6.6054335, 34.076099, 31.22697425, 13.50853675, 2.99087225, 45.3592, 46.4648305, 39.405805, 36.92522375, 2.56562975, 34.3312445, 25.27357925, 32.545226, 26.9036755, 20.7801835, 5.57067675, 75.3246215, 28.2644515, 16.215914, 16.8679525, 32.31843, 7.75358825, 36.3724085, 22.7646485, 26.875326, 52.63084675, 58.10230025, 24.097075, 10.9145575, 31.18445, 29.66775175, 1.644271, 24.0687255, 24.33804575, 21.55979475, 11.3398, 32.0632845, 4.9044635, 40.9650275, 30.40483875, 38.22930075, 10.21999475, 60.0725905, 28.87396575, 49.90929475, 30.65998425, 2.2396105, 47.173568, 34.03357475, 5.71242425, 2.36718325, 20.36911575, 0.97805775, 1.54504775, 44.0834725, 12.65805175, 31.354547, 13.93377925, 58.13064975, 10.61688775, 19.7737763, 47.3153155, 7.9095105, 39.44832925, 23.076493, 32.2900805, 9.7238785, 24.08290025, 26.7902775, 35.16755475, 6.0384435, 38.93803825, 19.4194075, 34.132798, 31.3828965, 24.4656185, 58.7685135, 38.54114525, 45.74191825, 12.26115875, 22.509503, 5.7549485, 39.70347475, 72.291225, 31.79396425, 23.983677, 25.69882175, 62.35472525, 32.92794425, 10.2908685, 3.64291075, 7.35669525, 41.40444475, 37.43551475, 45.1607535, 10.13494625, 43.30386125, 10.6877615, 11.0846545, 12.85649825, 38.5269705, 17.1514475, 17.2081465, 25.33027825, 3.47281375, 8.3064035, 19.050864, 13.70698325, 0.43941725, 4.60679375, 53.6656035, 31.2127995, 47.58463575, 38.271825, 25.174356, 10.5176645, 41.7588135, 47.400364, 40.12871725, 26.18076325, 40.993377, 8.107957, 50.70308075, 26.46425825, 28.42037375, 33.4240605, 22.792998, 19.26348525, 26.83280175, 45.60017075, 23.1615415, 0.69456275, 18.61144675, 64.33919025, 42.28327925, 33.9910505, 1.40330025, 32.33260475, 17.44911725, 13.324265, 6.10931725, 16.0174675, 45.57182125, 51.199197, 32.61609975, 40.83745475, 2.6932025, 44.38114225, 11.5382465, 15.23785625, 55.06890375, 11.09882925, 4.03980375, 6.42116175, 20.14231975, 17.4916415, 23.74270625, 18.35630125, 14.6566915, 53.410458, 10.19164525, 80.10151225, 9.185238, 21.8574645, 57.7479315, 35.47939925, 6.47786075, 27.88173325, 44.338618, 0.963883, 40.7382315, 50.632207, 24.70658925, 8.561549, 18.9658155, 16.99552525, 8.20718025, 36.570855, 27.5840635, 14.41572075, 9.39785925, 14.0897015, 19.32018425, 17.179797, 14.72756525, 30.03629525, 33.75007975, 20.17066925, 15.91824425, 10.942907, 17.78931125, 4.37999775, 16.8112535, 17.860185, 20.97863, 23.8986285, 7.18659825, 4.932813, 30.46153775, 33.8209535, 41.34774575, 31.85066325, 26.0531905, 13.721158, 8.09378225, 60.6962795, 54.260943, 36.81182575, 15.12445825, 14.855138, 12.00601325, 41.5887165, 36.740952, 20.8935815, 20.48251375, 9.865626, 40.766581, 28.7747425, 14.10387625, 44.74968575, 6.84640425, 46.776675, 48.931237, 48.23667425, 45.71356875, 15.80484625, 25.21688025, 14.04717725, 18.6823205, 40.9083285, 52.7017205, 2.05533875, 29.32755775, 36.35823375, 34.28872025, 44.09764725, 22.43862925, 3.345241, 39.98696975, 50.81647875, 16.726205, 61.90113325, 10.30504325, 36.32988425, 28.292801, 1.984465, 49.9234695, 1.71514475, 25.854744, 23.4450365, 8.00873375, 43.09124, 17.27902025, 41.97143475, 32.78619675, 41.8863863, 37.40716525, 31.65221675, 21.27629975, 30.17804275, 50.56133325, 15.989118, 43.488133, 43.95589975, 16.5844575, 0.75126175, 0.86465975, 4.63514325, 2.96252275, 41.4186195, 5.08873525, 21.53144525, 37.83240775, 11.12717875, 7.030676, 2.73572675, 25.95396725, 5.273007, 38.9805625, 21.70154225, 4.72019175, 2.097863, 38.51279575, 9.68135425, 45.472598, 7.540967, 71.0154975, 21.04950375, 33.06969175, 26.26581175, 45.3875495, 29.086587, 11.4815475, 34.20367175, 0.92135875, 37.35046625, 13.380964, 53.14113775, 19.731252, 6.98815175, 59.53395, 10.78698475, 1.48834875, 4.40834725, 23.37416275, 5.9817445, 15.29455525, 20.19901875, 40.97920225, 26.3366855, 43.4597835, 16.88212725, 36.627554, 6.76135575, 9.695529, 35.2384285, 25.798045, 16.79707875, 3.7137845, 31.28367325, 30.6458095, 25.911443, 4.2240755, 21.0636785, 15.422128, 42.99201675, 5.37223025, 2.59397925, 14.52911875, 22.622901, 26.761928, 3.89805625, 11.9351395, 47.07434475, 1.304077, 10.98543125, 17.0097, 36.003865, 12.57300325, 16.71203025, 47.89648025, 47.230267, 17.8885345, 38.85298975, 15.57805025, 37.364641, 28.236102, 0.793786, 66.1393835, 14.38737125, 46.606578, 38.2434755, 12.51630425, 6.19436575, 23.20406575, 27.952607, 59.1654065, 31.864838, 10.39009175, 11.793392, 55.961913, 42.467551, 10.75863525, 46.45065575, 32.87124525, 15.195332, 37.18036925, 36.69842775, 48.20832475, 8.40562675, 38.14425225, 22.69377475, 4.43669675, 46.05376275, 31.5529935, 8.50485, 19.1359125, 3.0900955, 5.79747275, 0.89300925, 6.36446275, 20.468339, 33.43823525, 50.22113925, 18.38465075, 22.52367775, 0.77961125, 13.96212875, 34.31706975, 13.1258185, 18.44134975, 51.7378375, 40.69570725, 37.704835, 21.3471735, 17.57669, 44.4236665, 52.12055575, 21.4605715, 31.241149, 16.11669075, 33.339012, 22.6512505, 7.5126175, 26.6201805, 10.999606, 9.96484925, 31.53881875, 32.89959475, 11.26892625, 47.7689075, 32.998818, 31.34037225, 12.700576, 45.92619, 30.14969325, 24.4089195, 23.7852305, 24.11124975, 37.57726225, 1.60174675, 30.57493575, 64.4384135, 19.84465, 53.28288525, 23.24659, 31.00017825, 14.89766225, 35.9755155, 31.0994015, 54.5727875, 50.61803225, 43.3463855, 15.83319575, 19.220961, 20.34076625, 30.85843075, 19.4761065, 24.210473, 31.467945, 7.6260155, 37.3929905, 6.2652395, 36.173962, 6.81805475, 15.1102835, 3.742134, 45.88366575, 27.93843225, 7.66853975, 50.4337605, 26.86115125, 52.900167, 28.746393, 19.40523275, 0.49611625, 7.83863675, 49.17220775, 49.6399745, 31.08522675, 40.41221225, 41.673765, 39.87357175, 37.931631, 34.416293, 33.77842925, 40.5681345, 0.850485, 23.2891143, 10.8578585, 63.105987, 13.777857, 44.06929775, 39.33493125, 27.11629675, 25.344453, 26.7335785, 7.314171, 17.93105875, 19.3627085, 25.01843375, 29.55435375, 8.6465975, 47.4854125, 18.5122235, 58.04560125, 57.16676675, 32.19085725, 0.3685435, 9.14271375, 14.64251675, 41.80133775, 49.5265765, 39.349106, 20.7234845, 12.5588285, 28.61882025, 7.41339425, 33.52328375, 32.5168765, 27.21552, 24.47979325, 12.88484775, 34.45881725, 45.812792, 5.28718175, 28.859791, 24.30969625, 24.040376, 16.159215, 43.6865795, 21.148727, 29.766975, 13.0691195, 44.15434625, 51.8512355, 21.432222, 18.15785475, 16.82542825, 70.8454005, 7.29999625, 25.117657, 22.32523125, 10.92873225, 21.13455225, 39.12231, 7.427569, 39.16483425, 30.560761, 25.61377325, 7.8528115, 31.411246, 12.530479, 12.133586, 25.64212275, 45.245802, 11.24057675, 20.51086325, 25.50037525, 40.029494, 18.12950525, 37.024447, 37.5630875, 47.740558, 4.06815325] \n",
            " \n",
            " col Peso_Descascado , Qtd de valores únicos: 1482 , [12.3320325, 2.2963095, 3.231843, 4.74854125, 3.458639, 13.5794105, 6.0951425, 9.979024, 20.2698925, 3.061746, 1.2757275, 7.257472, 2.664853, 8.57572375, 6.13766675, 20.56756225, 13.79203175, 3.92640575, 10.375917, 1.68679525, 5.6415505, 25.16018125, 2.87747425, 0.737087, 8.97261675, 7.69688925, 8.09378225, 15.422128, 15.6772735, 5.14543425, 3.685435, 6.406987, 7.5693165, 13.60776, 15.46465225, 10.47514025, 3.912231, 1.23320325, 4.63514325, 10.24834425, 2.494756, 24.4089195, 15.29455525, 3.18931875, 19.66037825, 7.98038425, 20.071446, 10.6877615, 14.0897015, 5.6699, 23.28911425, 8.845044, 8.3064035, 4.7343665, 18.086981, 12.530479, 1.077281, 8.278054, 6.59125875, 3.64291075, 7.200773, 2.16873675, 14.92601175, 18.1153305, 7.37087, 15.7906715, 8.15048125, 12.34620725, 3.01922175, 1.54504775, 11.623295, 2.83495, 15.705623, 11.15552825, 9.128539, 5.48562825, 20.8368825, 7.24329725, 13.5227115, 11.94931425, 7.654365, 23.11901725, 21.98503725, 5.03203625, 17.123098, 10.886208, 6.123492, 17.27902025, 15.8473705, 4.46504625, 10.41844125, 11.49572225, 1.0489315, 11.679994, 18.824068, 9.07184, 11.43902325, 12.74310025, 12.28950825, 12.00601325, 6.81805475, 7.6827145, 3.572037, 2.31048425, 6.066793, 11.66581925, 11.35397475, 3.6003865, 13.99047825, 10.75863525, 1.09145575, 5.08873525, 7.78193775, 18.21455375, 7.087375, 13.664459, 0.94970825, 5.613201, 6.9456275, 22.52367775, 3.7137845, 10.90038275, 12.77144975, 1.360776, 4.649318, 13.39513875, 1.927766, 3.515338, 14.78426425, 10.61688775, 2.08368825, 12.11941125, 15.80484625, 11.0846545, 15.2236815, 4.32329875, 12.14776075, 23.926978, 6.1518415, 16.20173925, 10.546014, 14.35902175, 16.726205, 12.57300325, 16.44271, 16.9246515, 5.329706, 3.78465825, 12.813974, 17.22232125, 21.2904745, 17.16562225, 16.11669075, 18.3421265, 13.11164375, 19.561155, 5.953395, 7.38504475, 4.57844425, 4.6776675, 15.025235, 8.7599955, 14.38737125, 0.29766975, 7.15824875, 21.488921, 5.59902625, 19.20678625, 13.947954, 10.0640725, 3.4302895, 1.06310625, 12.133586, 18.5122235, 5.1312595, 2.11203775, 12.587178, 5.5848515, 6.7755305, 21.16290175, 14.628342, 20.48251375, 4.932813, 9.11436425, 11.8217415, 15.88989475, 15.97494325, 19.46193175, 8.54737425, 1.8427175, 12.1052365, 4.35164825, 18.540573, 3.89805625, 6.6621325, 7.994559, 18.41300025, 4.7910655, 8.9300925, 4.5642695, 15.77649675, 10.489315, 5.896696, 7.92368525, 3.8271825, 4.5075705, 17.42076775, 9.8939755, 21.02115425, 32.13415825, 16.782904, 18.257078, 14.13222575, 15.15280775, 1.587572, 7.6260155, 14.0330025, 2.36718325, 5.82582225, 0.75126175, 17.293195, 20.751834, 32.1199835, 4.52174525, 13.73533275, 0.86465975, 6.973977, 15.7339725, 9.922325, 1.91359125, 7.1724235, 26.32251075, 6.33611325, 2.14038725, 7.27164675, 16.99552525, 4.77689075, 13.777857, 6.84640425, 3.855532, 21.4038725, 6.577084, 1.984465, 10.02154825, 1.63009625, 12.8423235, 11.60912025, 1.417475, 6.3219385, 12.94154675, 2.28213475, 9.48290775, 13.05494475, 19.1359125, 27.82503425, 5.40057975, 20.70930975, 16.25843825, 9.28446125, 11.5949455, 4.53592, 3.84135725, 19.37688325, 5.51397775, 6.98815175, 2.19708625, 1.020582, 9.99319875, 15.03940975, 3.798833, 17.2081465, 8.68912175, 12.246984, 13.70698325, 6.747181, 4.40834725, 0.15592225, 4.8477645, 12.47378, 22.226008, 4.0539785, 16.5277585, 16.4710595, 12.190285, 13.13999325, 6.6054335, 8.23552975, 9.2135875, 1.6726205, 5.62737575, 5.65572525, 8.94426725, 12.643877, 9.4403835, 9.63883, 16.159215, 15.37960375, 3.35941575, 14.75591475, 8.2497045, 7.04485075, 3.33106625, 7.75358825, 8.334753, 8.561549, 21.67319275, 1.474174, 8.3631025, 9.468733, 5.4147545, 15.989118, 18.9091165, 2.76407625, 23.2182405, 12.71475075, 18.49804875, 1.77184375, 18.07280625, 12.0485375, 8.03708325, 11.793392, 13.6928085, 0.8788345, 13.1825175, 14.231449, 5.93922025, 15.5638755, 6.53455975, 18.92329125, 3.9972795, 15.592225, 1.13398, 8.71747125, 11.77921725, 2.6365035, 0.97805775, 10.77281, 8.63242275, 4.43669675, 21.89998875, 17.93105875, 9.7238785, 4.6209685, 14.18892475, 14.4298955, 21.13455225, 11.1413535, 10.78698475, 23.530085, 3.1467945, 4.4508715, 14.5432935, 0.6520385, 16.045817, 14.2030995, 17.519991, 2.53728025, 13.8062065, 6.2085405, 5.046211, 10.8578585, 7.3992195, 4.55009475, 8.46232575, 6.02426875, 13.6361095, 3.40194, 16.839603, 8.6465975, 4.91863825, 10.035723, 23.1048425, 8.29222875, 9.82310175, 6.05261825, 2.778251, 8.1930055, 18.6256215, 18.0586315, 8.5898985, 8.77417025, 8.9867915, 4.762716, 10.999606, 16.85377775, 3.9405805, 7.07320025, 0.7087375, 2.154562, 13.097469, 4.2807745, 6.5487345, 20.525038, 26.932025, 12.82814875, 2.721552, 4.9044635, 8.448151, 10.8011595, 2.324659, 25.84056925, 18.58309725, 1.37495075, 7.01650125, 15.0535845, 10.9145575, 7.18659825, 12.23280925, 17.78931125, 15.762322, 17.08057375, 23.51591025, 24.53649225, 2.65067825, 5.783298, 18.01610725, 11.38232425, 18.18620425, 8.91591775, 10.9712565, 14.288148, 9.3269855, 5.74077375, 10.73028575, 9.53960675, 8.8733935, 6.4353365, 26.4500835, 8.51902475, 9.36950975, 29.10076175, 12.06271225, 12.03436275, 15.1102835, 12.6155275, 17.6050395, 10.16329575, 8.164656, 13.08329425, 6.860579, 14.514944, 8.391452, 14.41572075, 6.08096775, 5.71242425, 17.98775775, 3.50116325, 8.958442, 4.18155125, 13.25339125, 33.86347775, 22.1976585, 0.60951425, 2.9766975, 11.41067375, 7.32834575, 14.72756525, 4.49339575, 1.871067, 16.3576615, 8.674947, 5.6982495, 22.26853225, 3.005047, 12.2753335, 6.2652395, 14.21727425, 15.1669825, 13.53688625, 11.8784405, 16.42853525, 12.20445975, 20.79435825, 4.3374735, 11.736693, 7.95203475, 25.61377325, 8.901743, 16.896302, 0.41106775, 18.8524175, 17.3215445, 3.0900955, 19.391058, 10.95708175, 2.5231055, 1.70097, 1.88524175, 16.93882625, 12.303683, 1.85689225, 14.64251675, 0.83631025, 2.42388225, 15.57805025, 2.0695135, 17.463292, 0.510291, 5.8683465, 16.0741665, 19.0225145, 13.2959155, 13.1258185, 7.3425205, 6.67630725, 30.7025085, 5.91087075, 14.401546, 2.8066005, 1.60174675, 3.55786225, 6.0384435, 2.1262125, 3.58621175, 4.309124, 1.4458245, 9.8372765, 11.226402, 7.49844275, 13.19669225, 2.26796, 5.37223025, 23.31746375, 13.62193475, 6.293589, 10.6310625, 2.50893075, 8.12213175, 11.18387775, 5.3013565, 9.31281075, 25.3161035, 13.96212875, 2.381358, 10.33339275, 9.865626, 14.30232275, 9.85145125, 13.48018725, 14.84096325, 5.28718175, 18.80989325, 3.30271675, 1.80019325, 5.839997, 18.38465075, 21.7440665, 18.63979625, 13.4660125, 12.1619355, 11.86426575, 8.43397625, 6.690482, 7.767763, 15.35125425, 26.97454925, 18.1720295, 0.2551455, 0.80796075, 21.0069795, 0.35436875, 11.3398, 12.5588285, 14.04717725, 9.51125725, 3.628736, 14.17475, 6.39281225, 11.5382465, 22.7079495, 19.7596015, 2.7499015, 13.67863375, 10.19164525, 17.67591325, 3.98310475, 3.118445, 15.43630275, 24.7491135, 12.417081, 14.911837, 14.855138, 5.34388075, 10.659412, 11.3114505, 14.6566915, 17.8318355, 19.17843675, 23.6151335, 31.39707125, 2.48058125, 16.612807, 11.453198, 0.07087375, 9.76640275, 20.14231975, 8.34892775, 5.42892925, 25.78387025, 6.16601625, 0.46776675, 13.9763035, 9.695529, 38.22930075, 13.721158, 13.3526145, 7.64019025, 1.247378, 15.49300175, 16.45688475, 13.50853675, 16.6411565, 13.90542975, 7.7961125, 0.7654365, 1.26155275, 22.01338675, 11.169703, 7.0590255, 12.020188, 9.6104805, 11.72251825, 3.2601925, 17.73261225, 7.711064, 20.53921275, 10.58853825, 3.95475525, 2.70737725, 23.96950225, 7.8528115, 12.62970225, 15.94659375, 15.06775925, 4.20990075, 7.81028725, 13.154168, 12.60135275, 19.220961, 3.2034935, 23.99785175, 5.11708475, 1.1623295, 19.63202875, 20.2131935, 18.86659225, 2.6932025, 4.9611625, 5.7549485, 9.525432, 9.05766525, 13.9196045, 15.52135125, 1.28990225, 14.47241975, 17.19397175, 1.31825175, 6.633783, 33.18308975, 6.4920355, 1.5025235, 6.19436575, 6.350288, 10.149121, 7.72523875, 5.76912325, 11.75086775, 15.32290475, 6.93145275, 4.195726, 16.48523425, 8.4198015, 11.3681495, 16.54193325, 12.31785775, 3.69960975, 14.9968855, 14.33067225, 17.0097, 26.80445225, 12.927372, 11.283101, 0.89300925, 8.66077225, 4.37999775, 2.041164, 7.47009325, 13.42348825, 3.41611475, 3.3735905, 6.73300625, 17.61921425, 14.67086625, 12.88484775, 2.96252275, 10.87203325, 10.36174225, 6.50621025, 8.788345, 10.64523725, 18.52639825, 1.17650425, 7.7394135, 10.20582, 5.443104, 17.1514475, 6.78970525, 0.38271825, 9.6671795, 3.345241, 0.1417475, 9.17106325, 4.29494925, 7.35669525, 2.45223175, 13.65028425, 8.40562675, 21.8007655, 15.66309875, 7.314171, 0.850485, 2.79242575, 5.556502, 20.68096025, 0.21262125, 12.79979925, 6.30776375, 9.68135425, 9.14271375, 17.0380495, 1.304077, 9.34116025, 18.61144675, 15.30873, 9.87980075, 15.195332, 21.78659075, 21.262125, 10.319218, 17.81766075, 9.56795625, 5.57067675, 13.380964, 14.16057525, 11.92096475, 21.33299875, 5.386405, 3.52951275, 6.56290925, 10.3475675, 6.70465675, 4.876114, 14.118051, 10.4042665, 2.56562975, 9.08601475, 6.7188315, 17.179797, 0.340194, 19.09338825, 17.59086475, 4.97533725, 15.2803805, 22.97726975, 20.97863, 19.12173775, 9.015141, 9.90815025, 6.8322295, 9.39785925, 5.9817445, 16.03164225, 13.2392165, 11.97766375, 5.54232725, 5.0178615, 3.21766825, 8.50485, 11.09882925, 8.221355, 8.0796075, 7.93786, 7.10154975, 18.5689225, 11.1980525, 6.44951125, 1.1056305, 11.26892625, 19.447757, 22.0842605, 18.27125275, 8.4765005, 11.07047975, 22.07008575, 7.89533575, 16.40018575, 2.551455, 1.9561155, 11.056305, 17.33571925, 20.85105725, 16.00329275, 1.99863975, 5.9250455, 19.5895045, 16.74037975, 0.69456275, 9.7805775, 0.12757275, 2.1829115, 7.597666, 32.78619675, 4.422522, 8.06543275, 5.88252125, 18.2287285, 5.99591925, 1.11980525, 13.834556, 12.85649825, 1.45999925, 4.819415, 6.27941425, 4.592619, 14.3731965, 11.04213025, 1.5592225, 10.44679075, 13.16834275, 1.14815475, 20.73765925, 8.7032965, 2.891649, 6.520385, 4.15320175, 19.674553, 7.66853975, 21.24795025, 13.82038125, 4.72019175, 19.97222275, 16.68368075, 5.96756975, 32.47435225, 19.27766, 11.4815475, 18.15785475, 12.5021295, 0.4252425, 2.948348, 1.190679, 17.70426275, 2.2396105, 24.834162, 2.0128145, 17.690088, 3.6570855, 4.139027, 1.644271, 13.891255, 16.2442635, 10.98543125, 12.48795475, 2.59397925, 5.726599, 6.90310325, 17.4349425, 5.499803, 14.86931275, 9.241937, 3.96893, 24.56484175, 7.9662095, 6.42116175, 10.50348975, 16.08834125, 21.0636785, 2.3530085, 0.283495, 5.5281525, 32.58775025, 13.4093135, 35.30930225, 8.83086925, 0.72291225, 19.77377625, 17.860185, 18.4555245, 4.252425, 26.251637, 4.706017, 6.47786075, 7.52679225, 5.4714535, 1.34660125, 27.1871705, 20.0997955, 2.33883375, 22.6796, 8.60407325, 34.926584, 0.0283495, 9.42620875, 8.20718025, 3.75630875, 0.66621325, 10.262519, 7.58349125, 0.43941725, 12.96989625, 5.06038575, 11.396499, 8.88756825, 3.24601775, 28.8314415, 15.478827, 2.39553275, 13.87708025, 23.0481435, 16.31513725, 21.04950375, 8.17883075, 0.3118445, 23.43086175, 10.67358675, 11.01378075, 11.7083435, 18.24290325, 11.12717875, 12.65805175, 17.95940825, 5.23048275, 20.36911575, 12.91319725, 2.82077525, 4.03980375, 14.9401865, 1.03475675, 31.34037225, 16.5844575, 12.870673, 2.22543575, 2.90582375, 4.83358975, 10.81533425, 14.7133905, 5.00368675, 9.00096625, 14.69921575, 15.3937785, 16.23008875, 14.01882775, 10.53183925, 19.6462035, 7.540967, 20.65261075, 19.71707725, 14.5999925, 9.4970825, 13.210867, 18.12950525, 14.004653, 8.051258, 3.4869885, 5.10291, 5.25883225, 26.12406425, 12.40290625, 10.1207715, 1.74349425, 25.24522975, 30.46153775, 10.0073735, 9.62465525, 9.02931575, 16.76872925, 9.808927, 10.2341695, 18.72484475, 4.479221, 0.52446575, 7.4559185, 6.76135575, 14.10387625, 9.1001895, 15.63474925, 15.18115725, 28.13687875, 14.95436125, 16.65533125, 23.2749395, 17.7184375, 11.6516445, 9.19941275, 19.03668925, 6.8889285, 14.968536, 4.1673765, 8.37727725, 22.69377475, 14.52911875, 0.5386405, 13.324265, 4.60679375, 31.978236, 14.61416725, 12.7289255, 0.793786, 20.00057225, 24.73493875, 16.37183625, 4.2240755, 20.695135, 16.329312, 17.7751365, 16.17338975, 0.56699, 10.602713, 14.44407025, 21.3471735, 9.5537815, 12.3887315, 0.58116475, 25.8830935, 0.4819415, 16.62698175, 10.4609655, 14.89766225, 19.4761065, 15.60639975, 10.092422, 1.530873, 10.13494625, 2.05533875, 24.13959925, 12.6722265, 5.3580555, 12.984071, 16.6978555, 9.59630575, 19.901349, 1.48834875, 15.252031, 1.71514475, 25.401152, 2.211261, 13.31009025, 11.509897, 3.44446425, 27.21552, 24.22464775, 22.04173625, 12.26115875, 15.09610875, 8.85921875, 31.62386725, 13.93377925, 17.53416575, 17.90270925, 20.31241675, 28.05183025, 20.45416425, 9.412034, 9.355335, 18.427175, 4.26659975, 28.22192725, 13.04077, 3.175144, 2.67902775, 12.076887, 7.030676, 29.80949925, 16.57028275, 17.973583, 9.70970375, 18.83824275, 23.17571625, 25.27357925, 4.082328, 16.71203025, 12.09106175, 16.499409, 9.73805325, 17.803486, 16.8679525, 5.273007, 6.917278, 15.4504775, 19.9863975, 20.93610575, 5.31553125, 20.34076625, 8.00873375, 9.2702865, 2.608154, 22.5945515, 24.05455075, 20.0430965, 6.64795775, 5.68407475, 4.23825025, 6.87475375, 3.16096925, 4.66349275, 17.56251525, 4.94698775, 10.432616, 21.72989175, 1.20485375, 6.10931725, 2.73572675, 7.1157245, 26.988724, 4.89028875, 4.3941725, 12.54465375, 38.3001745, 5.45727875, 13.494362, 12.17611025, 17.5483405, 5.159609, 4.69184225, 29.66775175, 19.94387325, 19.29183475, 8.32057825, 1.757669, 3.742134, 10.21999475, 14.4865945, 18.597272, 25.231055, 15.83319575, 14.798439, 2.62232875, 10.30504325, 7.44174375, 5.2446575, 7.86698625, 16.9813505, 1.65844575, 12.757275, 21.53144525, 2.4097075, 10.829509, 7.2858215, 21.92833825, 22.736299, 28.5479465, 4.06815325, 6.3786375, 16.0174675, 14.344847, 13.7495075, 14.2597985, 15.535526, 25.004259, 12.7856245, 3.04757125, 9.298636, 7.0023265, 7.9095105, 19.83047525, 12.68640125, 20.87940675, 22.80717275, 13.02659525, 11.4248485, 16.8112535, 11.63746975, 8.731646, 9.45455825, 19.54698025, 3.86970675, 11.113004, 14.50076925, 7.83863675, 9.752228, 9.79475225, 10.2908685, 21.772416, 3.72795925, 10.5176645, 3.27436725, 10.56018875, 13.56523575, 18.200379, 24.323871, 15.86154525, 14.685041, 4.12485225, 3.47281375, 1.3891255, 10.716111, 20.9502805, 3.8838815, 15.12445825, 22.15513425, 14.571643, 23.91280325, 15.5071765, 3.3168915, 10.84368375, 20.7801835, 18.75319425, 16.96717575, 2.02698925, 25.911443, 5.8116475, 11.32562525, 6.25106475, 11.850091, 20.4966885, 35.5219235, 17.44911725, 0.963883, 16.59863225, 7.824462, 26.0531905, 18.10115575, 1.7860185, 24.70658925, 19.00833975, 11.69416875, 3.13261975, 10.04989775, 16.4143605, 3.67126025, 17.4916415, 31.4395955, 8.618248, 18.313777, 14.98271075, 9.0434905, 8.5331995, 13.437663, 22.35358075, 19.06503875, 12.4454305, 20.1564945, 15.87572, 19.74542675, 14.74174, 15.6205745, 8.74582075, 23.71435675, 12.43125575, 22.2543575, 11.90679, 22.8213475, 16.82542825, 16.79707875, 13.267566, 30.09299425, 0.49611625, 11.29727575, 21.829115, 24.79163775, 11.58077075, 9.96484925, 14.8267885, 24.76328825, 19.1926115, 17.8885345, 17.9452335, 13.36678925, 11.0279555, 20.19901875, 14.81261375, 0.226796, 18.32795175, 0.9922325, 7.21494775, 11.9351395, 42.184056, 21.2337755, 5.216308, 23.94115275, 11.80756675, 14.3164975, 0.623689, 9.25611175, 4.989512, 2.25378525, 27.37144225, 14.27397325, 19.617854, 8.0229085, 16.34348675, 16.3009625, 2.84912475, 4.09650275, 11.963489, 17.10892325, 7.427569, 20.581737, 10.70193625, 10.5743635, 12.37455675, 17.916884, 7.484268, 19.5328055, 16.05999175, 7.29999625, 28.73221825, 30.34813975, 8.80251975, 4.1106775, 11.2547515, 0.18427175, 26.705229, 15.138633, 12.9557215, 18.89494175, 13.551061, 17.47746675, 1.97029025, 16.51358375, 17.84601025, 20.05727125, 17.2648455, 23.65765775, 6.36446275, 13.28174075, 5.85417175, 19.334359, 0.26932025, 25.04678325, 20.638436, 14.458245, 4.80524025, 20.241543, 3.61456125, 19.8163005, 18.69649525, 20.82270775, 22.6512505, 11.7650425, 16.14504025, 4.365823, 1.6159215, 9.1568885, 13.59358525, 27.045423, 32.50270175, 10.7444605, 24.664065, 17.349894, 25.47202575, 13.0124205, 12.99824575, 7.144074, 6.80388, 4.86193925, 7.2291225, 2.9199985, 14.58581775, 19.504456, 25.95396725, 14.55746825, 17.13727275, 20.808533, 21.61649375, 22.0275615, 23.85610425, 7.41339425, 24.6924145, 26.7902775, 1.51669825, 10.942907, 16.1308655, 19.7029025, 11.9918385, 23.09066775, 21.36134825, 21.1770765, 15.26620575, 1.2190285, 15.01106025, 17.76096175, 7.55514175, 25.18853075, 15.081934, 15.365429, 18.44134975, 2.097863, 5.0745605, 5.17378375, 17.6617385, 0.32601925, 3.10427025, 17.50581625, 33.92017675, 20.014747, 28.10852925, 11.566596, 19.15008725, 24.28134675, 0.5953395, 14.061352, 2.438057, 7.881161, 7.5126175, 16.386011, 0.9355335, 6.61960825, 24.39474475, 17.57669, 3.288542, 16.215914, 16.7545545, 18.2854275, 19.731252, 35.13920525, 20.354941, 23.189891, 25.7696955, 3.5436875, 16.953001, 6.180191, 18.653971, 23.00561925, 18.937466, 23.40251225, 0.77961125, 6.95980225, 23.5584345, 23.23241525, 1.3324265, 11.24057675, 26.591831, 24.11124975, 22.77882325, 12.8990225, 25.98231675, 10.39009175, 1.814368, 12.2186345, 10.1774705, 17.02387475, 18.95164075, 0.680388, 31.0427025, 26.3933845, 21.64484325, 30.37648925, 15.54970075, 4.01145425, 20.6100865, 26.3366855, 19.40523275, 25.3728025, 18.6823205, 15.23785625, 12.360382, 17.633389, 0.3685435, 25.38697725, 2.99087225, 19.0792135, 12.51630425, 30.29144075, 20.62426125, 1.82854275, 15.932419, 4.025629, 25.0893075, 26.26581175, 11.52407175, 9.3836845, 8.49067525, 8.8166945, 19.050864, 15.40795325, 11.83591625, 11.55242125, 17.39241825, 9.93649975, 14.8834875, 14.07552675] \n",
            " \n",
            " col Peso_intestino , Qtd de valores únicos: 867 , [5.5848515, 1.37495075, 1.60174675, 2.28213475, 1.48834875, 6.76135575, 5.85417175, 5.3013565, 9.76640275, 1.26155275, 0.75126175, 5.03203625, 0.83631025, 4.309124, 3.9405805, 8.7599955, 8.49067525, 1.8427175, 6.87475375, 0.86465975, 2.551455, 8.77417025, 1.5592225, 0.29766975, 3.9972795, 4.52174525, 8.4198015, 9.08601475, 1.7293195, 1.7860185, 3.4869885, 4.025629, 6.3786375, 8.40562675, 4.819415, 2.87747425, 1.644271, 2.5231055, 4.989512, 0.963883, 9.128539, 7.7961125, 1.77184375, 9.015141, 3.8838815, 10.24834425, 5.216308, 6.16601625, 3.1467945, 10.8578585, 4.7910655, 4.32329875, 2.381358, 9.53960675, 5.14543425, 0.5953395, 3.2034935, 4.23825025, 2.22543575, 2.33883375, 1.09145575, 8.0229085, 8.6465975, 4.46504625, 9.65300475, 4.365823, 5.88252125, 1.68679525, 0.80796075, 5.896696, 1.31825175, 6.7755305, 3.572037, 6.78970525, 4.89028875, 4.932813, 3.69960975, 13.48018725, 4.082328, 6.520385, 6.917278, 3.61456125, 13.31009025, 9.922325, 3.2601925, 7.6827145, 5.386405, 3.685435, 7.78193775, 6.5487345, 1.871067, 6.44951125, 11.60912025, 3.95475525, 4.9611625, 8.00873375, 6.406987, 5.6415505, 5.17378375, 3.18931875, 1.70097, 3.742134, 5.556502, 7.1724235, 5.74077375, 4.57844425, 0.55281525, 3.10427025, 6.19436575, 1.5025235, 3.798833, 5.71242425, 0.56699, 3.01922175, 2.7499015, 9.87980075, 1.65844575, 4.479221, 8.03708325, 0.8788345, 2.154562, 1.020582, 4.5642695, 1.0489315, 9.14271375, 4.37999775, 8.34892775, 1.13398, 5.54232725, 7.58349125, 6.50621025, 5.329706, 1.8994165, 10.02154825, 2.4664065, 7.89533575, 4.195726, 8.29222875, 8.85921875, 6.8322295, 8.164656, 8.60407325, 8.901743, 12.06271225, 7.35669525, 7.72523875, 8.37727725, 3.6003865, 8.57572375, 4.72019175, 1.23320325, 7.24329725, 5.40057975, 6.36446275, 0.15592225, 3.41611475, 10.58853825, 2.70737725, 2.721552, 9.355335, 11.24057675, 5.37223025, 2.08368825, 0.623689, 4.01145425, 11.226402, 2.4097075, 1.17650425, 5.8116475, 2.6365035, 3.89805625, 11.3114505, 4.649318, 9.3836845, 2.05533875, 5.62737575, 8.15048125, 8.20718025, 8.68912175, 3.30271675, 6.6054335, 2.948348, 5.79747275, 10.67358675, 2.0128145, 2.93417325, 3.061746, 10.2341695, 3.92640575, 3.0333965, 7.49844275, 5.25883225, 5.2446575, 1.85689225, 1.45999925, 2.90582375, 2.9766975, 4.97533725, 13.891255, 12.47378, 9.00096625, 10.546014, 5.99591925, 8.09378225, 0.9922325, 8.3631025, 7.767763, 10.21999475, 13.22504175, 9.9506745, 0.5386405, 7.144074, 2.25378525, 4.26659975, 0.97805775, 4.53592, 11.5949455, 1.51669825, 0.77961125, 7.030676, 2.45223175, 7.47009325, 2.778251, 8.448151, 2.50893075, 1.20485375, 4.6209685, 6.25106475, 1.1623295, 3.50116325, 6.80388, 1.28990225, 13.551061, 13.19669225, 3.231843, 10.19164525, 5.726599, 7.3992195, 2.65067825, 7.98038425, 2.83495, 4.66349275, 5.5281525, 0.52446575, 1.43164975, 6.73300625, 3.72795925, 5.046211, 3.5436875, 9.298636, 3.58621175, 7.2858215, 0.07087375, 1.984465, 5.57067675, 11.0846545, 1.80019325, 8.5898985, 6.27941425, 0.9355335, 5.159609, 3.3735905, 0.850485, 7.01650125, 5.8683465, 6.93145275, 1.814368, 5.48562825, 5.20213325, 3.21766825, 0.94970825, 2.82077525, 0.793786, 0.49611625, 7.427569, 8.561549, 11.41067375, 4.252425, 6.13766675, 1.417475, 4.592619, 6.010094, 6.747181, 0.6520385, 3.47281375, 3.52951275, 0.89300925, 1.63009625, 7.64019025, 0.510291, 4.139027, 1.587572, 6.123492, 6.463686, 4.40834725, 1.99863975, 10.92873225, 8.8166945, 4.5075705, 2.73572675, 6.67630725, 8.107957, 6.9456275, 3.67126025, 6.350288, 10.375917, 7.66853975, 0.396893, 10.87203325, 6.690482, 7.257472, 1.88524175, 3.86970675, 2.79242575, 5.9250455, 5.31553125, 5.0745605, 6.577084, 4.12485225, 2.48058125, 4.1106775, 4.9044635, 11.12717875, 6.70465675, 5.00368675, 1.1056305, 2.56562975, 8.66077225, 4.3941725, 0.43941725, 4.4508715, 1.74349425, 9.185238, 2.11203775, 4.29494925, 1.4458245, 6.6621325, 2.0695135, 9.99319875, 12.360382, 5.76912325, 12.1052365, 8.9300925, 8.4765005, 3.3168915, 2.42388225, 0.907184, 3.628736, 8.71747125, 6.973977, 5.42892925, 10.7444605, 8.46232575, 11.35397475, 11.38232425, 3.78465825, 4.80524025, 9.6104805, 2.3530085, 4.2807745, 7.314171, 2.9199985, 5.06038575, 16.726205, 4.63514325, 13.60776, 4.91863825, 8.7032965, 7.07320025, 8.83086925, 6.90310325, 5.59902625, 3.04757125, 9.68135425, 6.066793, 7.540967, 6.98815175, 9.07184, 6.4353365, 4.60679375, 3.7137845, 1.11980525, 1.97029025, 7.52679225, 16.28678775, 6.39281225, 0.38271825, 1.3324265, 6.293589, 2.891649, 8.391452, 1.6726205, 2.2963095, 3.175144, 12.1619355, 6.22271525, 8.1930055, 8.221355, 7.27164675, 6.95980225, 2.097863, 6.30776375, 3.27436725, 6.08096775, 7.15824875, 7.69688925, 7.37087, 4.77689075, 2.8066005, 13.2959155, 4.49339575, 8.88756825, 6.0951425, 0.1984465, 9.5537815, 8.51902475, 6.8889285, 1.06310625, 5.65572525, 7.7394135, 0.60951425, 1.3891255, 10.999606, 0.170097, 7.597666, 7.32834575, 4.09650275, 2.324659, 11.9351395, 7.711064, 7.881161, 2.5798045, 4.762716, 7.44174375, 3.96893, 1.14815475, 7.0590255, 0.63786375, 2.6932025, 10.36174225, 8.63242275, 5.4714535, 6.2652395, 7.8528115, 0.32601925, 6.1518415, 6.633783, 9.17106325, 4.7343665, 7.4559185, 11.283101, 4.15320175, 7.10154975, 1.91359125, 9.48290775, 1.190679, 7.200773, 0.92135875, 12.530479, 10.4042665, 5.613201, 2.26796, 4.706017, 15.989118, 8.334753, 0.1417475, 0.66621325, 10.53183925, 0.226796, 4.422522, 4.06815325, 2.62232875, 13.93377925, 10.16329575, 6.64795775, 8.2497045, 2.608154, 12.96989625, 5.93922025, 8.12213175, 4.74854125, 8.0796075, 9.808927, 2.39553275, 2.02698925, 4.8477645, 7.38504475, 7.41339425, 4.876114, 2.8632995, 10.70193625, 13.79203175, 1.00640725, 1.6159215, 0.056699, 7.0023265, 10.44679075, 10.9712565, 8.74582075, 0.18427175, 4.0539785, 21.54562, 10.4609655, 0.680388, 0.58116475, 8.9867915, 3.44446425, 12.48795475, 0.35436875, 11.2547515, 5.499803, 3.912231, 1.2190285, 3.64291075, 9.11436425, 6.2085405, 1.757669, 11.963489, 6.02426875, 8.674947, 11.5382465, 8.23552975, 3.38776525, 2.14038725, 9.51125725, 7.83863675, 2.16873675, 3.118445, 13.1258185, 2.19708625, 5.6699, 9.39785925, 7.95203475, 10.8011595, 5.28718175, 9.96484925, 5.9817445, 1.82854275, 7.04485075, 10.95708175, 2.438057, 6.33611325, 1.94194075, 4.43669675, 3.81300775, 1.40330025, 8.731646, 4.55009475, 6.3219385, 10.035723, 5.3580555, 0.283495, 5.783298, 5.45727875, 4.86193925, 3.6570855, 6.42116175, 0.09922325, 11.94931425, 5.1879585, 5.10291, 7.81028725, 5.273007, 6.53455975, 1.927766, 10.77281, 1.247378, 8.8733935, 11.15552825, 0.12757275, 6.59125875, 6.56290925, 10.04989775, 5.11708475, 7.29999625, 4.03980375, 2.96252275, 2.59397925, 3.16096925, 3.345241, 3.515338, 1.03475675, 0.21262125, 9.82310175, 8.278054, 11.46737275, 5.51397775, 9.36950975, 5.1312595, 1.54504775, 10.886208, 5.82582225, 0.8221355, 3.4302895, 9.468733, 9.05766525, 5.7549485, 4.6776675, 4.2240755, 2.76407625, 9.22776225, 1.2757275, 9.695529, 0.3685435, 12.45960525, 7.5126175, 11.566596, 11.4815475, 0.0850485, 2.36718325, 10.6310625, 0.113398, 1.077281, 12.643877, 10.10659675, 5.23048275, 6.4920355, 5.0178615, 6.23689, 0.69456275, 3.005047, 2.2396105, 10.5176645, 11.113004, 7.3425205, 3.8271825, 1.9561155, 5.08873525, 7.087375, 2.67902775, 16.3009625, 8.43397625, 0.737087, 0.2551455, 8.32057825, 1.57339725, 10.1207715, 10.6877615, 10.432616, 5.839997, 2.84912475, 5.443104, 7.86698625, 9.31281075, 5.953395, 12.3320325, 3.55786225, 4.83358975, 8.1363065, 9.7805775, 14.50076925, 10.56018875, 0.4252425, 5.34388075, 2.99087225, 13.39513875, 12.68640125, 10.07824725, 14.7133905, 0.01417475, 2.1262125, 6.10931725, 0.24097075, 10.2908685, 8.80251975, 9.2702865, 3.84135725, 11.8217415, 5.6982495, 12.94154675, 3.458639, 10.20582, 10.602713, 9.8939755, 14.8834875, 3.35941575, 7.75358825, 3.855532, 4.35164825, 7.9662095, 7.654365, 7.484268, 6.0384435, 6.860579, 5.68407475, 4.3374735, 11.86426575, 12.870673, 11.90679, 10.829509, 7.9095105, 3.07592075, 9.56795625, 8.845044, 7.12989925, 8.5331995, 7.5693165, 3.98310475, 11.97766375, 13.96212875, 7.18659825, 11.9918385, 4.69184225, 5.96756975, 7.2291225, 8.50485, 10.33339275, 0.41106775, 1.71514475, 14.514944, 0.4819415, 0.453592, 11.07047975, 10.39009175, 0.3118445, 6.05261825, 2.664853, 11.0279555, 10.41844125, 9.59630575, 0.72291225, 6.47786075, 7.93786, 8.618248, 8.54737425, 12.99824575, 11.89261525, 3.0900955, 12.37455675, 18.18620425, 3.33106625, 4.18155125, 12.54465375, 13.8062065, 0.26932025, 13.664459, 8.17883075, 12.6722265, 14.92601175, 6.7188315, 6.180191, 7.55514175, 4.94698775, 10.75863525, 12.8423235, 3.7704835, 2.041164, 8.051258, 3.13261975, 15.592225, 3.24601775, 1.474174, 11.7083435, 5.91087075, 3.75630875, 10.3475675, 4.20990075, 2.31048425, 11.623295, 9.241937, 9.412034, 13.67863375, 9.979024, 14.4298955, 9.19941275, 4.1673765, 7.21494775, 11.396499, 2.1829115, 10.13494625, 8.3064035, 0.7654365, 11.01378075, 12.3887315, 3.288542, 1.530873, 1.34660125, 9.73805325, 1.360776, 0.7087375, 6.81805475, 15.3370795, 13.380964, 10.90038275, 6.61960825, 2.53728025, 10.149121, 1.304077, 7.824462, 14.72756525, 9.4403835, 9.525432, 8.97261675, 10.5743635, 9.45455825, 13.947954, 9.0434905, 14.84096325, 10.716111, 7.61184075, 12.09106175, 8.26387925, 9.62465525, 8.06543275, 14.13222575, 9.6671795, 14.69921575, 9.25611175, 10.50348975, 2.494756, 14.911837, 7.92368525, 9.8372765, 11.43902325, 13.6928085, 13.1825175, 8.94426725, 10.319218, 9.79475225, 8.91591775, 11.29727575, 9.7238785, 9.4970825, 10.0073735, 11.8784405, 14.58581775, 11.26892625, 11.169703, 12.57300325, 11.49572225, 10.78698475, 12.700576, 12.77144975, 11.63746975, 12.076887, 3.40194, 11.793392, 9.2135875, 7.6260155, 9.34116025, 2.211261, 0.46776675, 14.5432935, 9.1001895, 14.18892475, 11.52407175, 7.994559, 9.865626, 9.28446125, 0.340194, 12.14776075, 10.64523725, 10.9145575, 13.437663, 11.58077075, 9.1568885, 10.262519, 9.42620875, 6.84640425, 11.850091, 10.47514025, 13.62193475, 5.4147545, 11.4248485, 11.1980525, 10.942907, 11.55242125] \n",
            " \n",
            " col Peso_casca , Qtd de valores únicos: 907 , [6.747181, 1.5592225, 2.76407625, 5.2446575, 1.70097, 7.2291225, 4.819415, 7.15824875, 10.24834425, 2.08368825, 0.9922325, 7.7961125, 1.7860185, 6.3786375, 4.3941725, 11.4815475, 11.55242125, 2.26796, 8.3631025, 1.417475, 3.3168915, 2.33883375, 0.56699, 5.06038575, 8.0796075, 6.10931725, 9.7805775, 9.922325, 3.18931875, 4.6776675, 5.9250455, 4.876114, 12.0485375, 10.0640725, 5.54232725, 2.6932025, 1.13398, 2.83495, 7.200773, 1.40330025, 11.7650425, 8.7599955, 3.2601925, 13.324265, 6.23689, 13.36678925, 8.221355, 7.89533575, 3.69960975, 13.33843975, 8.50485, 6.6621325, 3.9405805, 16.0174675, 7.66853975, 0.737087, 2.7499015, 1.8427175, 8.9300925, 10.20582, 10.9145575, 5.76912325, 8.788345, 2.097863, 0.850485, 4.26659975, 9.34116025, 3.118445, 6.50621025, 9.4970825, 5.5281525, 18.66814575, 5.10291, 11.056305, 4.706017, 13.834556, 3.21766825, 12.82814875, 10.6310625, 9.51125725, 2.494756, 7.654365, 6.0951425, 6.87475375, 7.087375, 8.0229085, 9.355335, 7.93786, 5.03203625, 3.005047, 4.1106775, 6.39281225, 8.15048125, 2.1829115, 14.67086625, 10.2341695, 0.92135875, 5.953395, 10.47514025, 7.83863675, 8.3064035, 4.252425, 5.443104, 5.386405, 1.984465, 10.3475675, 5.8116475, 13.04077, 1.63009625, 10.546014, 4.989512, 3.35941575, 6.81805475, 15.26620575, 8.71747125, 6.4353365, 10.2908685, 9.07184, 10.489315, 3.685435, 2.65067825, 19.4194075, 13.1825175, 10.19164525, 12.5021295, 4.53592, 7.5126175, 1.8994165, 9.128539, 7.04485075, 0.2551455, 14.33067225, 3.7137845, 3.5436875, 11.0279555, 9.56795625, 13.0691195, 5.08873525, 2.551455, 5.79747275, 11.623295, 3.81300775, 3.78465825, 14.10387625, 17.293195, 13.3526145, 3.0900955, 10.77281, 23.1048425, 9.70970375, 3.8271825, 9.28446125, 4.2807745, 1.03475675, 2.9766975, 2.1262125, 7.64019025, 6.93145275, 8.51902475, 4.1673765, 2.778251, 3.96893, 5.499803, 16.44271, 4.37999775, 17.0097, 11.90679, 11.509897, 8.03708325, 13.31009025, 3.07592075, 14.2030995, 14.061352, 3.40194, 9.63883, 2.62232875, 5.23048275, 1.360776, 18.2287285, 3.345241, 0.94970825, 2.721552, 4.57844425, 11.3398, 4.422522, 5.8683465, 9.93649975, 8.1930055, 8.74582075, 1.644271, 9.752228, 15.01106025, 9.6671795, 4.18155125, 8.6465975, 4.365823, 5.6699, 6.973977, 1.26155275, 6.860579, 2.154562, 12.47378, 7.37087, 7.767763, 2.42388225, 0.113398, 6.56290925, 12.8990225, 2.438057, 9.4403835, 8.77417025, 7.8528115, 4.12485225, 5.1879585, 5.556502, 1.247378, 3.6570855, 8.40562675, 8.46232575, 8.06543275, 2.11203775, 3.798833, 2.4097075, 4.479221, 4.55009475, 2.2963095, 15.6772735, 1.17650425, 14.74174, 10.602713, 10.07824725, 11.963489, 3.33106625, 12.190285, 7.72523875, 4.9611625, 12.48795475, 11.6516445, 6.463686, 5.273007, 20.128145, 3.98310475, 6.520385, 2.041164, 0.72291225, 2.36718325, 12.26115875, 8.80251975, 4.40834725, 7.12989925, 9.48290775, 7.44174375, 0.623689, 12.6155275, 9.11436425, 6.80388, 1.587572, 13.7495075, 6.293589, 9.02931575, 7.4559185, 3.72795925, 1.757669, 4.3374735, 4.7910655, 4.5075705, 5.20213325, 2.324659, 11.1980525, 2.6365035, 0.5953395, 1.2757275, 11.12717875, 12.20445975, 1.65844575, 1.814368, 12.643877, 11.3114505, 14.5432935, 3.75630875, 6.3219385, 7.1724235, 16.8679525, 6.9456275, 12.03436275, 3.742134, 7.1157245, 7.0590255, 3.4869885, 17.57669, 15.23785625, 6.2085405, 8.2497045, 9.85145125, 14.8834875, 9.2135875, 5.0745605, 3.7704835, 8.278054, 7.824462, 19.12173775, 8.12213175, 1.71514475, 9.00096625, 13.60776, 10.84368375, 3.9972795, 14.118051, 10.1207715, 9.0434905, 6.70465675, 6.7755305, 9.412034, 6.066793, 3.89805625, 14.78426425, 10.035723, 0.283495, 10.716111, 17.7184375, 1.3891255, 0.7654365, 9.36950975, 0.3118445, 3.44446425, 11.4248485, 9.59630575, 7.18659825, 5.37223025, 17.860185, 10.33339275, 3.10427025, 1.190679, 2.93417325, 0.7087375, 3.16096925, 2.14038725, 5.726599, 9.7238785, 7.484268, 3.1467945, 14.5999925, 5.00368675, 5.34388075, 0.69456275, 7.881161, 12.14776075, 11.0846545, 9.8939755, 8.00873375, 2.79242575, 11.41067375, 11.83591625, 7.7394135, 15.20950675, 0.21262125, 10.90038275, 8.618248, 6.16601625, 2.28213475, 5.40057975, 18.313777, 5.613201, 13.11164375, 1.530873, 12.3320325, 4.97533725, 6.13766675, 8.958442, 8.32057825, 10.50348975, 5.17378375, 4.195726, 13.4660125, 2.4664065, 14.514944, 6.7188315, 2.3530085, 0.0850485, 4.5642695, 11.679994, 9.8372765, 0.4252425, 7.49844275, 16.386011, 10.6877615, 2.16873675, 15.1669825, 1.077281, 1.5025235, 8.391452, 8.60407325, 10.21999475, 5.31553125, 2.9199985, 4.082328, 7.98038425, 6.0384435, 7.47009325, 6.84640425, 10.98543125, 13.210867, 4.29494925, 8.63242275, 9.979024, 11.5382465, 1.020582, 3.2034935, 15.06775925, 0.907184, 4.7343665, 9.25611175, 11.58077075, 6.76135575, 11.226402, 15.025235, 2.67902775, 10.5176645, 10.8578585, 14.0330025, 3.13261975, 1.2190285, 1.91359125, 8.731646, 10.7444605, 2.2396105, 7.35669525, 5.6982495, 11.77921725, 3.8838815, 4.35164825, 0.29766975, 0.1417475, 14.628342, 4.2240755, 10.092422, 8.94426725, 8.54737425, 3.04757125, 0.8221355, 1.871067, 2.05533875, 15.5071765, 14.64251675, 3.0333965, 11.5949455, 14.3164975, 1.09145575, 8.23552975, 4.139027, 7.9095105, 4.60679375, 10.4609655, 8.9867915, 3.855532, 7.144074, 6.30776375, 6.90310325, 4.32329875, 0.26932025, 4.23825025, 9.22776225, 18.6256215, 16.31513725, 4.06815325, 8.1363065, 4.762716, 8.20718025, 0.97805775, 8.68912175, 5.96756975, 4.20990075, 9.14271375, 7.427569, 7.6260155, 13.097469, 1.9561155, 11.49572225, 12.246984, 3.92640575, 9.1568885, 10.886208, 1.97029025, 10.95708175, 6.4920355, 10.942907, 11.850091, 12.54465375, 12.8423235, 5.59902625, 15.819021, 2.5798045, 11.793392, 6.19436575, 7.030676, 2.96252275, 0.396893, 1.1056305, 7.257472, 0.09922325, 9.31281075, 5.046211, 6.690482, 13.437663, 5.4714535, 8.26387925, 14.84096325, 5.71242425, 3.86970675, 5.783298, 9.808927, 0.8788345, 0.35436875, 1.43164975, 13.2959155, 7.81028725, 3.84135725, 8.97261675, 10.81533425, 11.07047975, 9.695529, 9.525432, 3.52951275, 14.17475, 7.540967, 12.757275, 5.85417175, 8.17883075, 0.340194, 12.303683, 6.917278, 9.08601475, 3.01922175, 11.15552825, 17.0380495, 17.349894, 0.510291, 0.04252425, 2.8632995, 8.88756825, 4.0539785, 0.453592, 14.004653, 4.932813, 13.891255, 16.5844575, 9.53960675, 7.597666, 10.149121, 0.226796, 5.57067675, 0.6520385, 11.453198, 1.85689225, 18.0019325, 4.309124, 9.17106325, 4.592619, 5.25883225, 3.572037, 4.43669675, 5.839997, 12.2186345, 5.88252125, 7.5693165, 8.5331995, 5.3580555, 2.87747425, 11.72251825, 16.045817, 10.61688775, 1.37495075, 22.60872625, 3.628736, 4.72019175, 4.63514325, 1.48834875, 12.88484775, 8.8166945, 4.4508715, 4.025629, 9.39785925, 20.581737, 2.73572675, 18.427175, 3.6003865, 8.29222875, 3.61456125, 16.159215, 9.2702865, 7.61184075, 13.42348825, 3.458639, 15.12445825, 8.34892775, 4.46504625, 1.20485375, 0.3685435, 10.44679075, 0.170097, 0.5386405, 14.458245, 0.43941725, 9.3269855, 11.63746975, 3.4302895, 4.8477645, 4.6209685, 4.66349275, 11.01378075, 6.73300625, 9.76640275, 8.051258, 9.05766525, 1.6726205, 3.30271675, 6.36446275, 1.304077, 2.664853, 11.32562525, 12.417081, 9.185238, 3.231843, 18.200379, 10.0073735, 7.01650125, 5.0178615, 3.288542, 2.90582375, 14.231449, 5.896696, 6.95980225, 8.66077225, 2.211261, 2.25378525, 11.80756675, 15.03940975, 4.89028875, 6.633783, 14.4865945, 10.56018875, 12.85649825, 16.556108, 2.891649, 15.252031, 13.5227115, 21.54562, 0.63786375, 10.8011595, 11.283101, 6.2652395, 8.7032965, 20.5533875, 3.3735905, 12.09106175, 11.94931425, 0.963883, 2.0695135, 5.99591925, 11.9351395, 6.27941425, 10.13494625, 5.11708475, 14.1464005, 9.3836845, 7.10154975, 0.60951425, 9.298636, 22.11261, 16.91047675, 6.1518415, 10.319218, 1.23320325, 14.21727425, 6.47786075, 8.448151, 8.164656, 8.37727725, 14.38737125, 9.19941275, 1.0489315, 7.75358825, 7.27164675, 9.5537815, 13.87708025, 2.53728025, 19.1359125, 8.8733935, 4.80524025, 1.1623295, 9.1001895, 0.1984465, 1.77184375, 5.7549485, 16.3009625, 1.74349425, 2.5231055, 17.59086475, 7.29999625, 0.4819415, 13.28174075, 6.42116175, 5.216308, 3.912231, 1.51669825, 18.71067, 7.0023265, 18.8524175, 13.48018725, 3.175144, 6.33611325, 0.793786, 5.93922025, 12.40290625, 4.74854125, 2.56562975, 2.608154, 7.41339425, 13.25339125, 16.59863225, 1.00640725, 7.86698625, 15.30873, 2.02698925, 3.38776525, 11.60912025, 4.94698775, 7.38504475, 14.01882775, 11.169703, 10.39009175, 12.45960525, 12.77144975, 15.4504775, 2.381358, 9.6104805, 9.241937, 9.82310175, 1.28990225, 14.72756525, 7.78193775, 9.79475225, 9.865626, 5.51397775, 3.95475525, 8.674947, 9.68135425, 5.1312595, 13.79203175, 13.494362, 7.3425205, 12.71475075, 0.80796075, 6.22271525, 5.6415505, 11.24057675, 12.020188, 4.15320175, 14.9827108, 1.474174, 14.41572075, 8.561549, 2.19708625, 7.711064, 13.16834275, 16.726205, 11.66581925, 8.334753, 7.58349125, 10.58853825, 8.107957, 6.53455975, 16.612807, 5.48562825, 11.3681495, 18.5689225, 7.92368525, 3.41611475, 8.845044, 13.664459, 1.99863975, 14.401546, 4.52174525, 7.52679225, 11.29727575, 5.4147545, 10.9712565, 7.6827145, 25.0893075, 10.02154825, 1.14815475, 2.948348, 8.91591775, 12.3887315, 2.48058125, 5.159609, 11.35397475, 7.55514175, 5.9817445, 10.64523725, 16.03164225, 4.649318, 2.59397925, 25.4295015, 16.08834125, 11.52407175, 3.67126025, 7.07320025, 5.42892925, 10.999606, 5.329706, 14.968536, 13.5794105, 3.58621175, 12.927372, 10.92873225, 4.69184225, 12.7289255, 0.89300925, 6.64795775, 10.30504325, 2.50893075, 1.7293195, 10.75863525, 12.587178, 0.86465975, 9.62465525, 1.927766, 6.010094, 9.42620875, 11.89261525, 2.70737725, 5.62737575, 0.24097075, 1.6159215, 12.4454305, 5.82582225, 3.24601775, 4.77689075, 2.45223175, 19.23513575, 11.18387775, 17.690088, 19.43358225, 17.066399, 4.03980375, 6.180191, 10.4042665, 1.3324265, 6.5487345, 2.82077525, 7.314171, 28.4912475, 12.360382, 11.7083435, 15.7339725, 0.38271825, 12.17611025, 7.32834575, 10.04989775, 13.99047825, 9.87980075, 6.123492, 4.49339575, 17.56251525, 10.70193625, 14.9968855, 12.11941125, 8.4765005, 6.6054335, 7.69688925, 0.18427175, 0.9355335, 14.2597985, 0.52446575, 7.9662095, 11.46737275, 5.14543425, 18.086981, 13.67863375, 6.59125875, 9.9506745, 11.4106738, 2.31048425, 15.592225, 8.901743, 2.84912475, 17.1514475, 4.01145425, 9.99319875, 3.47281375, 1.68679525, 17.27902025, 8.83086925, 4.9044635, 12.65805175, 15.7906715, 8.4198015, 5.3013565, 12.96989625, 15.87572, 10.78698475, 19.84465, 0.55281525, 3.55786225, 6.61960825, 14.0897015] \n",
            " \n",
            " col Idade , Qtd de valores únicos: 28 , [9, 6, 10, 8, 15, 13, 7, 11, 12, 5, 20, 17, 4, 19, 26, 14, 23, 18, 16, 3, 24, 21, 2, 1, 22, 29, 25, 27] \n",
            " \n"
          ]
        }
      ],
      "source": [
        "for col in dataset.columns:\n",
        "  print(f\" col {col} , Qtd de valores únicos: {len(dataset[col].unique())} , {list(dataset[col].unique())} \\n \")"
      ]
    },
    {
      "cell_type": "code",
      "execution_count": null,
      "metadata": {
        "id": "iryinknkMxF7",
        "colab": {
          "base_uri": "https://localhost:8080/"
        },
        "outputId": "a41e401b-a125-4984-de40-de2f0432e35c"
      },
      "outputs": [
        {
          "output_type": "execute_result",
          "data": {
            "text/plain": [
              "0       1\n",
              "1       2\n",
              "2       0\n",
              "3       1\n",
              "4       0\n",
              "       ..\n",
              "3888    1\n",
              "3889    1\n",
              "3890    0\n",
              "3891    0\n",
              "3892    0\n",
              "Name: Sexo, Length: 3893, dtype: int64"
            ]
          },
          "metadata": {},
          "execution_count": 49
        }
      ],
      "source": [
        "oneHot = dataset.pop('Sexo')\n",
        "oneHot"
      ]
    },
    {
      "cell_type": "code",
      "execution_count": null,
      "metadata": {
        "id": "YgHj5imDa8Rr",
        "colab": {
          "base_uri": "https://localhost:8080/",
          "height": 250
        },
        "outputId": "d4e5287e-e1eb-4078-eb23-635784777892"
      },
      "outputs": [
        {
          "output_type": "execute_result",
          "data": {
            "text/plain": [
              "      Comprimento  Diametro       Peso  Peso_Descascado  Peso_intestino  \\\n",
              "3888       1.4625    1.1375  24.819987        11.651644        5.854172   \n",
              "3889       1.5500    1.2125  34.458817        15.450477        7.172423   \n",
              "3890       0.6250    0.4625   2.012815         0.765436        0.524466   \n",
              "3891       1.0625    0.7750  10.347568         4.507570        2.338834   \n",
              "3892       0.7875    0.6125   4.068153         1.502523        1.346601   \n",
              "\n",
              "      Peso_casca  Idade  Femea  Macho  Indifinido  \n",
              "3888    6.378637      8    0.0    1.0         0.0  \n",
              "3889    9.780577     10    0.0    1.0         0.0  \n",
              "3890    0.637864      5    1.0    0.0         0.0  \n",
              "3891    2.976698      6    1.0    0.0         0.0  \n",
              "3892    1.417475      8    1.0    0.0         0.0  "
            ],
            "text/html": [
              "\n",
              "  <div id=\"df-9d143eed-1263-46ac-9c77-9b99b1c04834\">\n",
              "    <div class=\"colab-df-container\">\n",
              "      <div>\n",
              "<style scoped>\n",
              "    .dataframe tbody tr th:only-of-type {\n",
              "        vertical-align: middle;\n",
              "    }\n",
              "\n",
              "    .dataframe tbody tr th {\n",
              "        vertical-align: top;\n",
              "    }\n",
              "\n",
              "    .dataframe thead th {\n",
              "        text-align: right;\n",
              "    }\n",
              "</style>\n",
              "<table border=\"1\" class=\"dataframe\">\n",
              "  <thead>\n",
              "    <tr style=\"text-align: right;\">\n",
              "      <th></th>\n",
              "      <th>Comprimento</th>\n",
              "      <th>Diametro</th>\n",
              "      <th>Peso</th>\n",
              "      <th>Peso_Descascado</th>\n",
              "      <th>Peso_intestino</th>\n",
              "      <th>Peso_casca</th>\n",
              "      <th>Idade</th>\n",
              "      <th>Femea</th>\n",
              "      <th>Macho</th>\n",
              "      <th>Indifinido</th>\n",
              "    </tr>\n",
              "  </thead>\n",
              "  <tbody>\n",
              "    <tr>\n",
              "      <th>3888</th>\n",
              "      <td>1.4625</td>\n",
              "      <td>1.1375</td>\n",
              "      <td>24.819987</td>\n",
              "      <td>11.651644</td>\n",
              "      <td>5.854172</td>\n",
              "      <td>6.378637</td>\n",
              "      <td>8</td>\n",
              "      <td>0.0</td>\n",
              "      <td>1.0</td>\n",
              "      <td>0.0</td>\n",
              "    </tr>\n",
              "    <tr>\n",
              "      <th>3889</th>\n",
              "      <td>1.5500</td>\n",
              "      <td>1.2125</td>\n",
              "      <td>34.458817</td>\n",
              "      <td>15.450477</td>\n",
              "      <td>7.172423</td>\n",
              "      <td>9.780577</td>\n",
              "      <td>10</td>\n",
              "      <td>0.0</td>\n",
              "      <td>1.0</td>\n",
              "      <td>0.0</td>\n",
              "    </tr>\n",
              "    <tr>\n",
              "      <th>3890</th>\n",
              "      <td>0.6250</td>\n",
              "      <td>0.4625</td>\n",
              "      <td>2.012815</td>\n",
              "      <td>0.765436</td>\n",
              "      <td>0.524466</td>\n",
              "      <td>0.637864</td>\n",
              "      <td>5</td>\n",
              "      <td>1.0</td>\n",
              "      <td>0.0</td>\n",
              "      <td>0.0</td>\n",
              "    </tr>\n",
              "    <tr>\n",
              "      <th>3891</th>\n",
              "      <td>1.0625</td>\n",
              "      <td>0.7750</td>\n",
              "      <td>10.347568</td>\n",
              "      <td>4.507570</td>\n",
              "      <td>2.338834</td>\n",
              "      <td>2.976698</td>\n",
              "      <td>6</td>\n",
              "      <td>1.0</td>\n",
              "      <td>0.0</td>\n",
              "      <td>0.0</td>\n",
              "    </tr>\n",
              "    <tr>\n",
              "      <th>3892</th>\n",
              "      <td>0.7875</td>\n",
              "      <td>0.6125</td>\n",
              "      <td>4.068153</td>\n",
              "      <td>1.502523</td>\n",
              "      <td>1.346601</td>\n",
              "      <td>1.417475</td>\n",
              "      <td>8</td>\n",
              "      <td>1.0</td>\n",
              "      <td>0.0</td>\n",
              "      <td>0.0</td>\n",
              "    </tr>\n",
              "  </tbody>\n",
              "</table>\n",
              "</div>\n",
              "      <button class=\"colab-df-convert\" onclick=\"convertToInteractive('df-9d143eed-1263-46ac-9c77-9b99b1c04834')\"\n",
              "              title=\"Convert this dataframe to an interactive table.\"\n",
              "              style=\"display:none;\">\n",
              "        \n",
              "  <svg xmlns=\"http://www.w3.org/2000/svg\" height=\"24px\"viewBox=\"0 0 24 24\"\n",
              "       width=\"24px\">\n",
              "    <path d=\"M0 0h24v24H0V0z\" fill=\"none\"/>\n",
              "    <path d=\"M18.56 5.44l.94 2.06.94-2.06 2.06-.94-2.06-.94-.94-2.06-.94 2.06-2.06.94zm-11 1L8.5 8.5l.94-2.06 2.06-.94-2.06-.94L8.5 2.5l-.94 2.06-2.06.94zm10 10l.94 2.06.94-2.06 2.06-.94-2.06-.94-.94-2.06-.94 2.06-2.06.94z\"/><path d=\"M17.41 7.96l-1.37-1.37c-.4-.4-.92-.59-1.43-.59-.52 0-1.04.2-1.43.59L10.3 9.45l-7.72 7.72c-.78.78-.78 2.05 0 2.83L4 21.41c.39.39.9.59 1.41.59.51 0 1.02-.2 1.41-.59l7.78-7.78 2.81-2.81c.8-.78.8-2.07 0-2.86zM5.41 20L4 18.59l7.72-7.72 1.47 1.35L5.41 20z\"/>\n",
              "  </svg>\n",
              "      </button>\n",
              "      \n",
              "  <style>\n",
              "    .colab-df-container {\n",
              "      display:flex;\n",
              "      flex-wrap:wrap;\n",
              "      gap: 12px;\n",
              "    }\n",
              "\n",
              "    .colab-df-convert {\n",
              "      background-color: #E8F0FE;\n",
              "      border: none;\n",
              "      border-radius: 50%;\n",
              "      cursor: pointer;\n",
              "      display: none;\n",
              "      fill: #1967D2;\n",
              "      height: 32px;\n",
              "      padding: 0 0 0 0;\n",
              "      width: 32px;\n",
              "    }\n",
              "\n",
              "    .colab-df-convert:hover {\n",
              "      background-color: #E2EBFA;\n",
              "      box-shadow: 0px 1px 2px rgba(60, 64, 67, 0.3), 0px 1px 3px 1px rgba(60, 64, 67, 0.15);\n",
              "      fill: #174EA6;\n",
              "    }\n",
              "\n",
              "    [theme=dark] .colab-df-convert {\n",
              "      background-color: #3B4455;\n",
              "      fill: #D2E3FC;\n",
              "    }\n",
              "\n",
              "    [theme=dark] .colab-df-convert:hover {\n",
              "      background-color: #434B5C;\n",
              "      box-shadow: 0px 1px 3px 1px rgba(0, 0, 0, 0.15);\n",
              "      filter: drop-shadow(0px 1px 2px rgba(0, 0, 0, 0.3));\n",
              "      fill: #FFFFFF;\n",
              "    }\n",
              "  </style>\n",
              "\n",
              "      <script>\n",
              "        const buttonEl =\n",
              "          document.querySelector('#df-9d143eed-1263-46ac-9c77-9b99b1c04834 button.colab-df-convert');\n",
              "        buttonEl.style.display =\n",
              "          google.colab.kernel.accessAllowed ? 'block' : 'none';\n",
              "\n",
              "        async function convertToInteractive(key) {\n",
              "          const element = document.querySelector('#df-9d143eed-1263-46ac-9c77-9b99b1c04834');\n",
              "          const dataTable =\n",
              "            await google.colab.kernel.invokeFunction('convertToInteractive',\n",
              "                                                     [key], {});\n",
              "          if (!dataTable) return;\n",
              "\n",
              "          const docLinkHtml = 'Like what you see? Visit the ' +\n",
              "            '<a target=\"_blank\" href=https://colab.research.google.com/notebooks/data_table.ipynb>data table notebook</a>'\n",
              "            + ' to learn more about interactive tables.';\n",
              "          element.innerHTML = '';\n",
              "          dataTable['output_type'] = 'display_data';\n",
              "          await google.colab.output.renderOutput(dataTable, element);\n",
              "          const docLink = document.createElement('div');\n",
              "          docLink.innerHTML = docLinkHtml;\n",
              "          element.appendChild(docLink);\n",
              "        }\n",
              "      </script>\n",
              "    </div>\n",
              "  </div>\n",
              "  "
            ]
          },
          "metadata": {},
          "execution_count": 50
        }
      ],
      "source": [
        "dataset['Femea'] = (oneHot == 0)*1.0\n",
        "dataset['Macho'] = (oneHot == 1)*1.0\n",
        "dataset['Indifinido'] = (oneHot == 2)*1.0\n",
        "dataset.tail()"
      ]
    },
    {
      "cell_type": "code",
      "execution_count": null,
      "metadata": {
        "id": "cywzfmGfb8Kk"
      },
      "outputs": [],
      "source": [
        "#Adquirindo 70% dos dados\n",
        "split = 0.7"
      ]
    },
    {
      "cell_type": "code",
      "execution_count": null,
      "metadata": {
        "id": "WHfrsUzMb781"
      },
      "outputs": [],
      "source": [
        "#Dados de treinamento\n",
        "train_dataset = dataset.sample(frac=split,random_state=0)"
      ]
    },
    {
      "cell_type": "code",
      "execution_count": null,
      "metadata": {
        "id": "RIoXMxprdOFT"
      },
      "outputs": [],
      "source": [
        "#Dados de teste\n",
        "test_dataset = dataset.drop(train_dataset.index)"
      ]
    },
    {
      "cell_type": "code",
      "execution_count": null,
      "metadata": {
        "id": "vnG1TjLXdTPf",
        "colab": {
          "base_uri": "https://localhost:8080/"
        },
        "outputId": "8f5bd371-c1c0-4a67-cec9-e3cb4c00205b"
      },
      "outputs": [
        {
          "output_type": "execute_result",
          "data": {
            "text/plain": [
              "Index(['Comprimento', 'Diametro', 'Peso', 'Peso_Descascado', 'Peso_intestino',\n",
              "       'Peso_casca', 'Idade', 'Femea', 'Macho', 'Indifinido'],\n",
              "      dtype='object')"
            ]
          },
          "metadata": {},
          "execution_count": 54
        }
      ],
      "source": [
        "#Verificando as colunas que seram utilizadas\n",
        "dataset.columns"
      ]
    },
    {
      "cell_type": "code",
      "execution_count": null,
      "metadata": {
        "id": "BTdPAfSXdTEK",
        "colab": {
          "base_uri": "https://localhost:8080/",
          "height": 332
        },
        "outputId": "0d77ae0e-21cc-4442-f625-5e534503339c"
      },
      "outputs": [
        {
          "output_type": "execute_result",
          "data": {
            "text/plain": [
              "                  count       mean        std       min        25%        50%  \\\n",
              "Comprimento      2725.0   1.319771   0.299368  0.187500   1.137500   1.375000   \n",
              "Diametro         2725.0   1.027982   0.247518  0.137500   0.875000   1.062500   \n",
              "Peso             2725.0  23.983630  14.043048  0.056699  12.813974  23.374163   \n",
              "Peso_Descascado  2725.0  10.369373   6.304903  0.028349   5.443104   9.766403   \n",
              "Peso_intestino   2725.0   5.218175   3.130839  0.014175   2.693202   4.918638   \n",
              "Peso_casca       2725.0   6.931468   4.024176  0.042524   3.827183   6.761356   \n",
              "Femea            2725.0   0.309358   0.462314  0.000000   0.000000   0.000000   \n",
              "Macho            2725.0   0.310826   0.462917  0.000000   0.000000   0.000000   \n",
              "Indifinido       2725.0   0.379817   0.485430  0.000000   0.000000   0.000000   \n",
              "\n",
              "                       75%        max  \n",
              "Comprimento       1.550000   2.037500  \n",
              "Diametro          1.212500   1.625000  \n",
              "Peso             33.424061  80.101512  \n",
              "Peso_Descascado  14.472420  38.300174  \n",
              "Peso_intestino    7.299996  21.545620  \n",
              "Peso_casca        9.497082  28.491248  \n",
              "Femea             1.000000   1.000000  \n",
              "Macho             1.000000   1.000000  \n",
              "Indifinido        1.000000   1.000000  "
            ],
            "text/html": [
              "\n",
              "  <div id=\"df-6b4e754b-5a7b-4ec9-967f-35f7f20d9388\">\n",
              "    <div class=\"colab-df-container\">\n",
              "      <div>\n",
              "<style scoped>\n",
              "    .dataframe tbody tr th:only-of-type {\n",
              "        vertical-align: middle;\n",
              "    }\n",
              "\n",
              "    .dataframe tbody tr th {\n",
              "        vertical-align: top;\n",
              "    }\n",
              "\n",
              "    .dataframe thead th {\n",
              "        text-align: right;\n",
              "    }\n",
              "</style>\n",
              "<table border=\"1\" class=\"dataframe\">\n",
              "  <thead>\n",
              "    <tr style=\"text-align: right;\">\n",
              "      <th></th>\n",
              "      <th>count</th>\n",
              "      <th>mean</th>\n",
              "      <th>std</th>\n",
              "      <th>min</th>\n",
              "      <th>25%</th>\n",
              "      <th>50%</th>\n",
              "      <th>75%</th>\n",
              "      <th>max</th>\n",
              "    </tr>\n",
              "  </thead>\n",
              "  <tbody>\n",
              "    <tr>\n",
              "      <th>Comprimento</th>\n",
              "      <td>2725.0</td>\n",
              "      <td>1.319771</td>\n",
              "      <td>0.299368</td>\n",
              "      <td>0.187500</td>\n",
              "      <td>1.137500</td>\n",
              "      <td>1.375000</td>\n",
              "      <td>1.550000</td>\n",
              "      <td>2.037500</td>\n",
              "    </tr>\n",
              "    <tr>\n",
              "      <th>Diametro</th>\n",
              "      <td>2725.0</td>\n",
              "      <td>1.027982</td>\n",
              "      <td>0.247518</td>\n",
              "      <td>0.137500</td>\n",
              "      <td>0.875000</td>\n",
              "      <td>1.062500</td>\n",
              "      <td>1.212500</td>\n",
              "      <td>1.625000</td>\n",
              "    </tr>\n",
              "    <tr>\n",
              "      <th>Peso</th>\n",
              "      <td>2725.0</td>\n",
              "      <td>23.983630</td>\n",
              "      <td>14.043048</td>\n",
              "      <td>0.056699</td>\n",
              "      <td>12.813974</td>\n",
              "      <td>23.374163</td>\n",
              "      <td>33.424061</td>\n",
              "      <td>80.101512</td>\n",
              "    </tr>\n",
              "    <tr>\n",
              "      <th>Peso_Descascado</th>\n",
              "      <td>2725.0</td>\n",
              "      <td>10.369373</td>\n",
              "      <td>6.304903</td>\n",
              "      <td>0.028349</td>\n",
              "      <td>5.443104</td>\n",
              "      <td>9.766403</td>\n",
              "      <td>14.472420</td>\n",
              "      <td>38.300174</td>\n",
              "    </tr>\n",
              "    <tr>\n",
              "      <th>Peso_intestino</th>\n",
              "      <td>2725.0</td>\n",
              "      <td>5.218175</td>\n",
              "      <td>3.130839</td>\n",
              "      <td>0.014175</td>\n",
              "      <td>2.693202</td>\n",
              "      <td>4.918638</td>\n",
              "      <td>7.299996</td>\n",
              "      <td>21.545620</td>\n",
              "    </tr>\n",
              "    <tr>\n",
              "      <th>Peso_casca</th>\n",
              "      <td>2725.0</td>\n",
              "      <td>6.931468</td>\n",
              "      <td>4.024176</td>\n",
              "      <td>0.042524</td>\n",
              "      <td>3.827183</td>\n",
              "      <td>6.761356</td>\n",
              "      <td>9.497082</td>\n",
              "      <td>28.491248</td>\n",
              "    </tr>\n",
              "    <tr>\n",
              "      <th>Femea</th>\n",
              "      <td>2725.0</td>\n",
              "      <td>0.309358</td>\n",
              "      <td>0.462314</td>\n",
              "      <td>0.000000</td>\n",
              "      <td>0.000000</td>\n",
              "      <td>0.000000</td>\n",
              "      <td>1.000000</td>\n",
              "      <td>1.000000</td>\n",
              "    </tr>\n",
              "    <tr>\n",
              "      <th>Macho</th>\n",
              "      <td>2725.0</td>\n",
              "      <td>0.310826</td>\n",
              "      <td>0.462917</td>\n",
              "      <td>0.000000</td>\n",
              "      <td>0.000000</td>\n",
              "      <td>0.000000</td>\n",
              "      <td>1.000000</td>\n",
              "      <td>1.000000</td>\n",
              "    </tr>\n",
              "    <tr>\n",
              "      <th>Indifinido</th>\n",
              "      <td>2725.0</td>\n",
              "      <td>0.379817</td>\n",
              "      <td>0.485430</td>\n",
              "      <td>0.000000</td>\n",
              "      <td>0.000000</td>\n",
              "      <td>0.000000</td>\n",
              "      <td>1.000000</td>\n",
              "      <td>1.000000</td>\n",
              "    </tr>\n",
              "  </tbody>\n",
              "</table>\n",
              "</div>\n",
              "      <button class=\"colab-df-convert\" onclick=\"convertToInteractive('df-6b4e754b-5a7b-4ec9-967f-35f7f20d9388')\"\n",
              "              title=\"Convert this dataframe to an interactive table.\"\n",
              "              style=\"display:none;\">\n",
              "        \n",
              "  <svg xmlns=\"http://www.w3.org/2000/svg\" height=\"24px\"viewBox=\"0 0 24 24\"\n",
              "       width=\"24px\">\n",
              "    <path d=\"M0 0h24v24H0V0z\" fill=\"none\"/>\n",
              "    <path d=\"M18.56 5.44l.94 2.06.94-2.06 2.06-.94-2.06-.94-.94-2.06-.94 2.06-2.06.94zm-11 1L8.5 8.5l.94-2.06 2.06-.94-2.06-.94L8.5 2.5l-.94 2.06-2.06.94zm10 10l.94 2.06.94-2.06 2.06-.94-2.06-.94-.94-2.06-.94 2.06-2.06.94z\"/><path d=\"M17.41 7.96l-1.37-1.37c-.4-.4-.92-.59-1.43-.59-.52 0-1.04.2-1.43.59L10.3 9.45l-7.72 7.72c-.78.78-.78 2.05 0 2.83L4 21.41c.39.39.9.59 1.41.59.51 0 1.02-.2 1.41-.59l7.78-7.78 2.81-2.81c.8-.78.8-2.07 0-2.86zM5.41 20L4 18.59l7.72-7.72 1.47 1.35L5.41 20z\"/>\n",
              "  </svg>\n",
              "      </button>\n",
              "      \n",
              "  <style>\n",
              "    .colab-df-container {\n",
              "      display:flex;\n",
              "      flex-wrap:wrap;\n",
              "      gap: 12px;\n",
              "    }\n",
              "\n",
              "    .colab-df-convert {\n",
              "      background-color: #E8F0FE;\n",
              "      border: none;\n",
              "      border-radius: 50%;\n",
              "      cursor: pointer;\n",
              "      display: none;\n",
              "      fill: #1967D2;\n",
              "      height: 32px;\n",
              "      padding: 0 0 0 0;\n",
              "      width: 32px;\n",
              "    }\n",
              "\n",
              "    .colab-df-convert:hover {\n",
              "      background-color: #E2EBFA;\n",
              "      box-shadow: 0px 1px 2px rgba(60, 64, 67, 0.3), 0px 1px 3px 1px rgba(60, 64, 67, 0.15);\n",
              "      fill: #174EA6;\n",
              "    }\n",
              "\n",
              "    [theme=dark] .colab-df-convert {\n",
              "      background-color: #3B4455;\n",
              "      fill: #D2E3FC;\n",
              "    }\n",
              "\n",
              "    [theme=dark] .colab-df-convert:hover {\n",
              "      background-color: #434B5C;\n",
              "      box-shadow: 0px 1px 3px 1px rgba(0, 0, 0, 0.15);\n",
              "      filter: drop-shadow(0px 1px 2px rgba(0, 0, 0, 0.3));\n",
              "      fill: #FFFFFF;\n",
              "    }\n",
              "  </style>\n",
              "\n",
              "      <script>\n",
              "        const buttonEl =\n",
              "          document.querySelector('#df-6b4e754b-5a7b-4ec9-967f-35f7f20d9388 button.colab-df-convert');\n",
              "        buttonEl.style.display =\n",
              "          google.colab.kernel.accessAllowed ? 'block' : 'none';\n",
              "\n",
              "        async function convertToInteractive(key) {\n",
              "          const element = document.querySelector('#df-6b4e754b-5a7b-4ec9-967f-35f7f20d9388');\n",
              "          const dataTable =\n",
              "            await google.colab.kernel.invokeFunction('convertToInteractive',\n",
              "                                                     [key], {});\n",
              "          if (!dataTable) return;\n",
              "\n",
              "          const docLinkHtml = 'Like what you see? Visit the ' +\n",
              "            '<a target=\"_blank\" href=https://colab.research.google.com/notebooks/data_table.ipynb>data table notebook</a>'\n",
              "            + ' to learn more about interactive tables.';\n",
              "          element.innerHTML = '';\n",
              "          dataTable['output_type'] = 'display_data';\n",
              "          await google.colab.output.renderOutput(dataTable, element);\n",
              "          const docLink = document.createElement('div');\n",
              "          docLink.innerHTML = docLinkHtml;\n",
              "          element.appendChild(docLink);\n",
              "        }\n",
              "      </script>\n",
              "    </div>\n",
              "  </div>\n",
              "  "
            ]
          },
          "metadata": {},
          "execution_count": 55
        }
      ],
      "source": [
        "#Criando nova variavel que representa as estatísticas dos dados\n",
        "train_stats = train_dataset.describe()\n",
        "train_stats.pop(\"Idade\")\n",
        "train_stats = train_stats.T\n",
        "train_stats"
      ]
    },
    {
      "cell_type": "code",
      "execution_count": null,
      "metadata": {
        "id": "Lle8UEUGdbKY"
      },
      "outputs": [],
      "source": [
        "train_labels = train_dataset.pop('Idade')\n",
        "test_labels = test_dataset.pop('Idade')"
      ]
    },
    {
      "cell_type": "markdown",
      "metadata": {
        "id": "GbJF081dd-H0"
      },
      "source": [
        "<h8>Normalização dos dados"
      ]
    },
    {
      "cell_type": "code",
      "execution_count": null,
      "metadata": {
        "id": "EImEo9_Ida8B"
      },
      "outputs": [],
      "source": [
        "def padroniza(x):\n",
        "  return (x - train_stats['mean']) / train_stats['std']"
      ]
    },
    {
      "cell_type": "code",
      "execution_count": null,
      "metadata": {
        "id": "6-FIi6_AeDRt"
      },
      "outputs": [],
      "source": [
        "normed_train_data = padroniza(train_dataset)\n",
        "normed_test_data = padroniza(test_dataset)"
      ]
    },
    {
      "cell_type": "code",
      "execution_count": null,
      "metadata": {
        "id": "r77m2H6ReDJ_",
        "colab": {
          "base_uri": "https://localhost:8080/"
        },
        "outputId": "b03051f3-6641-4ac4-9021-8743c9cba72b"
      },
      "outputs": [
        {
          "output_type": "execute_result",
          "data": {
            "text/plain": [
              "(1168, 9)"
            ]
          },
          "metadata": {},
          "execution_count": 59
        }
      ],
      "source": [
        "normed_test_data.shape"
      ]
    },
    {
      "cell_type": "code",
      "execution_count": null,
      "metadata": {
        "id": "Wf6ysI3AeONj",
        "colab": {
          "base_uri": "https://localhost:8080/"
        },
        "outputId": "1a7e036a-984e-4379-b5b8-527fce5921c1"
      },
      "outputs": [
        {
          "output_type": "execute_result",
          "data": {
            "text/plain": [
              "(2725, 9)"
            ]
          },
          "metadata": {},
          "execution_count": 60
        }
      ],
      "source": [
        "normed_train_data.shape"
      ]
    },
    {
      "cell_type": "code",
      "execution_count": null,
      "metadata": {
        "id": "ONK-DY7LeOC2"
      },
      "outputs": [],
      "source": [
        "#Construindo o modelo usando a rede neural Keras\n",
        "def constroi_modelo():\n",
        "  model = keras.Sequential([\n",
        "    layers.Dense(64, activation='relu', input_shape=[len(train_dataset.keys())]),\n",
        "    layers.Dense(64, activation='re lu'),\n",
        "    layers.Dense(1)\n",
        "  ])\n",
        "\n",
        "  optimizer = tf.keras.optimizers.RMSprop(0.001)\n",
        "\n",
        "  model.compile(loss='mse',\n",
        "                optimizer=optimizer,\n",
        "                metrics=['mae', 'mse'])\n",
        "  return model"
      ]
    },
    {
      "cell_type": "code",
      "execution_count": null,
      "metadata": {
        "id": "5U2ApdHZeqNY",
        "colab": {
          "base_uri": "https://localhost:8080/"
        },
        "outputId": "b5186b65-a4eb-46d6-cada-4fb6bfcfe1c0"
      },
      "outputs": [
        {
          "output_type": "execute_result",
          "data": {
            "text/plain": [
              "<keras.engine.sequential.Sequential at 0x7f32b8e08450>"
            ]
          },
          "metadata": {},
          "execution_count": 62
        }
      ],
      "source": [
        "model = constroi_modelo()\n",
        "model"
      ]
    },
    {
      "cell_type": "markdown",
      "metadata": {
        "id": "nWZ404-TfZ_d"
      },
      "source": [
        "<h8>Treinamento do modelo"
      ]
    },
    {
      "cell_type": "code",
      "execution_count": null,
      "metadata": {
        "id": "7v8P_dgPofGt"
      },
      "outputs": [],
      "source": [
        "class MostraProgresso(keras.callbacks.Callback):\n",
        "  def on_epoch_end(self, epoch, logs):\n",
        "    if epoch % 100 == 0: \n",
        "      print('')\n",
        "    print('-', end='')"
      ]
    },
    {
      "cell_type": "code",
      "execution_count": null,
      "metadata": {
        "id": "MnNO0cZJiWyS"
      },
      "outputs": [],
      "source": [
        "EPOCHS = 1000"
      ]
    },
    {
      "cell_type": "code",
      "execution_count": null,
      "metadata": {
        "id": "W6efyrEHoi72",
        "colab": {
          "base_uri": "https://localhost:8080/"
        },
        "outputId": "1eb4de4d-434d-4b67-fb60-88cf68cc6b47"
      },
      "outputs": [
        {
          "output_type": "stream",
          "name": "stdout",
          "text": [
            "\n",
            "----------------------------------------------------------------------------------------------------\n",
            "----------------------------------------------------------------------------------------------------\n",
            "----------------------------------------------------------------------------------------------------\n",
            "----------------------------------------------------------------------------------------------------\n",
            "----------------------------------------------------------------------------------------------------\n",
            "----------------------------------------------------------------------------------------------------\n",
            "----------------------------------------------------------------------------------------------------\n",
            "----------------------------------------------------------------------------------------------------\n",
            "----------------------------------------------------------------------------------------------------\n",
            "----------------------------------------------------------------------------------------------------"
          ]
        }
      ],
      "source": [
        "#Acuracia de treianamento e validação\n",
        "history = model.fit(\n",
        "    x=normed_train_data,\n",
        "    y=train_labels,\n",
        "    epochs=EPOCHS,\n",
        "    validation_split=0.2,\n",
        "    verbose=0,\n",
        "    callbacks=[MostraProgresso()]\n",
        ")"
      ]
    },
    {
      "cell_type": "code",
      "execution_count": null,
      "metadata": {
        "id": "lo4Vbi7Ho-4v",
        "colab": {
          "base_uri": "https://localhost:8080/",
          "height": 206
        },
        "outputId": "da66e151-7d5f-45a9-9390-6f97dbaafbc1"
      },
      "outputs": [
        {
          "output_type": "execute_result",
          "data": {
            "text/plain": [
              "         loss       mae       mse  val_loss   val_mae   val_mse  epoch\n",
              "995  2.508125  1.163669  2.508125  7.444786  2.052758  7.444786    995\n",
              "996  2.507752  1.165173  2.507752  6.566469  1.859902  6.566469    996\n",
              "997  2.503916  1.161392  2.503916  6.368272  1.804294  6.368272    997\n",
              "998  2.503985  1.154021  2.503985  6.084190  1.770988  6.084190    998\n",
              "999  2.509909  1.161674  2.509909  6.220914  1.768415  6.220914    999"
            ],
            "text/html": [
              "\n",
              "  <div id=\"df-bbf1ecf5-4fb5-45c7-8eae-84b149209ebc\">\n",
              "    <div class=\"colab-df-container\">\n",
              "      <div>\n",
              "<style scoped>\n",
              "    .dataframe tbody tr th:only-of-type {\n",
              "        vertical-align: middle;\n",
              "    }\n",
              "\n",
              "    .dataframe tbody tr th {\n",
              "        vertical-align: top;\n",
              "    }\n",
              "\n",
              "    .dataframe thead th {\n",
              "        text-align: right;\n",
              "    }\n",
              "</style>\n",
              "<table border=\"1\" class=\"dataframe\">\n",
              "  <thead>\n",
              "    <tr style=\"text-align: right;\">\n",
              "      <th></th>\n",
              "      <th>loss</th>\n",
              "      <th>mae</th>\n",
              "      <th>mse</th>\n",
              "      <th>val_loss</th>\n",
              "      <th>val_mae</th>\n",
              "      <th>val_mse</th>\n",
              "      <th>epoch</th>\n",
              "    </tr>\n",
              "  </thead>\n",
              "  <tbody>\n",
              "    <tr>\n",
              "      <th>995</th>\n",
              "      <td>2.508125</td>\n",
              "      <td>1.163669</td>\n",
              "      <td>2.508125</td>\n",
              "      <td>7.444786</td>\n",
              "      <td>2.052758</td>\n",
              "      <td>7.444786</td>\n",
              "      <td>995</td>\n",
              "    </tr>\n",
              "    <tr>\n",
              "      <th>996</th>\n",
              "      <td>2.507752</td>\n",
              "      <td>1.165173</td>\n",
              "      <td>2.507752</td>\n",
              "      <td>6.566469</td>\n",
              "      <td>1.859902</td>\n",
              "      <td>6.566469</td>\n",
              "      <td>996</td>\n",
              "    </tr>\n",
              "    <tr>\n",
              "      <th>997</th>\n",
              "      <td>2.503916</td>\n",
              "      <td>1.161392</td>\n",
              "      <td>2.503916</td>\n",
              "      <td>6.368272</td>\n",
              "      <td>1.804294</td>\n",
              "      <td>6.368272</td>\n",
              "      <td>997</td>\n",
              "    </tr>\n",
              "    <tr>\n",
              "      <th>998</th>\n",
              "      <td>2.503985</td>\n",
              "      <td>1.154021</td>\n",
              "      <td>2.503985</td>\n",
              "      <td>6.084190</td>\n",
              "      <td>1.770988</td>\n",
              "      <td>6.084190</td>\n",
              "      <td>998</td>\n",
              "    </tr>\n",
              "    <tr>\n",
              "      <th>999</th>\n",
              "      <td>2.509909</td>\n",
              "      <td>1.161674</td>\n",
              "      <td>2.509909</td>\n",
              "      <td>6.220914</td>\n",
              "      <td>1.768415</td>\n",
              "      <td>6.220914</td>\n",
              "      <td>999</td>\n",
              "    </tr>\n",
              "  </tbody>\n",
              "</table>\n",
              "</div>\n",
              "      <button class=\"colab-df-convert\" onclick=\"convertToInteractive('df-bbf1ecf5-4fb5-45c7-8eae-84b149209ebc')\"\n",
              "              title=\"Convert this dataframe to an interactive table.\"\n",
              "              style=\"display:none;\">\n",
              "        \n",
              "  <svg xmlns=\"http://www.w3.org/2000/svg\" height=\"24px\"viewBox=\"0 0 24 24\"\n",
              "       width=\"24px\">\n",
              "    <path d=\"M0 0h24v24H0V0z\" fill=\"none\"/>\n",
              "    <path d=\"M18.56 5.44l.94 2.06.94-2.06 2.06-.94-2.06-.94-.94-2.06-.94 2.06-2.06.94zm-11 1L8.5 8.5l.94-2.06 2.06-.94-2.06-.94L8.5 2.5l-.94 2.06-2.06.94zm10 10l.94 2.06.94-2.06 2.06-.94-2.06-.94-.94-2.06-.94 2.06-2.06.94z\"/><path d=\"M17.41 7.96l-1.37-1.37c-.4-.4-.92-.59-1.43-.59-.52 0-1.04.2-1.43.59L10.3 9.45l-7.72 7.72c-.78.78-.78 2.05 0 2.83L4 21.41c.39.39.9.59 1.41.59.51 0 1.02-.2 1.41-.59l7.78-7.78 2.81-2.81c.8-.78.8-2.07 0-2.86zM5.41 20L4 18.59l7.72-7.72 1.47 1.35L5.41 20z\"/>\n",
              "  </svg>\n",
              "      </button>\n",
              "      \n",
              "  <style>\n",
              "    .colab-df-container {\n",
              "      display:flex;\n",
              "      flex-wrap:wrap;\n",
              "      gap: 12px;\n",
              "    }\n",
              "\n",
              "    .colab-df-convert {\n",
              "      background-color: #E8F0FE;\n",
              "      border: none;\n",
              "      border-radius: 50%;\n",
              "      cursor: pointer;\n",
              "      display: none;\n",
              "      fill: #1967D2;\n",
              "      height: 32px;\n",
              "      padding: 0 0 0 0;\n",
              "      width: 32px;\n",
              "    }\n",
              "\n",
              "    .colab-df-convert:hover {\n",
              "      background-color: #E2EBFA;\n",
              "      box-shadow: 0px 1px 2px rgba(60, 64, 67, 0.3), 0px 1px 3px 1px rgba(60, 64, 67, 0.15);\n",
              "      fill: #174EA6;\n",
              "    }\n",
              "\n",
              "    [theme=dark] .colab-df-convert {\n",
              "      background-color: #3B4455;\n",
              "      fill: #D2E3FC;\n",
              "    }\n",
              "\n",
              "    [theme=dark] .colab-df-convert:hover {\n",
              "      background-color: #434B5C;\n",
              "      box-shadow: 0px 1px 3px 1px rgba(0, 0, 0, 0.15);\n",
              "      filter: drop-shadow(0px 1px 2px rgba(0, 0, 0, 0.3));\n",
              "      fill: #FFFFFF;\n",
              "    }\n",
              "  </style>\n",
              "\n",
              "      <script>\n",
              "        const buttonEl =\n",
              "          document.querySelector('#df-bbf1ecf5-4fb5-45c7-8eae-84b149209ebc button.colab-df-convert');\n",
              "        buttonEl.style.display =\n",
              "          google.colab.kernel.accessAllowed ? 'block' : 'none';\n",
              "\n",
              "        async function convertToInteractive(key) {\n",
              "          const element = document.querySelector('#df-bbf1ecf5-4fb5-45c7-8eae-84b149209ebc');\n",
              "          const dataTable =\n",
              "            await google.colab.kernel.invokeFunction('convertToInteractive',\n",
              "                                                     [key], {});\n",
              "          if (!dataTable) return;\n",
              "\n",
              "          const docLinkHtml = 'Like what you see? Visit the ' +\n",
              "            '<a target=\"_blank\" href=https://colab.research.google.com/notebooks/data_table.ipynb>data table notebook</a>'\n",
              "            + ' to learn more about interactive tables.';\n",
              "          element.innerHTML = '';\n",
              "          dataTable['output_type'] = 'display_data';\n",
              "          await google.colab.output.renderOutput(dataTable, element);\n",
              "          const docLink = document.createElement('div');\n",
              "          docLink.innerHTML = docLinkHtml;\n",
              "          element.appendChild(docLink);\n",
              "        }\n",
              "      </script>\n",
              "    </div>\n",
              "  </div>\n",
              "  "
            ]
          },
          "metadata": {},
          "execution_count": 68
        }
      ],
      "source": [
        "#Progresso do armazenamento\n",
        "historico = pd.DataFrame(history.history)\n",
        "historico['epoch'] = history.epoch\n",
        "historico.tail()"
      ]
    },
    {
      "cell_type": "code",
      "execution_count": null,
      "metadata": {
        "id": "CPsAvVxXo_mC",
        "colab": {
          "base_uri": "https://localhost:8080/",
          "height": 334
        },
        "outputId": "95977617-9523-44cf-d05b-9ccd5f2bb434"
      },
      "outputs": [
        {
          "output_type": "display_data",
          "data": {
            "text/plain": [
              "<Figure size 720x360 with 1 Axes>"
            ],
            "image/png": "[encoded data removed]"
          },
          "metadata": {
            "needs_background": "light"
          }
        }
      ],
      "source": [
        "def plota_historico(history, limita=False):\n",
        "  hist = pd.DataFrame(history.history)\n",
        "  hist['epoch'] = history.epoch\n",
        "\n",
        "  plt.figure(figsize=(10,5))\n",
        "  plt.xlabel('Epoch')\n",
        "  plt.ylabel('Erro Médio Absoluto')\n",
        "  plt.plot(hist['epoch'], hist['mae'],\n",
        "           label='Erro de Treinamento')\n",
        "  plt.legend(loc='best', fontsize=25)\n",
        "  plt.plot(hist['epoch'], hist['val_mae'],\n",
        "           label = 'Erro de Validação')\n",
        "  plt.legend(loc='best', fontsize=15)\n",
        "  if limita == True:\n",
        "    plt.ylim([0,5])\n",
        "  plt.legend()\n",
        "  plt.show()\n",
        "\n",
        "\n",
        "plota_historico(history)"
      ]
    },
    {
      "cell_type": "code",
      "execution_count": null,
      "metadata": {
        "id": "yArZEdvMol8Y",
        "colab": {
          "base_uri": "https://localhost:8080/",
          "height": 372
        },
        "outputId": "a30a895a-35ac-43ab-ac03-eac945e31e39"
      },
      "outputs": [
        {
          "output_type": "stream",
          "name": "stdout",
          "text": [
            "\n",
            "---------------------------------------------------"
          ]
        },
        {
          "output_type": "display_data",
          "data": {
            "text/plain": [
              "<Figure size 720x360 with 1 Axes>"
            ],
            "image/png": "[encoded data removed]"
          },
          "metadata": {
            "needs_background": "light"
          }
        }
      ],
      "source": [
        "#O model.fit para automaticamente o treinamento quando o validation score não aumentar mais.\n",
        "model = constroi_modelo()\n",
        "\n",
        "early_stop = keras.callbacks.EarlyStopping(monitor='val_loss', patience=10)\n",
        "\n",
        "history = model.fit(normed_train_data, train_labels, epochs=EPOCHS,\n",
        "                    validation_split = 0.2, verbose=0, callbacks=[early_stop, MostraProgresso()])\n",
        "\n",
        "plota_historico(history)"
      ]
    },
    {
      "cell_type": "markdown",
      "metadata": {
        "id": "Cv01h7T7iLUM"
      },
      "source": [
        "<h8>Previsões"
      ]
    },
    {
      "cell_type": "code",
      "execution_count": null,
      "metadata": {
        "id": "oG6UoBQvhtiR",
        "colab": {
          "base_uri": "https://localhost:8080/",
          "height": 287
        },
        "outputId": "857400d6-9a5a-4b8d-9d7e-a427a59e58b5"
      },
      "outputs": [
        {
          "output_type": "display_data",
          "data": {
            "text/plain": [
              "<Figure size 432x288 with 1 Axes>"
            ],
            "image/png": "[encoded data removed]"
          },
          "metadata": {
            "needs_background": "light"
          }
        }
      ],
      "source": [
        "previsoes_teste = model.predict(normed_test_data).flatten()\n",
        "\n",
        "plt.scatter(test_labels, previsoes_teste)\n",
        "plt.xlabel('Valores Reais [Idade]', fontsize=18)\n",
        "plt.ylabel('Previsões [Idade]', fontsize=18)\n",
        "plt.axis('equal')\n",
        "plt.axis('square')\n",
        "plt.xlim([0,plt.xlim()[1]])\n",
        "plt.ylim([0,plt.ylim()[1]])\n",
        "_ = plt.plot([-100, 100], [-100, 100])"
      ]
    },
    {
      "cell_type": "code",
      "execution_count": null,
      "metadata": {
        "id": "0t_x9lTqEiZt",
        "colab": {
          "base_uri": "https://localhost:8080/"
        },
        "outputId": "e5c1b8e8-eca2-461e-ef5c-8c19c472a3cf"
      },
      "outputs": [
        {
          "output_type": "stream",
          "name": "stdout",
          "text": [
            "MEA 1.5398929746285692\n"
          ]
        }
      ],
      "source": [
        "from sklearn import metrics\n",
        "print(\"MAE\", metrics.mean_absolute_error(test_labels, previsoes_teste))"
      ]
    },
    {
      "cell_type": "code",
      "source": [
        "print(\"MSE\", metrics.mean_squared_error(test_labels, previsoes_teste))"
      ],
      "metadata": {
        "colab": {
          "base_uri": "https://localhost:8080/"
        },
        "id": "C6GtNim1H9fL",
        "outputId": "35e971e6-9dd8-423e-a0fb-89ee4a6c16c2"
      },
      "execution_count": null,
      "outputs": [
        {
          "output_type": "stream",
          "name": "stdout",
          "text": [
            "MSE 4.346977110827927\n"
          ]
        }
      ]
    },
    {
      "cell_type": "code",
      "source": [
        "print(\"RMSE\", np.sqrt(metrics.mean_squared_error(test_labels, previsoes_teste)))"
      ],
      "metadata": {
        "colab": {
          "base_uri": "https://localhost:8080/"
        },
        "id": "dW-uRVVZIK6M",
        "outputId": "972a4afe-45d8-447f-e07e-f370f1980f96"
      },
      "execution_count": null,
      "outputs": [
        {
          "output_type": "stream",
          "name": "stdout",
          "text": [
            "RMSE 2.084940553307918\n"
          ]
        }
      ]
    }
  ],
  "metadata": {
    "colab": {
      "collapsed_sections": [],
      "name": "Projeto de Regressão.ipynb",
      "provenance": []
    },
    "kernelspec": {
      "display_name": "Python 3",
      "name": "python3"
    },
    "language_info": {
      "name": "python"
    }
  },
  "nbformat": 4,
  "nbformat_minor": 0
}